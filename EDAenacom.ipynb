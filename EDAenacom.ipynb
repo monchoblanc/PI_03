{
 "cells": [
  {
   "cell_type": "markdown",
   "metadata": {},
   "source": [
    "                                            \n",
    "                                            \n",
    "                                            EDA\n",
    "\n",
    "Ya tengo los datasets de cada tabla de /dashboards/20000/acceso-a-internet/ en formato CSV. Comienzo la Exploracion de Datos.\n",
    "\n",
    "\n",
    "De este link (https://api.datosabiertos.enacom.gob.ar/api/v2/datasets/?auth_key=nIB5dLAn1gsXoAIuG2qAYX8yPdvmMFqCYNBd0Wl3), ingresando a cada dataset relacionado con 'internet', observo que hay csv's (tablas/series de la API) que se desprenden del mismo dataset, con lo cual los identifico (con letras) para tener mas claro qué tablas provienen de qué dataset, y cuales provienen del mismo.\n",
    "\n",
    "Los csv estan comentados con numero ademas de su nombre como DataFrames, para facilitar la identificacion, ya que los nombres y tematicas son similares y recurrentes. \n",
    "\n",
    "Los diferentes Datasets de la api: \n",
    "\n",
    "ACCESO A INTERNET FIJO POR TECNOLOGIA Y PROVINCIA - A - csv nro: 9,10.\n",
    "\n",
    "ACCESOS POR RANGOS DE VELOCIDAD DE BAJADA Y PROVINCIA - B - 1,11,12.\n",
    "\n",
    "PENETRACION DEL SERVICIO DE INTERNET FIJO POR POBLACION Y POR HOGARES - C - 7,8.\n",
    "\n",
    "INGRESOS POR LA OPERACION DE INTERNET FIJO, TRIMESTRAL - D - 13.\n",
    "\n",
    "ACCESOS A INTERNET FIJO POR TECNOLOGIA Y LOCALIDAD - E - 2,14,15.\n",
    "\n",
    "ACCESOS A INTERNET FIJO POR VELOCIDAD DE BAJADA Y LOCALIDAD - F - 3.\n",
    "\n",
    "VELOCIDAD MEDIA DE BAJADA DE INTERNET FIJO POR PROVINCIA Y NACIONAL, TRIMESTRAL - G - 5,6.\n",
    "\n",
    "ACCESOS A INTERNET FIJO POR BANCHA ANCHA Y ANGOSTA - H - 4,16.\n",
    "\n"
   ]
  },
  {
   "cell_type": "markdown",
   "metadata": {},
   "source": [
    "Ahora realizo para cada csv, una exploracion inicial basica para orientarme en el analisis:\n",
    "Busco: tamanio (shape)? datos y tipos de datos? faltantes? info relevante? "
   ]
  },
  {
   "cell_type": "code",
   "execution_count": 2,
   "metadata": {},
   "outputs": [],
   "source": [
    "#importo librerias:\n",
    "import pandas as pd\n",
    "import numpy as np\n",
    "import matplotlib.pyplot as plt\n",
    "import seaborn as sns\n"
   ]
  },
  {
   "cell_type": "markdown",
   "metadata": {},
   "source": [
    "Empiezo en orden (1 a 16) en que los tengo descargados en mi carpeta, por facilidad. "
   ]
  },
  {
   "cell_type": "code",
   "execution_count": 3,
   "metadata": {},
   "outputs": [],
   "source": [
    "# Dataset numero 1: corresponde a Datase B de la API. \n",
    "\n",
    "vel_bajada=pd.read_csv('Acc_internet_fijo_vel_bajada_prov.csv')  #cambiar a path entero? si subo todo al repo no hace falta. \n"
   ]
  },
  {
   "cell_type": "code",
   "execution_count": 4,
   "metadata": {},
   "outputs": [
    {
     "name": "stdout",
     "output_type": "stream",
     "text": [
      "<class 'pandas.core.frame.DataFrame'>\n",
      "RangeIndex: 433 entries, 0 to 432\n",
      "Data columns (total 97 columns):\n",
      " #   Column      Non-Null Count  Dtype  \n",
      "---  ------      --------------  -----  \n",
      " 0   Año         432 non-null    float64\n",
      " 1   Trimestre   432 non-null    float64\n",
      " 2   Provincia   432 non-null    object \n",
      " 3   Otros       432 non-null    object \n",
      " 4   0,256 Mbps  432 non-null    object \n",
      " 5   0,375 Mbps  432 non-null    object \n",
      " 6   0,625 Mbps  432 non-null    object \n",
      " 7   0,5 Mbps    432 non-null    object \n",
      " 8   0,512 Mbps  432 non-null    object \n",
      " 9   0,75 Mbps   432 non-null    object \n",
      " 10  1 Mbps      432 non-null    object \n",
      " 11  1,2 Mbps    432 non-null    object \n",
      " 12  1,25 Mbps   432 non-null    object \n",
      " 13  1,5 Mbps    432 non-null    object \n",
      " 14  2 Mbps      432 non-null    object \n",
      " 15  2,2 Mbps    432 non-null    object \n",
      " 16  2,5 Mbps    433 non-null    object \n",
      " 17  6,7 Mbps    432 non-null    object \n",
      " 18  3 Mbps      432 non-null    object \n",
      " 19  3,2 Mbps    432 non-null    object \n",
      " 20  3,3 Mbps    432 non-null    object \n",
      " 21  3,5 Mbps    432 non-null    object \n",
      " 22  4 Mbps      432 non-null    object \n",
      " 23  4,5 Mbps    432 non-null    object \n",
      " 24  5 Mbps      432 non-null    object \n",
      " 25  6 Mbps      432 non-null    object \n",
      " 26  6,4 Mbps    432 non-null    object \n",
      " 27  7 Mbps      432 non-null    object \n",
      " 28  7,5 Mbps    432 non-null    object \n",
      " 29  8 Mbps      432 non-null    object \n",
      " 30  9 Mbps      432 non-null    object \n",
      " 31  10 Mbps     432 non-null    object \n",
      " 32  10,6 Mbps   432 non-null    object \n",
      " 33  11 Mbps     432 non-null    object \n",
      " 34  12 Mbps     432 non-null    object \n",
      " 35  13 Mbps     432 non-null    object \n",
      " 36  14 Mbps     432 non-null    object \n",
      " 37  15 Mbps     432 non-null    object \n",
      " 38  16 Mbps     432 non-null    object \n",
      " 39  17 Mbps     432 non-null    object \n",
      " 40  18 Mbps     432 non-null    object \n",
      " 41  19 Mbps     432 non-null    object \n",
      " 42  20 Mbps     432 non-null    object \n",
      " 43  21 Mbps     432 non-null    object \n",
      " 44  22 Mbps     432 non-null    object \n",
      " 45  23 Mbps     432 non-null    object \n",
      " 46  24 Mbps     432 non-null    object \n",
      " 47  25 Mbps     432 non-null    object \n",
      " 48  25,1 Mbps   432 non-null    object \n",
      " 49  25,11 Mbps  432 non-null    object \n",
      " 50  25,5 Mbps   432 non-null    object \n",
      " 51  26 Mbps     432 non-null    object \n",
      " 52  28 Mbps     432 non-null    object \n",
      " 53  29 Mbps     432 non-null    object \n",
      " 54  30 Mbps     432 non-null    object \n",
      " 55  31 Mbps     432 non-null    object \n",
      " 56  32 Mbps     432 non-null    object \n",
      " 57  34 Mbps     432 non-null    object \n",
      " 58  35 Mbps     432 non-null    object \n",
      " 59  36 Mbps     432 non-null    object \n",
      " 60  37 Mbps     432 non-null    object \n",
      " 61  38 Mbps     432 non-null    object \n",
      " 62  39 Mbps     432 non-null    object \n",
      " 63  40 Mbps     432 non-null    object \n",
      " 64  41 Mbps     432 non-null    object \n",
      " 65  45 Mbps     432 non-null    object \n",
      " 66  46 Mbps     432 non-null    object \n",
      " 67  47 Mbps     432 non-null    object \n",
      " 68  48 Mbps     432 non-null    object \n",
      " 69  49 Mbps     432 non-null    object \n",
      " 70  50 Mbps     432 non-null    object \n",
      " 71  51 Mbps     432 non-null    object \n",
      " 72  52 Mbps     432 non-null    object \n",
      " 73  54 Mbps     432 non-null    object \n",
      " 74  55 Mbps     432 non-null    object \n",
      " 75  56 Mbps     432 non-null    object \n",
      " 76  58 Mbps     432 non-null    object \n",
      " 77  59 Mbps     432 non-null    object \n",
      " 78  60 Mbps     432 non-null    object \n",
      " 79  61 Mbps     432 non-null    object \n",
      " 80  62 Mbps     432 non-null    object \n",
      " 81  63 Mbps     432 non-null    object \n",
      " 82  64 Mbps     432 non-null    object \n",
      " 83  65 Mbps     432 non-null    object \n",
      " 84  66 Mbps     432 non-null    object \n",
      " 85  67 Mbps     432 non-null    object \n",
      " 86  68 Mbps     432 non-null    object \n",
      " 87  70 Mbps     432 non-null    object \n",
      " 88  71 Mbps     432 non-null    object \n",
      " 89  75 Mbps     432 non-null    object \n",
      " 90  77 Mbps     432 non-null    object \n",
      " 91  78 Mbps     432 non-null    object \n",
      " 92  80 Mbps     432 non-null    object \n",
      " 93  81 Mbps     432 non-null    object \n",
      " 94  83 Mbps     432 non-null    object \n",
      " 95  82 Mbps     432 non-null    object \n",
      " 96  86 Mbps     432 non-null    object \n",
      "dtypes: float64(2), object(95)\n",
      "memory usage: 328.3+ KB\n"
     ]
    }
   ],
   "source": [
    "vel_bajada.info()"
   ]
  },
  {
   "cell_type": "code",
   "execution_count": 5,
   "metadata": {},
   "outputs": [
    {
     "data": {
      "text/html": [
       "<div>\n",
       "<style scoped>\n",
       "    .dataframe tbody tr th:only-of-type {\n",
       "        vertical-align: middle;\n",
       "    }\n",
       "\n",
       "    .dataframe tbody tr th {\n",
       "        vertical-align: top;\n",
       "    }\n",
       "\n",
       "    .dataframe thead th {\n",
       "        text-align: right;\n",
       "    }\n",
       "</style>\n",
       "<table border=\"1\" class=\"dataframe\">\n",
       "  <thead>\n",
       "    <tr style=\"text-align: right;\">\n",
       "      <th></th>\n",
       "      <th>Año</th>\n",
       "      <th>Trimestre</th>\n",
       "    </tr>\n",
       "  </thead>\n",
       "  <tbody>\n",
       "    <tr>\n",
       "      <th>count</th>\n",
       "      <td>432.000000</td>\n",
       "      <td>432.000000</td>\n",
       "    </tr>\n",
       "    <tr>\n",
       "      <th>mean</th>\n",
       "      <td>2019.500000</td>\n",
       "      <td>2.500000</td>\n",
       "    </tr>\n",
       "    <tr>\n",
       "      <th>std</th>\n",
       "      <td>1.345268</td>\n",
       "      <td>1.168019</td>\n",
       "    </tr>\n",
       "    <tr>\n",
       "      <th>min</th>\n",
       "      <td>2017.000000</td>\n",
       "      <td>1.000000</td>\n",
       "    </tr>\n",
       "    <tr>\n",
       "      <th>25%</th>\n",
       "      <td>2018.000000</td>\n",
       "      <td>1.000000</td>\n",
       "    </tr>\n",
       "    <tr>\n",
       "      <th>50%</th>\n",
       "      <td>2019.500000</td>\n",
       "      <td>2.500000</td>\n",
       "    </tr>\n",
       "    <tr>\n",
       "      <th>75%</th>\n",
       "      <td>2021.000000</td>\n",
       "      <td>4.000000</td>\n",
       "    </tr>\n",
       "    <tr>\n",
       "      <th>max</th>\n",
       "      <td>2022.000000</td>\n",
       "      <td>4.000000</td>\n",
       "    </tr>\n",
       "  </tbody>\n",
       "</table>\n",
       "</div>"
      ],
      "text/plain": [
       "               Año   Trimestre\n",
       "count   432.000000  432.000000\n",
       "mean   2019.500000    2.500000\n",
       "std       1.345268    1.168019\n",
       "min    2017.000000    1.000000\n",
       "25%    2018.000000    1.000000\n",
       "50%    2019.500000    2.500000\n",
       "75%    2021.000000    4.000000\n",
       "max    2022.000000    4.000000"
      ]
     },
     "execution_count": 5,
     "metadata": {},
     "output_type": "execute_result"
    }
   ],
   "source": [
    "vel_bajada.describe() #solo me toma los 'float', convetir el resto?"
   ]
  },
  {
   "cell_type": "code",
   "execution_count": 6,
   "metadata": {},
   "outputs": [
    {
     "data": {
      "text/plain": [
       "(433, 97)"
      ]
     },
     "execution_count": 6,
     "metadata": {},
     "output_type": "execute_result"
    }
   ],
   "source": [
    "vel_bajada.shape"
   ]
  },
  {
   "cell_type": "code",
   "execution_count": 7,
   "metadata": {},
   "outputs": [
    {
     "data": {
      "text/html": [
       "<div>\n",
       "<style scoped>\n",
       "    .dataframe tbody tr th:only-of-type {\n",
       "        vertical-align: middle;\n",
       "    }\n",
       "\n",
       "    .dataframe tbody tr th {\n",
       "        vertical-align: top;\n",
       "    }\n",
       "\n",
       "    .dataframe thead th {\n",
       "        text-align: right;\n",
       "    }\n",
       "</style>\n",
       "<table border=\"1\" class=\"dataframe\">\n",
       "  <thead>\n",
       "    <tr style=\"text-align: right;\">\n",
       "      <th></th>\n",
       "      <th>Año</th>\n",
       "      <th>Trimestre</th>\n",
       "      <th>Provincia</th>\n",
       "      <th>Otros</th>\n",
       "      <th>0,256 Mbps</th>\n",
       "      <th>0,375 Mbps</th>\n",
       "      <th>0,625 Mbps</th>\n",
       "      <th>0,5 Mbps</th>\n",
       "      <th>0,512 Mbps</th>\n",
       "      <th>0,75 Mbps</th>\n",
       "      <th>...</th>\n",
       "      <th>70 Mbps</th>\n",
       "      <th>71 Mbps</th>\n",
       "      <th>75 Mbps</th>\n",
       "      <th>77 Mbps</th>\n",
       "      <th>78 Mbps</th>\n",
       "      <th>80 Mbps</th>\n",
       "      <th>81 Mbps</th>\n",
       "      <th>83 Mbps</th>\n",
       "      <th>82 Mbps</th>\n",
       "      <th>86 Mbps</th>\n",
       "    </tr>\n",
       "  </thead>\n",
       "  <tbody>\n",
       "    <tr>\n",
       "      <th>0</th>\n",
       "      <td>2022.0</td>\n",
       "      <td>1.0</td>\n",
       "      <td>Buenos Aires</td>\n",
       "      <td>26,280</td>\n",
       "      <td>19</td>\n",
       "      <td>- 0</td>\n",
       "      <td>- 0</td>\n",
       "      <td>31,380</td>\n",
       "      <td>192</td>\n",
       "      <td>5,958</td>\n",
       "      <td>...</td>\n",
       "      <td>3,163</td>\n",
       "      <td>- 0</td>\n",
       "      <td>100,884</td>\n",
       "      <td>- 0</td>\n",
       "      <td>4</td>\n",
       "      <td>212</td>\n",
       "      <td>- 0</td>\n",
       "      <td>2</td>\n",
       "      <td>- 0</td>\n",
       "      <td>- 0</td>\n",
       "    </tr>\n",
       "    <tr>\n",
       "      <th>1</th>\n",
       "      <td>2022.0</td>\n",
       "      <td>1.0</td>\n",
       "      <td>Capital Federal</td>\n",
       "      <td>1,717</td>\n",
       "      <td>31</td>\n",
       "      <td>- 0</td>\n",
       "      <td>- 0</td>\n",
       "      <td>461</td>\n",
       "      <td>35</td>\n",
       "      <td>1,407</td>\n",
       "      <td>...</td>\n",
       "      <td>3</td>\n",
       "      <td>- 0</td>\n",
       "      <td>31,684</td>\n",
       "      <td>- 0</td>\n",
       "      <td>- 0</td>\n",
       "      <td>8</td>\n",
       "      <td>- 0</td>\n",
       "      <td>- 0</td>\n",
       "      <td>- 0</td>\n",
       "      <td>- 0</td>\n",
       "    </tr>\n",
       "    <tr>\n",
       "      <th>2</th>\n",
       "      <td>2022.0</td>\n",
       "      <td>1.0</td>\n",
       "      <td>Catamarca</td>\n",
       "      <td>2,207</td>\n",
       "      <td>- 0</td>\n",
       "      <td>- 0</td>\n",
       "      <td>- 0</td>\n",
       "      <td>34</td>\n",
       "      <td>37</td>\n",
       "      <td>- 0</td>\n",
       "      <td>...</td>\n",
       "      <td>- 0</td>\n",
       "      <td>- 0</td>\n",
       "      <td>- 0</td>\n",
       "      <td>- 0</td>\n",
       "      <td>- 0</td>\n",
       "      <td>- 0</td>\n",
       "      <td>- 0</td>\n",
       "      <td>- 0</td>\n",
       "      <td>- 0</td>\n",
       "      <td>- 0</td>\n",
       "    </tr>\n",
       "    <tr>\n",
       "      <th>3</th>\n",
       "      <td>2022.0</td>\n",
       "      <td>1.0</td>\n",
       "      <td>Chaco</td>\n",
       "      <td>7,580</td>\n",
       "      <td>- 0</td>\n",
       "      <td>225</td>\n",
       "      <td>111</td>\n",
       "      <td>234</td>\n",
       "      <td>2</td>\n",
       "      <td>- 0</td>\n",
       "      <td>...</td>\n",
       "      <td>- 0</td>\n",
       "      <td>- 0</td>\n",
       "      <td>- 0</td>\n",
       "      <td>- 0</td>\n",
       "      <td>- 0</td>\n",
       "      <td>- 0</td>\n",
       "      <td>- 0</td>\n",
       "      <td>- 0</td>\n",
       "      <td>- 0</td>\n",
       "      <td>- 0</td>\n",
       "    </tr>\n",
       "    <tr>\n",
       "      <th>4</th>\n",
       "      <td>2022.0</td>\n",
       "      <td>1.0</td>\n",
       "      <td>Chubut</td>\n",
       "      <td>15,607</td>\n",
       "      <td>8</td>\n",
       "      <td>- 0</td>\n",
       "      <td>- 0</td>\n",
       "      <td>73</td>\n",
       "      <td>32</td>\n",
       "      <td>1,069</td>\n",
       "      <td>...</td>\n",
       "      <td>- 0</td>\n",
       "      <td>- 0</td>\n",
       "      <td>- 0</td>\n",
       "      <td>- 0</td>\n",
       "      <td>- 0</td>\n",
       "      <td>- 0</td>\n",
       "      <td>- 0</td>\n",
       "      <td>- 0</td>\n",
       "      <td>- 0</td>\n",
       "      <td>- 0</td>\n",
       "    </tr>\n",
       "  </tbody>\n",
       "</table>\n",
       "<p>5 rows × 97 columns</p>\n",
       "</div>"
      ],
      "text/plain": [
       "      Año  Trimestre        Provincia   Otros 0,256 Mbps 0,375 Mbps  \\\n",
       "0  2022.0        1.0     Buenos Aires  26,280         19        - 0   \n",
       "1  2022.0        1.0  Capital Federal   1,717         31        - 0   \n",
       "2  2022.0        1.0        Catamarca   2,207        - 0        - 0   \n",
       "3  2022.0        1.0            Chaco   7,580        - 0        225   \n",
       "4  2022.0        1.0           Chubut  15,607          8        - 0   \n",
       "\n",
       "  0,625 Mbps 0,5 Mbps 0,512 Mbps 0,75 Mbps  ... 70 Mbps 71 Mbps  75 Mbps  \\\n",
       "0        - 0   31,380        192     5,958  ...   3,163     - 0  100,884   \n",
       "1        - 0      461         35     1,407  ...       3     - 0   31,684   \n",
       "2        - 0       34         37       - 0  ...     - 0     - 0      - 0   \n",
       "3        111      234          2       - 0  ...     - 0     - 0      - 0   \n",
       "4        - 0       73         32     1,069  ...     - 0     - 0      - 0   \n",
       "\n",
       "  77 Mbps 78 Mbps 80 Mbps 81 Mbps 83 Mbps 82 Mbps 86 Mbps  \n",
       "0     - 0       4     212     - 0       2     - 0     - 0  \n",
       "1     - 0     - 0       8     - 0     - 0     - 0     - 0  \n",
       "2     - 0     - 0     - 0     - 0     - 0     - 0     - 0  \n",
       "3     - 0     - 0     - 0     - 0     - 0     - 0     - 0  \n",
       "4     - 0     - 0     - 0     - 0     - 0     - 0     - 0  \n",
       "\n",
       "[5 rows x 97 columns]"
      ]
     },
     "execution_count": 7,
     "metadata": {},
     "output_type": "execute_result"
    }
   ],
   "source": [
    "vel_bajada.head()\n",
    "# Por el momento no parece relevante!!, \n",
    "# tiene fechas entre 2017 y 2022."
   ]
  },
  {
   "cell_type": "code",
   "execution_count": 8,
   "metadata": {},
   "outputs": [
    {
     "data": {
      "text/html": [
       "<div>\n",
       "<style scoped>\n",
       "    .dataframe tbody tr th:only-of-type {\n",
       "        vertical-align: middle;\n",
       "    }\n",
       "\n",
       "    .dataframe tbody tr th {\n",
       "        vertical-align: top;\n",
       "    }\n",
       "\n",
       "    .dataframe thead th {\n",
       "        text-align: right;\n",
       "    }\n",
       "</style>\n",
       "<table border=\"1\" class=\"dataframe\">\n",
       "  <thead>\n",
       "    <tr style=\"text-align: right;\">\n",
       "      <th></th>\n",
       "      <th>Año</th>\n",
       "      <th>Trimestre</th>\n",
       "    </tr>\n",
       "  </thead>\n",
       "  <tbody>\n",
       "    <tr>\n",
       "      <th>count</th>\n",
       "      <td>432.000000</td>\n",
       "      <td>432.000000</td>\n",
       "    </tr>\n",
       "    <tr>\n",
       "      <th>mean</th>\n",
       "      <td>2019.500000</td>\n",
       "      <td>2.500000</td>\n",
       "    </tr>\n",
       "    <tr>\n",
       "      <th>std</th>\n",
       "      <td>1.345268</td>\n",
       "      <td>1.168019</td>\n",
       "    </tr>\n",
       "    <tr>\n",
       "      <th>min</th>\n",
       "      <td>2017.000000</td>\n",
       "      <td>1.000000</td>\n",
       "    </tr>\n",
       "    <tr>\n",
       "      <th>25%</th>\n",
       "      <td>2018.000000</td>\n",
       "      <td>1.000000</td>\n",
       "    </tr>\n",
       "    <tr>\n",
       "      <th>50%</th>\n",
       "      <td>2019.500000</td>\n",
       "      <td>2.500000</td>\n",
       "    </tr>\n",
       "    <tr>\n",
       "      <th>75%</th>\n",
       "      <td>2021.000000</td>\n",
       "      <td>4.000000</td>\n",
       "    </tr>\n",
       "    <tr>\n",
       "      <th>max</th>\n",
       "      <td>2022.000000</td>\n",
       "      <td>4.000000</td>\n",
       "    </tr>\n",
       "  </tbody>\n",
       "</table>\n",
       "</div>"
      ],
      "text/plain": [
       "               Año   Trimestre\n",
       "count   432.000000  432.000000\n",
       "mean   2019.500000    2.500000\n",
       "std       1.345268    1.168019\n",
       "min    2017.000000    1.000000\n",
       "25%    2018.000000    1.000000\n",
       "50%    2019.500000    2.500000\n",
       "75%    2021.000000    4.000000\n",
       "max    2022.000000    4.000000"
      ]
     },
     "execution_count": 8,
     "metadata": {},
     "output_type": "execute_result"
    }
   ],
   "source": [
    "vel_bajada.describe()"
   ]
  },
  {
   "cell_type": "markdown",
   "metadata": {},
   "source": [
    "Conclusion: nada apreciable por ahora. vizualizarlo como timeseries? solo está el periodo 2017-2022(1er trimestre). Comparacion con media internacional? \n",
    "\n",
    "POR AHORA NO CONSIDERO EN MAYOR PROFUNDIDAD ESTE DSet, ademas, porque tengo info similar en los DS 5, 11 y 12. "
   ]
  },
  {
   "cell_type": "code",
   "execution_count": 9,
   "metadata": {},
   "outputs": [],
   "source": [
    "# Dataset numero 2: E\n",
    "\n",
    "acc_tecnologia_localidad=pd.read_csv('Accesos_internet_fijo_tec_loca.csv')"
   ]
  },
  {
   "cell_type": "code",
   "execution_count": 10,
   "metadata": {},
   "outputs": [
    {
     "data": {
      "text/plain": [
       "(3127, 14)"
      ]
     },
     "execution_count": 10,
     "metadata": {},
     "output_type": "execute_result"
    }
   ],
   "source": [
    "acc_tecnologia_localidad.shape"
   ]
  },
  {
   "cell_type": "code",
   "execution_count": 11,
   "metadata": {},
   "outputs": [
    {
     "name": "stdout",
     "output_type": "stream",
     "text": [
      "<class 'pandas.core.frame.DataFrame'>\n",
      "RangeIndex: 3127 entries, 0 to 3126\n",
      "Data columns (total 14 columns):\n",
      " #   Column         Non-Null Count  Dtype  \n",
      "---  ------         --------------  -----  \n",
      " 0   Provincia      3127 non-null   object \n",
      " 1   Partido        3127 non-null   object \n",
      " 2   Localidad      3127 non-null   object \n",
      " 3   Link Indec     3127 non-null   object \n",
      " 4   ADSL           3127 non-null   object \n",
      " 5   CABLEMODEM     3127 non-null   object \n",
      " 6   DIAL UP        3127 non-null   object \n",
      " 7   FIBRA OPTICA   3127 non-null   object \n",
      " 8   OTROS          3127 non-null   object \n",
      " 9   SATELITAL      3127 non-null   object \n",
      " 10  WIMAX          3127 non-null   object \n",
      " 11  WIRELESS       3127 non-null   object \n",
      " 12  Total general  3127 non-null   object \n",
      " 13  Unnamed: 13    0 non-null      float64\n",
      "dtypes: float64(1), object(13)\n",
      "memory usage: 342.1+ KB\n"
     ]
    }
   ],
   "source": [
    "acc_tecnologia_localidad.info() #todos type object, sin nulos. "
   ]
  },
  {
   "cell_type": "code",
   "execution_count": 12,
   "metadata": {},
   "outputs": [],
   "source": [
    "#acc_tecnologia_localidad.describe()\n",
    "# no me sirve si el unico numerico es todo nulo. claramente puedo descartar esa col."
   ]
  },
  {
   "cell_type": "code",
   "execution_count": 13,
   "metadata": {},
   "outputs": [
    {
     "data": {
      "text/html": [
       "<div>\n",
       "<style scoped>\n",
       "    .dataframe tbody tr th:only-of-type {\n",
       "        vertical-align: middle;\n",
       "    }\n",
       "\n",
       "    .dataframe tbody tr th {\n",
       "        vertical-align: top;\n",
       "    }\n",
       "\n",
       "    .dataframe thead th {\n",
       "        text-align: right;\n",
       "    }\n",
       "</style>\n",
       "<table border=\"1\" class=\"dataframe\">\n",
       "  <thead>\n",
       "    <tr style=\"text-align: right;\">\n",
       "      <th></th>\n",
       "      <th>Provincia</th>\n",
       "      <th>Partido</th>\n",
       "      <th>Localidad</th>\n",
       "      <th>Link Indec</th>\n",
       "      <th>ADSL</th>\n",
       "      <th>CABLEMODEM</th>\n",
       "      <th>DIAL UP</th>\n",
       "      <th>FIBRA OPTICA</th>\n",
       "      <th>OTROS</th>\n",
       "      <th>SATELITAL</th>\n",
       "      <th>WIMAX</th>\n",
       "      <th>WIRELESS</th>\n",
       "      <th>Total general</th>\n",
       "      <th>Unnamed: 13</th>\n",
       "    </tr>\n",
       "  </thead>\n",
       "  <tbody>\n",
       "    <tr>\n",
       "      <th>0</th>\n",
       "      <td>BUENOS AIRES</td>\n",
       "      <td>25 de Mayo</td>\n",
       "      <td>25 de Mayo</td>\n",
       "      <td>6854100</td>\n",
       "      <td>914</td>\n",
       "      <td>4.704</td>\n",
       "      <td>- 0</td>\n",
       "      <td>5</td>\n",
       "      <td>- 0</td>\n",
       "      <td>975</td>\n",
       "      <td>- 0</td>\n",
       "      <td>664</td>\n",
       "      <td>7.262</td>\n",
       "      <td>NaN</td>\n",
       "    </tr>\n",
       "    <tr>\n",
       "      <th>1</th>\n",
       "      <td>BUENOS AIRES</td>\n",
       "      <td>25 de Mayo</td>\n",
       "      <td>Del Valle</td>\n",
       "      <td>6854020</td>\n",
       "      <td>181</td>\n",
       "      <td>- 0</td>\n",
       "      <td>- 0</td>\n",
       "      <td>- 0</td>\n",
       "      <td>10</td>\n",
       "      <td>1</td>\n",
       "      <td>- 0</td>\n",
       "      <td>- 0</td>\n",
       "      <td>192</td>\n",
       "      <td>NaN</td>\n",
       "    </tr>\n",
       "    <tr>\n",
       "      <th>2</th>\n",
       "      <td>BUENOS AIRES</td>\n",
       "      <td>25 de Mayo</td>\n",
       "      <td>Gobernador Ugarte</td>\n",
       "      <td>6854040</td>\n",
       "      <td>- 0</td>\n",
       "      <td>- 0</td>\n",
       "      <td>- 0</td>\n",
       "      <td>- 0</td>\n",
       "      <td>- 0</td>\n",
       "      <td>- 0</td>\n",
       "      <td>- 0</td>\n",
       "      <td>181</td>\n",
       "      <td>181</td>\n",
       "      <td>NaN</td>\n",
       "    </tr>\n",
       "    <tr>\n",
       "      <th>3</th>\n",
       "      <td>BUENOS AIRES</td>\n",
       "      <td>25 de Mayo</td>\n",
       "      <td>Norberto de la Riestra</td>\n",
       "      <td>6854060</td>\n",
       "      <td>- 0</td>\n",
       "      <td>782</td>\n",
       "      <td>- 0</td>\n",
       "      <td>- 0</td>\n",
       "      <td>18</td>\n",
       "      <td>- 0</td>\n",
       "      <td>- 0</td>\n",
       "      <td>327</td>\n",
       "      <td>1.127</td>\n",
       "      <td>NaN</td>\n",
       "    </tr>\n",
       "    <tr>\n",
       "      <th>4</th>\n",
       "      <td>BUENOS AIRES</td>\n",
       "      <td>25 de Mayo</td>\n",
       "      <td>Lucas Monteverde</td>\n",
       "      <td>6854050</td>\n",
       "      <td>- 0</td>\n",
       "      <td>- 0</td>\n",
       "      <td>- 0</td>\n",
       "      <td>- 0</td>\n",
       "      <td>- 0</td>\n",
       "      <td>- 0</td>\n",
       "      <td>- 0</td>\n",
       "      <td>6</td>\n",
       "      <td>6</td>\n",
       "      <td>NaN</td>\n",
       "    </tr>\n",
       "  </tbody>\n",
       "</table>\n",
       "</div>"
      ],
      "text/plain": [
       "      Provincia     Partido               Localidad Link Indec ADSL  \\\n",
       "0  BUENOS AIRES  25 de Mayo              25 de Mayo    6854100  914   \n",
       "1  BUENOS AIRES  25 de Mayo               Del Valle    6854020  181   \n",
       "2  BUENOS AIRES  25 de Mayo       Gobernador Ugarte    6854040  - 0   \n",
       "3  BUENOS AIRES  25 de Mayo  Norberto de la Riestra    6854060  - 0   \n",
       "4  BUENOS AIRES  25 de Mayo        Lucas Monteverde    6854050  - 0   \n",
       "\n",
       "  CABLEMODEM DIAL UP FIBRA OPTICA OTROS SATELITAL WIMAX WIRELESS  \\\n",
       "0      4.704     - 0            5   - 0       975   - 0      664   \n",
       "1        - 0     - 0          - 0    10         1   - 0      - 0   \n",
       "2        - 0     - 0          - 0   - 0       - 0   - 0      181   \n",
       "3        782     - 0          - 0    18       - 0   - 0      327   \n",
       "4        - 0     - 0          - 0   - 0       - 0   - 0        6   \n",
       "\n",
       "  Total general  Unnamed: 13  \n",
       "0         7.262          NaN  \n",
       "1           192          NaN  \n",
       "2           181          NaN  \n",
       "3         1.127          NaN  \n",
       "4             6          NaN  "
      ]
     },
     "execution_count": 13,
     "metadata": {},
     "output_type": "execute_result"
    }
   ],
   "source": [
    "acc_tecnologia_localidad.head()"
   ]
  },
  {
   "cell_type": "code",
   "execution_count": 14,
   "metadata": {},
   "outputs": [],
   "source": [
    "#acc_tecnologia_localidad.columns"
   ]
  },
  {
   "cell_type": "markdown",
   "metadata": {},
   "source": [
    "La info en este DF es muy similar a la contenida en el numero 14 y 15, esta ultima teniendo ademas datos de Latitud, Longitud y Poblacion, por lo que utilizare la 15. "
   ]
  },
  {
   "cell_type": "code",
   "execution_count": 16,
   "metadata": {},
   "outputs": [],
   "source": [
    "# Dataset numero 3: F\n",
    "vel_bajada_localidad=pd.read_csv('Accesos_internet_fijo_vel_bajada_loca.csv')"
   ]
  },
  {
   "cell_type": "code",
   "execution_count": 17,
   "metadata": {},
   "outputs": [
    {
     "data": {
      "text/plain": [
       "(3086, 83)"
      ]
     },
     "execution_count": 17,
     "metadata": {},
     "output_type": "execute_result"
    }
   ],
   "source": [
    "vel_bajada_localidad.shape"
   ]
  },
  {
   "cell_type": "code",
   "execution_count": 18,
   "metadata": {},
   "outputs": [
    {
     "name": "stdout",
     "output_type": "stream",
     "text": [
      "<class 'pandas.core.frame.DataFrame'>\n",
      "RangeIndex: 3086 entries, 0 to 3085\n",
      "Data columns (total 83 columns):\n",
      " #   Column      Non-Null Count  Dtype  \n",
      "---  ------      --------------  -----  \n",
      " 0   Provincia   3086 non-null   object \n",
      " 1   Partido     3086 non-null   object \n",
      " 2   Localidad   3086 non-null   object \n",
      " 3   Link Indec  3086 non-null   object \n",
      " 4   Otros       959 non-null    float64\n",
      " 5   0,256 Mbps  29 non-null     float64\n",
      " 6   0,375 Mbps  1 non-null      float64\n",
      " 7   0,5 Mbps    669 non-null    float64\n",
      " 8   0,512 Mbps  524 non-null    float64\n",
      " 9   0,625 Mbps  1 non-null      float64\n",
      " 10  0,75 Mbps   316 non-null    float64\n",
      " 11  1 Mbps      948 non-null    float64\n",
      " 12  1,25 Mbps   1 non-null      float64\n",
      " 13  1,5 Mbps    16 non-null     float64\n",
      " 14  2 Mbps      768 non-null    float64\n",
      " 15  2,2 Mbps    1 non-null      float64\n",
      " 16  2,5 Mbps    3 non-null      float64\n",
      " 17  3 Mbps      1374 non-null   float64\n",
      " 18  3,3 Mbps    1 non-null      float64\n",
      " 19  3,5 Mbps    383 non-null    float64\n",
      " 20  4 Mbps      542 non-null    float64\n",
      " 21  4,5 Mbps    1 non-null      float64\n",
      " 22  5 Mbps      990 non-null    float64\n",
      " 23  6 Mbps      1451 non-null   float64\n",
      " 24  6,4 Mbps    1 non-null      float64\n",
      " 25  7 Mbps      263 non-null    float64\n",
      " 26  7,5 Mbps    4 non-null      float64\n",
      " 27  8 Mbps      678 non-null    float64\n",
      " 28  9 Mbps      52 non-null     float64\n",
      " 29  10 Mbps     1660 non-null   float64\n",
      " 30  11 Mbps     27 non-null     float64\n",
      " 31  12 Mbps     512 non-null    float64\n",
      " 32  13 Mbps     15 non-null     float64\n",
      " 33  14 Mbps     20 non-null     float64\n",
      " 34  15 Mbps     1008 non-null   float64\n",
      " 35  16 Mbps     18 non-null     float64\n",
      " 36  17 Mbps     1 non-null      float64\n",
      " 37  18 Mbps     232 non-null    float64\n",
      " 38  19 Mbps     1 non-null      float64\n",
      " 39  20 Mbps     947 non-null    float64\n",
      " 40  21 Mbps     4 non-null      float64\n",
      " 41  22 Mbps     1 non-null      float64\n",
      " 42  23 Mbps     2 non-null      float64\n",
      " 43  24 Mbps     13 non-null     float64\n",
      " 44  25 Mbps     584 non-null    float64\n",
      " 45  25,1 Mbps   1 non-null      float64\n",
      " 46  25,11 Mbps  1 non-null      float64\n",
      " 47  25,5 Mbps   1 non-null      float64\n",
      " 48  26 Mbps     2 non-null      float64\n",
      " 49  30 Mbps     736 non-null    float64\n",
      " 50  31 Mbps     4 non-null      float64\n",
      " 51  32 Mbps     2 non-null      float64\n",
      " 52  34 Mbps     1 non-null      float64\n",
      " 53  35 Mbps     11 non-null     float64\n",
      " 54  36 Mbps     2 non-null      float64\n",
      " 55  38 Mbps     1 non-null      float64\n",
      " 56  39 Mbps     1 non-null      float64\n",
      " 57  40 Mbps     89 non-null     float64\n",
      " 58  41 Mbps     1 non-null      float64\n",
      " 59  45 Mbps     3 non-null      float64\n",
      " 60  46 Mbps     1 non-null      float64\n",
      " 61  49 Mbps     1 non-null      float64\n",
      " 62  50 Mbps     611 non-null    float64\n",
      " 63  55 Mbps     4 non-null      float64\n",
      " 64  58 Mbps     1 non-null      float64\n",
      " 65  59 Mbps     1 non-null      float64\n",
      " 66  60 Mbps     255 non-null    float64\n",
      " 67  61 Mbps     3 non-null      float64\n",
      " 68  62 Mbps     1 non-null      float64\n",
      " 69  64 Mbps     1 non-null      float64\n",
      " 70  65 Mbps     2 non-null      float64\n",
      " 71  66 Mbps     1 non-null      float64\n",
      " 72  70 Mbps     10 non-null     float64\n",
      " 73  75 Mbps     225 non-null    float64\n",
      " 74  78 Mbps     1 non-null      float64\n",
      " 75  80 Mbps     11 non-null     float64\n",
      " 76  82 Mbps     1 non-null      float64\n",
      " 77  83 Mbps     1 non-null      float64\n",
      " 78  85 Mbps     1 non-null      float64\n",
      " 79  90 Mbps     2 non-null      float64\n",
      " 80  92 Mbps     2 non-null      float64\n",
      " 81  95 Mbps     1 non-null      float64\n",
      " 82  100 Mbps    542 non-null    float64\n",
      "dtypes: float64(79), object(4)\n",
      "memory usage: 2.0+ MB\n"
     ]
    }
   ],
   "source": [
    "vel_bajada_localidad.info()"
   ]
  },
  {
   "cell_type": "code",
   "execution_count": 19,
   "metadata": {},
   "outputs": [
    {
     "data": {
      "text/html": [
       "<div>\n",
       "<style scoped>\n",
       "    .dataframe tbody tr th:only-of-type {\n",
       "        vertical-align: middle;\n",
       "    }\n",
       "\n",
       "    .dataframe tbody tr th {\n",
       "        vertical-align: top;\n",
       "    }\n",
       "\n",
       "    .dataframe thead th {\n",
       "        text-align: right;\n",
       "    }\n",
       "</style>\n",
       "<table border=\"1\" class=\"dataframe\">\n",
       "  <thead>\n",
       "    <tr style=\"text-align: right;\">\n",
       "      <th></th>\n",
       "      <th>Provincia</th>\n",
       "      <th>Partido</th>\n",
       "      <th>Localidad</th>\n",
       "      <th>Link Indec</th>\n",
       "      <th>Otros</th>\n",
       "      <th>0,256 Mbps</th>\n",
       "      <th>0,375 Mbps</th>\n",
       "      <th>0,5 Mbps</th>\n",
       "      <th>0,512 Mbps</th>\n",
       "      <th>0,625 Mbps</th>\n",
       "      <th>...</th>\n",
       "      <th>75 Mbps</th>\n",
       "      <th>78 Mbps</th>\n",
       "      <th>80 Mbps</th>\n",
       "      <th>82 Mbps</th>\n",
       "      <th>83 Mbps</th>\n",
       "      <th>85 Mbps</th>\n",
       "      <th>90 Mbps</th>\n",
       "      <th>92 Mbps</th>\n",
       "      <th>95 Mbps</th>\n",
       "      <th>100 Mbps</th>\n",
       "    </tr>\n",
       "  </thead>\n",
       "  <tbody>\n",
       "    <tr>\n",
       "      <th>0</th>\n",
       "      <td>BUENOS AIRES</td>\n",
       "      <td>25 de Mayo</td>\n",
       "      <td>25 de Mayo</td>\n",
       "      <td>6854100</td>\n",
       "      <td>NaN</td>\n",
       "      <td>NaN</td>\n",
       "      <td>NaN</td>\n",
       "      <td>2.0</td>\n",
       "      <td>NaN</td>\n",
       "      <td>NaN</td>\n",
       "      <td>...</td>\n",
       "      <td>NaN</td>\n",
       "      <td>NaN</td>\n",
       "      <td>9.0</td>\n",
       "      <td>NaN</td>\n",
       "      <td>NaN</td>\n",
       "      <td>NaN</td>\n",
       "      <td>NaN</td>\n",
       "      <td>NaN</td>\n",
       "      <td>NaN</td>\n",
       "      <td>NaN</td>\n",
       "    </tr>\n",
       "    <tr>\n",
       "      <th>1</th>\n",
       "      <td>BUENOS AIRES</td>\n",
       "      <td>25 de Mayo</td>\n",
       "      <td>Agustín Mosconi</td>\n",
       "      <td>6854010</td>\n",
       "      <td>NaN</td>\n",
       "      <td>NaN</td>\n",
       "      <td>NaN</td>\n",
       "      <td>NaN</td>\n",
       "      <td>NaN</td>\n",
       "      <td>NaN</td>\n",
       "      <td>...</td>\n",
       "      <td>NaN</td>\n",
       "      <td>NaN</td>\n",
       "      <td>NaN</td>\n",
       "      <td>NaN</td>\n",
       "      <td>NaN</td>\n",
       "      <td>NaN</td>\n",
       "      <td>NaN</td>\n",
       "      <td>NaN</td>\n",
       "      <td>NaN</td>\n",
       "      <td>NaN</td>\n",
       "    </tr>\n",
       "    <tr>\n",
       "      <th>2</th>\n",
       "      <td>BUENOS AIRES</td>\n",
       "      <td>25 de Mayo</td>\n",
       "      <td>Del Valle</td>\n",
       "      <td>6854020</td>\n",
       "      <td>NaN</td>\n",
       "      <td>NaN</td>\n",
       "      <td>NaN</td>\n",
       "      <td>1.0</td>\n",
       "      <td>NaN</td>\n",
       "      <td>NaN</td>\n",
       "      <td>...</td>\n",
       "      <td>NaN</td>\n",
       "      <td>NaN</td>\n",
       "      <td>NaN</td>\n",
       "      <td>NaN</td>\n",
       "      <td>NaN</td>\n",
       "      <td>NaN</td>\n",
       "      <td>NaN</td>\n",
       "      <td>NaN</td>\n",
       "      <td>NaN</td>\n",
       "      <td>NaN</td>\n",
       "    </tr>\n",
       "    <tr>\n",
       "      <th>3</th>\n",
       "      <td>BUENOS AIRES</td>\n",
       "      <td>25 de Mayo</td>\n",
       "      <td>Ernestina</td>\n",
       "      <td>6854030</td>\n",
       "      <td>NaN</td>\n",
       "      <td>NaN</td>\n",
       "      <td>NaN</td>\n",
       "      <td>NaN</td>\n",
       "      <td>NaN</td>\n",
       "      <td>NaN</td>\n",
       "      <td>...</td>\n",
       "      <td>NaN</td>\n",
       "      <td>NaN</td>\n",
       "      <td>NaN</td>\n",
       "      <td>NaN</td>\n",
       "      <td>NaN</td>\n",
       "      <td>NaN</td>\n",
       "      <td>NaN</td>\n",
       "      <td>NaN</td>\n",
       "      <td>NaN</td>\n",
       "      <td>NaN</td>\n",
       "    </tr>\n",
       "    <tr>\n",
       "      <th>4</th>\n",
       "      <td>BUENOS AIRES</td>\n",
       "      <td>25 de Mayo</td>\n",
       "      <td>Gobernador Ugarte</td>\n",
       "      <td>6854040</td>\n",
       "      <td>NaN</td>\n",
       "      <td>NaN</td>\n",
       "      <td>NaN</td>\n",
       "      <td>NaN</td>\n",
       "      <td>NaN</td>\n",
       "      <td>NaN</td>\n",
       "      <td>...</td>\n",
       "      <td>NaN</td>\n",
       "      <td>NaN</td>\n",
       "      <td>NaN</td>\n",
       "      <td>NaN</td>\n",
       "      <td>NaN</td>\n",
       "      <td>NaN</td>\n",
       "      <td>NaN</td>\n",
       "      <td>NaN</td>\n",
       "      <td>NaN</td>\n",
       "      <td>NaN</td>\n",
       "    </tr>\n",
       "  </tbody>\n",
       "</table>\n",
       "<p>5 rows × 83 columns</p>\n",
       "</div>"
      ],
      "text/plain": [
       "      Provincia     Partido          Localidad Link Indec  Otros  0,256 Mbps  \\\n",
       "0  BUENOS AIRES  25 de Mayo         25 de Mayo    6854100    NaN         NaN   \n",
       "1  BUENOS AIRES  25 de Mayo    Agustín Mosconi    6854010    NaN         NaN   \n",
       "2  BUENOS AIRES  25 de Mayo          Del Valle    6854020    NaN         NaN   \n",
       "3  BUENOS AIRES  25 de Mayo          Ernestina    6854030    NaN         NaN   \n",
       "4  BUENOS AIRES  25 de Mayo  Gobernador Ugarte    6854040    NaN         NaN   \n",
       "\n",
       "   0,375 Mbps  0,5 Mbps  0,512 Mbps  0,625 Mbps  ...  75 Mbps  78 Mbps  \\\n",
       "0         NaN       2.0         NaN         NaN  ...      NaN      NaN   \n",
       "1         NaN       NaN         NaN         NaN  ...      NaN      NaN   \n",
       "2         NaN       1.0         NaN         NaN  ...      NaN      NaN   \n",
       "3         NaN       NaN         NaN         NaN  ...      NaN      NaN   \n",
       "4         NaN       NaN         NaN         NaN  ...      NaN      NaN   \n",
       "\n",
       "   80 Mbps  82 Mbps  83 Mbps  85 Mbps  90 Mbps  92 Mbps  95 Mbps  100 Mbps  \n",
       "0      9.0      NaN      NaN      NaN      NaN      NaN      NaN       NaN  \n",
       "1      NaN      NaN      NaN      NaN      NaN      NaN      NaN       NaN  \n",
       "2      NaN      NaN      NaN      NaN      NaN      NaN      NaN       NaN  \n",
       "3      NaN      NaN      NaN      NaN      NaN      NaN      NaN       NaN  \n",
       "4      NaN      NaN      NaN      NaN      NaN      NaN      NaN       NaN  \n",
       "\n",
       "[5 rows x 83 columns]"
      ]
     },
     "execution_count": 19,
     "metadata": {},
     "output_type": "execute_result"
    }
   ],
   "source": [
    "vel_bajada_localidad.head()\n",
    "#este casi seguro no me sirve nada! al estar tipo matriz queda medio rala. "
   ]
  },
  {
   "cell_type": "code",
   "execution_count": 20,
   "metadata": {},
   "outputs": [],
   "source": [
    "#vel_bajada_localidad.describe()"
   ]
  },
  {
   "cell_type": "markdown",
   "metadata": {},
   "source": [
    "Nuevamente, esta info es muy similar a la de DS 11. Aca se presenta muy discreta la variable Vel de bajada. EL DS 11 me da la info, con menos columnas, pero solamente con el dato Provincia, lo cual me es suficiente para mi reporte. Si se requiere mayor precision geografica, acudir a este DS (numero 3)."
   ]
  },
  {
   "cell_type": "code",
   "execution_count": 191,
   "metadata": {},
   "outputs": [],
   "source": [
    "# Dataset numero 4: H\n",
    "anchayangosta_por_provincia=pd.read_csv('anchayangosta_prov.csv')"
   ]
  },
  {
   "cell_type": "code",
   "execution_count": 201,
   "metadata": {},
   "outputs": [
    {
     "name": "stdout",
     "output_type": "stream",
     "text": [
      "<class 'pandas.core.frame.DataFrame'>\n",
      "RangeIndex: 792 entries, 0 to 791\n",
      "Data columns (total 7 columns):\n",
      " #   Column            Non-Null Count  Dtype         \n",
      "---  ------            --------------  -----         \n",
      " 0   Año               792 non-null    object        \n",
      " 1   Trimestre         792 non-null    object        \n",
      " 2   Provincia         792 non-null    object        \n",
      " 3   Banda ancha fija  792 non-null    int64         \n",
      " 4   Dial up           790 non-null    object        \n",
      " 5   Total             792 non-null    object        \n",
      " 6   fecha             792 non-null    datetime64[ns]\n",
      "dtypes: datetime64[ns](1), int64(1), object(5)\n",
      "memory usage: 43.4+ KB\n"
     ]
    }
   ],
   "source": [
    "anchayangosta_por_provincia.info()"
   ]
  },
  {
   "cell_type": "code",
   "execution_count": 193,
   "metadata": {},
   "outputs": [
    {
     "data": {
      "text/plain": [
       "(792, 6)"
      ]
     },
     "execution_count": 193,
     "metadata": {},
     "output_type": "execute_result"
    }
   ],
   "source": [
    "anchayangosta_por_provincia.shape"
   ]
  },
  {
   "cell_type": "code",
   "execution_count": 194,
   "metadata": {},
   "outputs": [
    {
     "data": {
      "text/html": [
       "<div>\n",
       "<style scoped>\n",
       "    .dataframe tbody tr th:only-of-type {\n",
       "        vertical-align: middle;\n",
       "    }\n",
       "\n",
       "    .dataframe tbody tr th {\n",
       "        vertical-align: top;\n",
       "    }\n",
       "\n",
       "    .dataframe thead th {\n",
       "        text-align: right;\n",
       "    }\n",
       "</style>\n",
       "<table border=\"1\" class=\"dataframe\">\n",
       "  <thead>\n",
       "    <tr style=\"text-align: right;\">\n",
       "      <th></th>\n",
       "      <th>Año</th>\n",
       "      <th>Trimestre</th>\n",
       "    </tr>\n",
       "  </thead>\n",
       "  <tbody>\n",
       "    <tr>\n",
       "      <th>count</th>\n",
       "      <td>792.000000</td>\n",
       "      <td>792.000000</td>\n",
       "    </tr>\n",
       "    <tr>\n",
       "      <th>mean</th>\n",
       "      <td>2017.636364</td>\n",
       "      <td>2.454545</td>\n",
       "    </tr>\n",
       "    <tr>\n",
       "      <th>std</th>\n",
       "      <td>2.386030</td>\n",
       "      <td>1.131306</td>\n",
       "    </tr>\n",
       "    <tr>\n",
       "      <th>min</th>\n",
       "      <td>2014.000000</td>\n",
       "      <td>1.000000</td>\n",
       "    </tr>\n",
       "    <tr>\n",
       "      <th>25%</th>\n",
       "      <td>2016.000000</td>\n",
       "      <td>1.000000</td>\n",
       "    </tr>\n",
       "    <tr>\n",
       "      <th>50%</th>\n",
       "      <td>2018.000000</td>\n",
       "      <td>2.000000</td>\n",
       "    </tr>\n",
       "    <tr>\n",
       "      <th>75%</th>\n",
       "      <td>2020.000000</td>\n",
       "      <td>3.000000</td>\n",
       "    </tr>\n",
       "    <tr>\n",
       "      <th>max</th>\n",
       "      <td>2022.000000</td>\n",
       "      <td>4.000000</td>\n",
       "    </tr>\n",
       "  </tbody>\n",
       "</table>\n",
       "</div>"
      ],
      "text/plain": [
       "               Año   Trimestre\n",
       "count   792.000000  792.000000\n",
       "mean   2017.636364    2.454545\n",
       "std       2.386030    1.131306\n",
       "min    2014.000000    1.000000\n",
       "25%    2016.000000    1.000000\n",
       "50%    2018.000000    2.000000\n",
       "75%    2020.000000    3.000000\n",
       "max    2022.000000    4.000000"
      ]
     },
     "execution_count": 194,
     "metadata": {},
     "output_type": "execute_result"
    }
   ],
   "source": [
    "anchayangosta_por_provincia.describe() #cambiar antes los types!\n",
    "# anio 2014 a 2022."
   ]
  },
  {
   "cell_type": "code",
   "execution_count": 195,
   "metadata": {},
   "outputs": [
    {
     "data": {
      "text/html": [
       "<div>\n",
       "<style scoped>\n",
       "    .dataframe tbody tr th:only-of-type {\n",
       "        vertical-align: middle;\n",
       "    }\n",
       "\n",
       "    .dataframe tbody tr th {\n",
       "        vertical-align: top;\n",
       "    }\n",
       "\n",
       "    .dataframe thead th {\n",
       "        text-align: right;\n",
       "    }\n",
       "</style>\n",
       "<table border=\"1\" class=\"dataframe\">\n",
       "  <thead>\n",
       "    <tr style=\"text-align: right;\">\n",
       "      <th></th>\n",
       "      <th>Año</th>\n",
       "      <th>Trimestre</th>\n",
       "      <th>Provincia</th>\n",
       "      <th>Banda ancha fija</th>\n",
       "      <th>Dial up</th>\n",
       "      <th>Total</th>\n",
       "    </tr>\n",
       "  </thead>\n",
       "  <tbody>\n",
       "    <tr>\n",
       "      <th>0</th>\n",
       "      <td>2022</td>\n",
       "      <td>1</td>\n",
       "      <td>Buenos Aires</td>\n",
       "      <td>4.549.131</td>\n",
       "      <td>6.293</td>\n",
       "      <td>4.555.424</td>\n",
       "    </tr>\n",
       "    <tr>\n",
       "      <th>1</th>\n",
       "      <td>2022</td>\n",
       "      <td>1</td>\n",
       "      <td>Capital Federal</td>\n",
       "      <td>1.415.378</td>\n",
       "      <td>2.163</td>\n",
       "      <td>1.417.541</td>\n",
       "    </tr>\n",
       "    <tr>\n",
       "      <th>2</th>\n",
       "      <td>2022</td>\n",
       "      <td>1</td>\n",
       "      <td>Catamarca</td>\n",
       "      <td>62.377</td>\n",
       "      <td>1</td>\n",
       "      <td>62.378</td>\n",
       "    </tr>\n",
       "    <tr>\n",
       "      <th>3</th>\n",
       "      <td>2022</td>\n",
       "      <td>1</td>\n",
       "      <td>Chaco</td>\n",
       "      <td>144.114</td>\n",
       "      <td>5</td>\n",
       "      <td>144.119</td>\n",
       "    </tr>\n",
       "    <tr>\n",
       "      <th>4</th>\n",
       "      <td>2022</td>\n",
       "      <td>1</td>\n",
       "      <td>Chubut</td>\n",
       "      <td>170.701</td>\n",
       "      <td>927</td>\n",
       "      <td>171.628</td>\n",
       "    </tr>\n",
       "  </tbody>\n",
       "</table>\n",
       "</div>"
      ],
      "text/plain": [
       "    Año  Trimestre        Provincia Banda ancha fija Dial up      Total\n",
       "0  2022          1     Buenos Aires        4.549.131   6.293  4.555.424\n",
       "1  2022          1  Capital Federal        1.415.378   2.163  1.417.541\n",
       "2  2022          1        Catamarca           62.377       1     62.378\n",
       "3  2022          1            Chaco          144.114       5    144.119\n",
       "4  2022          1           Chubut          170.701     927    171.628"
      ]
     },
     "execution_count": 195,
     "metadata": {},
     "output_type": "execute_result"
    }
   ],
   "source": [
    "anchayangosta_por_provincia.head()"
   ]
  },
  {
   "cell_type": "code",
   "execution_count": 196,
   "metadata": {},
   "outputs": [],
   "source": [
    "#FUNCION PARA PASAR A FECHA LAS COLUMNAS Anio + Trimestre: creo la colunma 'fecha' como en ultimo mes de cada trimestre:\n",
    "anchayangosta_por_provincia=anchayangosta_por_provincia.astype({'Año':str,'Trimestre':str})\n",
    "anchayangosta_por_provincia['fecha']=anchayangosta_por_provincia['Año']+'-Q'+anchayangosta_por_provincia['Trimestre']\n",
    "anchayangosta_por_provincia['fecha'] = pd.to_datetime(anchayangosta_por_provincia['fecha'])+ pd.offsets.QuarterEnd(0)\n"
   ]
  },
  {
   "cell_type": "code",
   "execution_count": 197,
   "metadata": {},
   "outputs": [
    {
     "data": {
      "text/html": [
       "<div>\n",
       "<style scoped>\n",
       "    .dataframe tbody tr th:only-of-type {\n",
       "        vertical-align: middle;\n",
       "    }\n",
       "\n",
       "    .dataframe tbody tr th {\n",
       "        vertical-align: top;\n",
       "    }\n",
       "\n",
       "    .dataframe thead th {\n",
       "        text-align: right;\n",
       "    }\n",
       "</style>\n",
       "<table border=\"1\" class=\"dataframe\">\n",
       "  <thead>\n",
       "    <tr style=\"text-align: right;\">\n",
       "      <th></th>\n",
       "      <th>Año</th>\n",
       "      <th>Trimestre</th>\n",
       "      <th>Provincia</th>\n",
       "      <th>Banda ancha fija</th>\n",
       "      <th>Dial up</th>\n",
       "      <th>Total</th>\n",
       "      <th>fecha</th>\n",
       "    </tr>\n",
       "  </thead>\n",
       "  <tbody>\n",
       "    <tr>\n",
       "      <th>0</th>\n",
       "      <td>2022</td>\n",
       "      <td>1</td>\n",
       "      <td>Buenos Aires</td>\n",
       "      <td>4.549.131</td>\n",
       "      <td>6.293</td>\n",
       "      <td>4.555.424</td>\n",
       "      <td>2022-03-31</td>\n",
       "    </tr>\n",
       "    <tr>\n",
       "      <th>1</th>\n",
       "      <td>2022</td>\n",
       "      <td>1</td>\n",
       "      <td>Capital Federal</td>\n",
       "      <td>1.415.378</td>\n",
       "      <td>2.163</td>\n",
       "      <td>1.417.541</td>\n",
       "      <td>2022-03-31</td>\n",
       "    </tr>\n",
       "  </tbody>\n",
       "</table>\n",
       "</div>"
      ],
      "text/plain": [
       "    Año Trimestre        Provincia Banda ancha fija Dial up      Total  \\\n",
       "0  2022         1     Buenos Aires        4.549.131   6.293  4.555.424   \n",
       "1  2022         1  Capital Federal        1.415.378   2.163  1.417.541   \n",
       "\n",
       "       fecha  \n",
       "0 2022-03-31  \n",
       "1 2022-03-31  "
      ]
     },
     "execution_count": 197,
     "metadata": {},
     "output_type": "execute_result"
    }
   ],
   "source": [
    "anchayangosta_por_provincia.head(2)"
   ]
  },
  {
   "cell_type": "markdown",
   "metadata": {},
   "source": [
    "Este DS parece bastante relevante, ya que permite identificar cuáles provincias estan mas atrasadas en la adopcion de banda ancha, para poder desarrollar estrategias que aumenten su disponibilidad."
   ]
  },
  {
   "cell_type": "code",
   "execution_count": 198,
   "metadata": {},
   "outputs": [
    {
     "name": "stderr",
     "output_type": "stream",
     "text": [
      "/var/folders/tf/dsk90f9d14gcg40_frclnb7r0000gn/T/ipykernel_88986/1123917280.py:3: FutureWarning: The default value of regex will change from True to False in a future version. In addition, single character regular expressions will *not* be treated as literal strings when regex=True.\n",
      "  anchayangosta_por_provincia['Banda ancha fija']=anchayangosta_por_provincia['Banda ancha fija'].str.replace('.','')\n",
      "/var/folders/tf/dsk90f9d14gcg40_frclnb7r0000gn/T/ipykernel_88986/1123917280.py:4: FutureWarning: The default value of regex will change from True to False in a future version. In addition, single character regular expressions will *not* be treated as literal strings when regex=True.\n",
      "  anchayangosta_por_provincia['Dial up']=anchayangosta_por_provincia['Dial up'].str.replace('.','')\n",
      "/var/folders/tf/dsk90f9d14gcg40_frclnb7r0000gn/T/ipykernel_88986/1123917280.py:5: FutureWarning: The default value of regex will change from True to False in a future version. In addition, single character regular expressions will *not* be treated as literal strings when regex=True.\n",
      "  anchayangosta_por_provincia['Total']=anchayangosta_por_provincia['Total'].str.replace('.','')\n"
     ]
    }
   ],
   "source": [
    "#cambio a tipo numericos para poder plottear:\n",
    "#saco los '.':\n",
    "anchayangosta_por_provincia['Banda ancha fija']=anchayangosta_por_provincia['Banda ancha fija'].str.replace('.','')\n",
    "anchayangosta_por_provincia['Dial up']=anchayangosta_por_provincia['Dial up'].str.replace('.','')\n",
    "anchayangosta_por_provincia['Total']=anchayangosta_por_provincia['Total'].str.replace('.','')"
   ]
  },
  {
   "cell_type": "code",
   "execution_count": 199,
   "metadata": {},
   "outputs": [],
   "source": [
    "#saco los '-' de Dial up:\n",
    "anchayangosta_por_provincia['Dial up']=anchayangosta_por_provincia['Dial up'].str.replace('-','')\n",
    "anchayangosta_por_provincia['Dial up']=anchayangosta_por_provincia['Dial up'].str.replace('NaN','')\n"
   ]
  },
  {
   "cell_type": "code",
   "execution_count": 202,
   "metadata": {},
   "outputs": [],
   "source": [
    "#cambio a int:\n",
    "anchayangosta_por_provincia=anchayangosta_por_provincia.astype({'Banda ancha fija':int})\n",
    "#anchayangosta_por_provincia=anchayangosta_por_provincia.astype({'Dial up':int}) #lo dejo aparte, ya que tiene NaN,(las b angosta son todo el resto...)\n",
    "anchayangosta_por_provincia=anchayangosta_por_provincia.astype({'Total':int})\n"
   ]
  },
  {
   "cell_type": "code",
   "execution_count": 203,
   "metadata": {},
   "outputs": [
    {
     "data": {
      "text/plain": [
       "<AxesSubplot: xlabel='Provincia'>"
      ]
     },
     "execution_count": 203,
     "metadata": {},
     "output_type": "execute_result"
    },
    {
     "data": {
      "image/png": "[encoded data removed]",
      "text/plain": [
       "<Figure size 640x480 with 1 Axes>"
      ]
     },
     "metadata": {},
     "output_type": "display_data"
    }
   ],
   "source": [
    "#bar plot superpuesto?? por provincia, para ultimo periodo (mas reciente) de 2022? y otro para el mas antiguo?\n",
    "#ideal en DASHBOARD con filtro por provincias. y por fechas. \n",
    "anchayangosta_por_provincia[anchayangosta_por_provincia['fecha']=='2022-03-31'].plot(kind='bar', x='Provincia', y='Banda ancha fija', alpha=0.9) #, xticks=)\n",
    "\n"
   ]
  },
  {
   "cell_type": "code",
   "execution_count": 204,
   "metadata": {},
   "outputs": [
    {
     "data": {
      "text/plain": [
       "<AxesSubplot: xlabel='Provincia'>"
      ]
     },
     "execution_count": 204,
     "metadata": {},
     "output_type": "execute_result"
    },
    {
     "data": {
      "image/png": "[encoded data removed]",
      "text/plain": [
       "<Figure size 640x480 with 1 Axes>"
      ]
     },
     "metadata": {},
     "output_type": "display_data"
    }
   ],
   "source": [
    "# Como era para el primer registro (mas antiguo)?:\n",
    "anchayangosta_por_provincia[anchayangosta_por_provincia['fecha']==min(anchayangosta_por_provincia['fecha'])].plot(kind='bar', x='Provincia', y='Banda ancha fija', alpha=0.9) #, xticks=)\n"
   ]
  },
  {
   "cell_type": "markdown",
   "metadata": {},
   "source": [
    "Igualemente habria que compararlo con respecto a poblacion. "
   ]
  },
  {
   "cell_type": "code",
   "execution_count": 209,
   "metadata": {},
   "outputs": [
    {
     "data": {
      "text/plain": [
       "<AxesSubplot: xlabel='fecha'>"
      ]
     },
     "execution_count": 209,
     "metadata": {},
     "output_type": "execute_result"
    },
    {
     "data": {
      "image/png": "[encoded data removed]",
      "text/plain": [
       "<Figure size 640x480 with 1 Axes>"
      ]
     },
     "metadata": {},
     "output_type": "display_data"
    }
   ],
   "source": [
    "# como fue el aumento de Banda Ancha en Buenos Aires?:\n",
    "anchayangosta_por_provincia[anchayangosta_por_provincia['Provincia']=='Buenos Aires'].plot(kind='bar', x='fecha', y='Banda ancha fija', alpha=0.9) #, xticks=)\n",
    "# acompania este crecimiento al demografico en la misma media? "
   ]
  },
  {
   "cell_type": "code",
   "execution_count": 217,
   "metadata": {},
   "outputs": [],
   "source": [
    "# lo exporto como csv para usarlo en tableau:\n",
    "import os\n",
    "os.mkdir('para_Tableau')\n",
    "anchayangosta_por_provincia.to_csv(r'para_Tableau/anchayangosta_prov4.csv', index=False)"
   ]
  },
  {
   "cell_type": "code",
   "execution_count": 27,
   "metadata": {},
   "outputs": [],
   "source": [
    "# dataset numero 5: G\n",
    "hist_vel_prov=pd.read_csv('hist_vel_internet_prov.csv')"
   ]
  },
  {
   "cell_type": "code",
   "execution_count": 28,
   "metadata": {},
   "outputs": [
    {
     "data": {
      "text/plain": [
       "(792, 4)"
      ]
     },
     "execution_count": 28,
     "metadata": {},
     "output_type": "execute_result"
    }
   ],
   "source": [
    "hist_vel_prov.shape"
   ]
  },
  {
   "cell_type": "code",
   "execution_count": 29,
   "metadata": {},
   "outputs": [
    {
     "name": "stdout",
     "output_type": "stream",
     "text": [
      "<class 'pandas.core.frame.DataFrame'>\n",
      "RangeIndex: 792 entries, 0 to 791\n",
      "Data columns (total 4 columns):\n",
      " #   Column                  Non-Null Count  Dtype \n",
      "---  ------                  --------------  ----- \n",
      " 0   Año                     792 non-null    int64 \n",
      " 1   Trimestre               792 non-null    int64 \n",
      " 2   Provincia               792 non-null    object\n",
      " 3   Mbps (Media de bajada)  792 non-null    int64 \n",
      "dtypes: int64(3), object(1)\n",
      "memory usage: 24.9+ KB\n"
     ]
    }
   ],
   "source": [
    "hist_vel_prov.info()"
   ]
  },
  {
   "cell_type": "code",
   "execution_count": 30,
   "metadata": {},
   "outputs": [
    {
     "data": {
      "text/html": [
       "<div>\n",
       "<style scoped>\n",
       "    .dataframe tbody tr th:only-of-type {\n",
       "        vertical-align: middle;\n",
       "    }\n",
       "\n",
       "    .dataframe tbody tr th {\n",
       "        vertical-align: top;\n",
       "    }\n",
       "\n",
       "    .dataframe thead th {\n",
       "        text-align: right;\n",
       "    }\n",
       "</style>\n",
       "<table border=\"1\" class=\"dataframe\">\n",
       "  <thead>\n",
       "    <tr style=\"text-align: right;\">\n",
       "      <th></th>\n",
       "      <th>Año</th>\n",
       "      <th>Trimestre</th>\n",
       "      <th>Provincia</th>\n",
       "      <th>Mbps (Media de bajada)</th>\n",
       "    </tr>\n",
       "  </thead>\n",
       "  <tbody>\n",
       "    <tr>\n",
       "      <th>0</th>\n",
       "      <td>2022</td>\n",
       "      <td>1</td>\n",
       "      <td>Buenos Aires</td>\n",
       "      <td>63</td>\n",
       "    </tr>\n",
       "    <tr>\n",
       "      <th>1</th>\n",
       "      <td>2022</td>\n",
       "      <td>1</td>\n",
       "      <td>Capital Federal</td>\n",
       "      <td>88</td>\n",
       "    </tr>\n",
       "    <tr>\n",
       "      <th>2</th>\n",
       "      <td>2022</td>\n",
       "      <td>1</td>\n",
       "      <td>Catamarca</td>\n",
       "      <td>51</td>\n",
       "    </tr>\n",
       "    <tr>\n",
       "      <th>3</th>\n",
       "      <td>2022</td>\n",
       "      <td>1</td>\n",
       "      <td>Chaco</td>\n",
       "      <td>46</td>\n",
       "    </tr>\n",
       "    <tr>\n",
       "      <th>4</th>\n",
       "      <td>2022</td>\n",
       "      <td>1</td>\n",
       "      <td>Chubut</td>\n",
       "      <td>13</td>\n",
       "    </tr>\n",
       "  </tbody>\n",
       "</table>\n",
       "</div>"
      ],
      "text/plain": [
       "    Año  Trimestre        Provincia  Mbps (Media de bajada)\n",
       "0  2022          1     Buenos Aires                      63\n",
       "1  2022          1  Capital Federal                      88\n",
       "2  2022          1        Catamarca                      51\n",
       "3  2022          1            Chaco                      46\n",
       "4  2022          1           Chubut                      13"
      ]
     },
     "execution_count": 30,
     "metadata": {},
     "output_type": "execute_result"
    }
   ],
   "source": [
    "hist_vel_prov.head()"
   ]
  },
  {
   "cell_type": "code",
   "execution_count": 31,
   "metadata": {},
   "outputs": [
    {
     "data": {
      "text/html": [
       "<div>\n",
       "<style scoped>\n",
       "    .dataframe tbody tr th:only-of-type {\n",
       "        vertical-align: middle;\n",
       "    }\n",
       "\n",
       "    .dataframe tbody tr th {\n",
       "        vertical-align: top;\n",
       "    }\n",
       "\n",
       "    .dataframe thead th {\n",
       "        text-align: right;\n",
       "    }\n",
       "</style>\n",
       "<table border=\"1\" class=\"dataframe\">\n",
       "  <thead>\n",
       "    <tr style=\"text-align: right;\">\n",
       "      <th></th>\n",
       "      <th>Año</th>\n",
       "      <th>Trimestre</th>\n",
       "      <th>Mbps (Media de bajada)</th>\n",
       "    </tr>\n",
       "  </thead>\n",
       "  <tbody>\n",
       "    <tr>\n",
       "      <th>count</th>\n",
       "      <td>792.000000</td>\n",
       "      <td>792.000000</td>\n",
       "      <td>792.000000</td>\n",
       "    </tr>\n",
       "    <tr>\n",
       "      <th>mean</th>\n",
       "      <td>2017.636364</td>\n",
       "      <td>2.454545</td>\n",
       "      <td>12.352273</td>\n",
       "    </tr>\n",
       "    <tr>\n",
       "      <th>std</th>\n",
       "      <td>2.386030</td>\n",
       "      <td>1.131306</td>\n",
       "      <td>12.836850</td>\n",
       "    </tr>\n",
       "    <tr>\n",
       "      <th>min</th>\n",
       "      <td>2014.000000</td>\n",
       "      <td>1.000000</td>\n",
       "      <td>3.000000</td>\n",
       "    </tr>\n",
       "    <tr>\n",
       "      <th>25%</th>\n",
       "      <td>2016.000000</td>\n",
       "      <td>1.000000</td>\n",
       "      <td>4.000000</td>\n",
       "    </tr>\n",
       "    <tr>\n",
       "      <th>50%</th>\n",
       "      <td>2018.000000</td>\n",
       "      <td>2.000000</td>\n",
       "      <td>6.500000</td>\n",
       "    </tr>\n",
       "    <tr>\n",
       "      <th>75%</th>\n",
       "      <td>2020.000000</td>\n",
       "      <td>3.000000</td>\n",
       "      <td>15.000000</td>\n",
       "    </tr>\n",
       "    <tr>\n",
       "      <th>max</th>\n",
       "      <td>2022.000000</td>\n",
       "      <td>4.000000</td>\n",
       "      <td>88.000000</td>\n",
       "    </tr>\n",
       "  </tbody>\n",
       "</table>\n",
       "</div>"
      ],
      "text/plain": [
       "               Año   Trimestre  Mbps (Media de bajada)\n",
       "count   792.000000  792.000000              792.000000\n",
       "mean   2017.636364    2.454545               12.352273\n",
       "std       2.386030    1.131306               12.836850\n",
       "min    2014.000000    1.000000                3.000000\n",
       "25%    2016.000000    1.000000                4.000000\n",
       "50%    2018.000000    2.000000                6.500000\n",
       "75%    2020.000000    3.000000               15.000000\n",
       "max    2022.000000    4.000000               88.000000"
      ]
     },
     "execution_count": 31,
     "metadata": {},
     "output_type": "execute_result"
    }
   ],
   "source": [
    "hist_vel_prov.describe()"
   ]
  },
  {
   "cell_type": "markdown",
   "metadata": {},
   "source": [
    "Me sirve para unirlo con el DS 6 y tener una comparacion de cada provincia contra la media nacional. "
   ]
  },
  {
   "cell_type": "code",
   "execution_count": 32,
   "metadata": {},
   "outputs": [],
   "source": [
    "# como estan las provincias al periodo mas reciente?:\n",
    "#hist_vel_prov2022=hist_vel_prov[(hist_vel_prov['Año']==2022) & (hist_vel_prov['Trimestre']==1)]\n"
   ]
  },
  {
   "cell_type": "code",
   "execution_count": 118,
   "metadata": {},
   "outputs": [],
   "source": [
    "#le agrego la col fecha:\n",
    "hist_vel_prov=hist_vel_prov.astype({'Año':str,'Trimestre':str})\n",
    "hist_vel_prov['fecha']=hist_vel_prov['Año']+'-Q'+hist_vel_prov['Trimestre']\n",
    "hist_vel_prov['fecha'] = pd.to_datetime(hist_vel_prov['fecha'])+ pd.offsets.QuarterEnd(0)"
   ]
  },
  {
   "cell_type": "code",
   "execution_count": 119,
   "metadata": {},
   "outputs": [
    {
     "data": {
      "text/html": [
       "<div>\n",
       "<style scoped>\n",
       "    .dataframe tbody tr th:only-of-type {\n",
       "        vertical-align: middle;\n",
       "    }\n",
       "\n",
       "    .dataframe tbody tr th {\n",
       "        vertical-align: top;\n",
       "    }\n",
       "\n",
       "    .dataframe thead th {\n",
       "        text-align: right;\n",
       "    }\n",
       "</style>\n",
       "<table border=\"1\" class=\"dataframe\">\n",
       "  <thead>\n",
       "    <tr style=\"text-align: right;\">\n",
       "      <th></th>\n",
       "      <th>Año</th>\n",
       "      <th>Trimestre</th>\n",
       "      <th>Provincia</th>\n",
       "      <th>Mbps (Media de bajada)</th>\n",
       "      <th>fecha</th>\n",
       "    </tr>\n",
       "  </thead>\n",
       "  <tbody>\n",
       "    <tr>\n",
       "      <th>0</th>\n",
       "      <td>2022</td>\n",
       "      <td>1</td>\n",
       "      <td>Buenos Aires</td>\n",
       "      <td>63</td>\n",
       "      <td>2022-03-31</td>\n",
       "    </tr>\n",
       "    <tr>\n",
       "      <th>1</th>\n",
       "      <td>2022</td>\n",
       "      <td>1</td>\n",
       "      <td>Capital Federal</td>\n",
       "      <td>88</td>\n",
       "      <td>2022-03-31</td>\n",
       "    </tr>\n",
       "  </tbody>\n",
       "</table>\n",
       "</div>"
      ],
      "text/plain": [
       "    Año Trimestre        Provincia  Mbps (Media de bajada)      fecha\n",
       "0  2022         1     Buenos Aires                      63 2022-03-31\n",
       "1  2022         1  Capital Federal                      88 2022-03-31"
      ]
     },
     "execution_count": 119,
     "metadata": {},
     "output_type": "execute_result"
    }
   ],
   "source": [
    "hist_vel_prov.head(2) #ok!"
   ]
  },
  {
   "cell_type": "code",
   "execution_count": 174,
   "metadata": {},
   "outputs": [
    {
     "data": {
      "text/plain": [
       "<AxesSubplot: xlabel='Provincia'>"
      ]
     },
     "execution_count": 174,
     "metadata": {},
     "output_type": "execute_result"
    },
    {
     "data": {
      "image/png": "[encoded data removed]",
      "text/plain": [
       "<Figure size 640x480 with 1 Axes>"
      ]
     },
     "metadata": {},
     "output_type": "display_data"
    }
   ],
   "source": [
    "# COMO ESTAN LAS PROVINCIAS EN LOS REGISTROS MAS ACTUALES?:\n",
    "hist_vel_prov[hist_vel_prov['fecha']=='2022-03-31'].plot(kind='bar', x='Provincia', y='Mbps (Media de bajada)', alpha=0.9) #, xticks=)\n"
   ]
  },
  {
   "cell_type": "markdown",
   "metadata": {},
   "source": [
    "De este grafico se reconocen las provincias con menor promedio. Se observa que Chubut, Santa Cruz y Tierra del Fuego estan ESCASAMENTE POBLADAS, por lo que se puede priorizar otras, como ser La Pampa y San Juan, antes que las anteriores. "
   ]
  },
  {
   "cell_type": "code",
   "execution_count": 218,
   "metadata": {},
   "outputs": [],
   "source": [
    "# lo exporto para usar en Tableau:\n",
    "hist_vel_prov.to_csv(r'para_Tableau/hist_vel_prov5.csv', index=False)"
   ]
  },
  {
   "cell_type": "code",
   "execution_count": 34,
   "metadata": {},
   "outputs": [],
   "source": [
    "# Dataset numero 6: G .historial velocidad media de bajada, nacional. \n",
    "hist_vel_nac=pd.read_csv('hist_vel_internet.csv')"
   ]
  },
  {
   "cell_type": "code",
   "execution_count": 35,
   "metadata": {},
   "outputs": [
    {
     "data": {
      "text/plain": [
       "(33, 4)"
      ]
     },
     "execution_count": 35,
     "metadata": {},
     "output_type": "execute_result"
    }
   ],
   "source": [
    "hist_vel_nac.shape"
   ]
  },
  {
   "cell_type": "code",
   "execution_count": 36,
   "metadata": {},
   "outputs": [
    {
     "name": "stdout",
     "output_type": "stream",
     "text": [
      "<class 'pandas.core.frame.DataFrame'>\n",
      "RangeIndex: 33 entries, 0 to 32\n",
      "Data columns (total 4 columns):\n",
      " #   Column                  Non-Null Count  Dtype \n",
      "---  ------                  --------------  ----- \n",
      " 0   Año                     33 non-null     int64 \n",
      " 1   Trimestre               33 non-null     int64 \n",
      " 2   Mbps (Media de bajada)  33 non-null     object\n",
      " 3   Trimestre.1             33 non-null     object\n",
      "dtypes: int64(2), object(2)\n",
      "memory usage: 1.2+ KB\n"
     ]
    }
   ],
   "source": [
    "hist_vel_nac.info()"
   ]
  },
  {
   "cell_type": "code",
   "execution_count": 37,
   "metadata": {},
   "outputs": [
    {
     "data": {
      "text/html": [
       "<div>\n",
       "<style scoped>\n",
       "    .dataframe tbody tr th:only-of-type {\n",
       "        vertical-align: middle;\n",
       "    }\n",
       "\n",
       "    .dataframe tbody tr th {\n",
       "        vertical-align: top;\n",
       "    }\n",
       "\n",
       "    .dataframe thead th {\n",
       "        text-align: right;\n",
       "    }\n",
       "</style>\n",
       "<table border=\"1\" class=\"dataframe\">\n",
       "  <thead>\n",
       "    <tr style=\"text-align: right;\">\n",
       "      <th></th>\n",
       "      <th>Año</th>\n",
       "      <th>Trimestre</th>\n",
       "    </tr>\n",
       "  </thead>\n",
       "  <tbody>\n",
       "    <tr>\n",
       "      <th>count</th>\n",
       "      <td>33.000000</td>\n",
       "      <td>33.000000</td>\n",
       "    </tr>\n",
       "    <tr>\n",
       "      <th>mean</th>\n",
       "      <td>2017.636364</td>\n",
       "      <td>2.454545</td>\n",
       "    </tr>\n",
       "    <tr>\n",
       "      <th>std</th>\n",
       "      <td>2.421495</td>\n",
       "      <td>1.148121</td>\n",
       "    </tr>\n",
       "    <tr>\n",
       "      <th>min</th>\n",
       "      <td>2014.000000</td>\n",
       "      <td>1.000000</td>\n",
       "    </tr>\n",
       "    <tr>\n",
       "      <th>25%</th>\n",
       "      <td>2016.000000</td>\n",
       "      <td>1.000000</td>\n",
       "    </tr>\n",
       "    <tr>\n",
       "      <th>50%</th>\n",
       "      <td>2018.000000</td>\n",
       "      <td>2.000000</td>\n",
       "    </tr>\n",
       "    <tr>\n",
       "      <th>75%</th>\n",
       "      <td>2020.000000</td>\n",
       "      <td>3.000000</td>\n",
       "    </tr>\n",
       "    <tr>\n",
       "      <th>max</th>\n",
       "      <td>2022.000000</td>\n",
       "      <td>4.000000</td>\n",
       "    </tr>\n",
       "  </tbody>\n",
       "</table>\n",
       "</div>"
      ],
      "text/plain": [
       "               Año  Trimestre\n",
       "count    33.000000  33.000000\n",
       "mean   2017.636364   2.454545\n",
       "std       2.421495   1.148121\n",
       "min    2014.000000   1.000000\n",
       "25%    2016.000000   1.000000\n",
       "50%    2018.000000   2.000000\n",
       "75%    2020.000000   3.000000\n",
       "max    2022.000000   4.000000"
      ]
     },
     "execution_count": 37,
     "metadata": {},
     "output_type": "execute_result"
    }
   ],
   "source": [
    "hist_vel_nac.describe()"
   ]
  },
  {
   "cell_type": "code",
   "execution_count": 120,
   "metadata": {},
   "outputs": [
    {
     "data": {
      "text/html": [
       "<div>\n",
       "<style scoped>\n",
       "    .dataframe tbody tr th:only-of-type {\n",
       "        vertical-align: middle;\n",
       "    }\n",
       "\n",
       "    .dataframe tbody tr th {\n",
       "        vertical-align: top;\n",
       "    }\n",
       "\n",
       "    .dataframe thead th {\n",
       "        text-align: right;\n",
       "    }\n",
       "</style>\n",
       "<table border=\"1\" class=\"dataframe\">\n",
       "  <thead>\n",
       "    <tr style=\"text-align: right;\">\n",
       "      <th></th>\n",
       "      <th>Año</th>\n",
       "      <th>Trimestre</th>\n",
       "      <th>Mbps (Media de bajada)</th>\n",
       "    </tr>\n",
       "  </thead>\n",
       "  <tbody>\n",
       "    <tr>\n",
       "      <th>0</th>\n",
       "      <td>2022</td>\n",
       "      <td>1</td>\n",
       "      <td>55,11</td>\n",
       "    </tr>\n",
       "    <tr>\n",
       "      <th>1</th>\n",
       "      <td>2021</td>\n",
       "      <td>4</td>\n",
       "      <td>52,34</td>\n",
       "    </tr>\n",
       "    <tr>\n",
       "      <th>2</th>\n",
       "      <td>2021</td>\n",
       "      <td>3</td>\n",
       "      <td>48,46</td>\n",
       "    </tr>\n",
       "    <tr>\n",
       "      <th>3</th>\n",
       "      <td>2021</td>\n",
       "      <td>2</td>\n",
       "      <td>45,63</td>\n",
       "    </tr>\n",
       "    <tr>\n",
       "      <th>4</th>\n",
       "      <td>2021</td>\n",
       "      <td>1</td>\n",
       "      <td>43,11</td>\n",
       "    </tr>\n",
       "  </tbody>\n",
       "</table>\n",
       "</div>"
      ],
      "text/plain": [
       "    Año  Trimestre Mbps (Media de bajada)\n",
       "0  2022          1                  55,11\n",
       "1  2021          4                  52,34\n",
       "2  2021          3                  48,46\n",
       "3  2021          2                  45,63\n",
       "4  2021          1                  43,11"
      ]
     },
     "execution_count": 120,
     "metadata": {},
     "output_type": "execute_result"
    }
   ],
   "source": [
    "hist_vel_nac.head()\n",
    "#NO me aporta gran info para ANALISIS, ya que no tiene locacion...Sí para comparar cada provincia con la \n",
    "# media nacional. INcluso podria concatenarlos o simplemente agregar la columna de media nacional al DF 5. "
   ]
  },
  {
   "cell_type": "code",
   "execution_count": 39,
   "metadata": {},
   "outputs": [],
   "source": [
    "#dropeo la variable Trimestre.1 que no aporta nueva informacion:\n",
    "hist_vel_nac.drop('Trimestre.1', axis=1,inplace=True)"
   ]
  },
  {
   "cell_type": "markdown",
   "metadata": {},
   "source": [
    "Planeo utilizarlo para un KPI, visualizando esta medida en su mas reciente medicion, y asi poder comparar facilmente con la velocidad de bajada de cualquier otra coneccion, sabiendo si se encuentra por debajo o por encima de la media.   "
   ]
  },
  {
   "cell_type": "code",
   "execution_count": 121,
   "metadata": {},
   "outputs": [],
   "source": [
    "#le agrego la col fecha, de la misma manera que a las anteriores:\n",
    "hist_vel_nac=hist_vel_nac.astype({'Año':str,'Trimestre':str})\n",
    "hist_vel_nac['fecha']=hist_vel_nac['Año']+'-Q'+hist_vel_nac['Trimestre']\n",
    "hist_vel_nac['fecha'] = pd.to_datetime(hist_vel_nac['fecha'])+ pd.offsets.QuarterEnd(0)"
   ]
  },
  {
   "cell_type": "code",
   "execution_count": 123,
   "metadata": {},
   "outputs": [],
   "source": [
    "#cambio ',' por '.':\n",
    "hist_vel_nac['Mbps (Media de bajada)'] = hist_vel_nac['Mbps (Media de bajada)'].replace(',','.',regex=True)\n",
    "\n",
    "#y lo convierto a float:\n",
    "hist_vel_nac = hist_vel_nac.astype({'Mbps (Media de bajada)': float})"
   ]
  },
  {
   "cell_type": "code",
   "execution_count": 124,
   "metadata": {},
   "outputs": [
    {
     "data": {
      "text/html": [
       "<div>\n",
       "<style scoped>\n",
       "    .dataframe tbody tr th:only-of-type {\n",
       "        vertical-align: middle;\n",
       "    }\n",
       "\n",
       "    .dataframe tbody tr th {\n",
       "        vertical-align: top;\n",
       "    }\n",
       "\n",
       "    .dataframe thead th {\n",
       "        text-align: right;\n",
       "    }\n",
       "</style>\n",
       "<table border=\"1\" class=\"dataframe\">\n",
       "  <thead>\n",
       "    <tr style=\"text-align: right;\">\n",
       "      <th></th>\n",
       "      <th>Año</th>\n",
       "      <th>Trimestre</th>\n",
       "      <th>Mbps (Media de bajada)</th>\n",
       "      <th>fecha</th>\n",
       "    </tr>\n",
       "  </thead>\n",
       "  <tbody>\n",
       "    <tr>\n",
       "      <th>0</th>\n",
       "      <td>2022</td>\n",
       "      <td>1</td>\n",
       "      <td>55.11</td>\n",
       "      <td>2022-03-31</td>\n",
       "    </tr>\n",
       "    <tr>\n",
       "      <th>1</th>\n",
       "      <td>2021</td>\n",
       "      <td>4</td>\n",
       "      <td>52.34</td>\n",
       "      <td>2021-12-31</td>\n",
       "    </tr>\n",
       "  </tbody>\n",
       "</table>\n",
       "</div>"
      ],
      "text/plain": [
       "    Año Trimestre  Mbps (Media de bajada)      fecha\n",
       "0  2022         1                   55.11 2022-03-31\n",
       "1  2021         4                   52.34 2021-12-31"
      ]
     },
     "execution_count": 124,
     "metadata": {},
     "output_type": "execute_result"
    }
   ],
   "source": [
    "hist_vel_nac.head(2) #luego puedo hacer plot de la media en funcion de tiempo. "
   ]
  },
  {
   "cell_type": "code",
   "execution_count": 40,
   "metadata": {},
   "outputs": [],
   "source": [
    "#hacer tipo timeseries? Claramente viene en aumento la Media. graficarlo como linea! "
   ]
  },
  {
   "cell_type": "code",
   "execution_count": 41,
   "metadata": {},
   "outputs": [],
   "source": [
    "# Dataset numero 7: C   .Accesos a internet fijo a nivel nacional:\n",
    "hogares_nac=pd.read_csv('hogares_nac_internet_fijo.csv')"
   ]
  },
  {
   "cell_type": "code",
   "execution_count": 42,
   "metadata": {},
   "outputs": [
    {
     "data": {
      "text/plain": [
       "(33, 5)"
      ]
     },
     "execution_count": 42,
     "metadata": {},
     "output_type": "execute_result"
    }
   ],
   "source": [
    "hogares_nac.shape"
   ]
  },
  {
   "cell_type": "code",
   "execution_count": 43,
   "metadata": {},
   "outputs": [
    {
     "name": "stdout",
     "output_type": "stream",
     "text": [
      "<class 'pandas.core.frame.DataFrame'>\n",
      "RangeIndex: 33 entries, 0 to 32\n",
      "Data columns (total 5 columns):\n",
      " #   Column                        Non-Null Count  Dtype \n",
      "---  ------                        --------------  ----- \n",
      " 0   Año                           33 non-null     int64 \n",
      " 1   Trimestre                     33 non-null     int64 \n",
      " 2   Accesos por cada 100 hogares  33 non-null     object\n",
      " 3   Accesos por cada 100 hab      33 non-null     object\n",
      " 4   Periodo                       33 non-null     object\n",
      "dtypes: int64(2), object(3)\n",
      "memory usage: 1.4+ KB\n"
     ]
    }
   ],
   "source": [
    "hogares_nac.info()"
   ]
  },
  {
   "cell_type": "code",
   "execution_count": 44,
   "metadata": {},
   "outputs": [
    {
     "data": {
      "text/html": [
       "<div>\n",
       "<style scoped>\n",
       "    .dataframe tbody tr th:only-of-type {\n",
       "        vertical-align: middle;\n",
       "    }\n",
       "\n",
       "    .dataframe tbody tr th {\n",
       "        vertical-align: top;\n",
       "    }\n",
       "\n",
       "    .dataframe thead th {\n",
       "        text-align: right;\n",
       "    }\n",
       "</style>\n",
       "<table border=\"1\" class=\"dataframe\">\n",
       "  <thead>\n",
       "    <tr style=\"text-align: right;\">\n",
       "      <th></th>\n",
       "      <th>Año</th>\n",
       "      <th>Trimestre</th>\n",
       "    </tr>\n",
       "  </thead>\n",
       "  <tbody>\n",
       "    <tr>\n",
       "      <th>count</th>\n",
       "      <td>33.000000</td>\n",
       "      <td>33.000000</td>\n",
       "    </tr>\n",
       "    <tr>\n",
       "      <th>mean</th>\n",
       "      <td>2017.636364</td>\n",
       "      <td>2.454545</td>\n",
       "    </tr>\n",
       "    <tr>\n",
       "      <th>std</th>\n",
       "      <td>2.421495</td>\n",
       "      <td>1.148121</td>\n",
       "    </tr>\n",
       "    <tr>\n",
       "      <th>min</th>\n",
       "      <td>2014.000000</td>\n",
       "      <td>1.000000</td>\n",
       "    </tr>\n",
       "    <tr>\n",
       "      <th>25%</th>\n",
       "      <td>2016.000000</td>\n",
       "      <td>1.000000</td>\n",
       "    </tr>\n",
       "    <tr>\n",
       "      <th>50%</th>\n",
       "      <td>2018.000000</td>\n",
       "      <td>2.000000</td>\n",
       "    </tr>\n",
       "    <tr>\n",
       "      <th>75%</th>\n",
       "      <td>2020.000000</td>\n",
       "      <td>3.000000</td>\n",
       "    </tr>\n",
       "    <tr>\n",
       "      <th>max</th>\n",
       "      <td>2022.000000</td>\n",
       "      <td>4.000000</td>\n",
       "    </tr>\n",
       "  </tbody>\n",
       "</table>\n",
       "</div>"
      ],
      "text/plain": [
       "               Año  Trimestre\n",
       "count    33.000000  33.000000\n",
       "mean   2017.636364   2.454545\n",
       "std       2.421495   1.148121\n",
       "min    2014.000000   1.000000\n",
       "25%    2016.000000   1.000000\n",
       "50%    2018.000000   2.000000\n",
       "75%    2020.000000   3.000000\n",
       "max    2022.000000   4.000000"
      ]
     },
     "execution_count": 44,
     "metadata": {},
     "output_type": "execute_result"
    }
   ],
   "source": [
    "hogares_nac.describe()"
   ]
  },
  {
   "cell_type": "code",
   "execution_count": 45,
   "metadata": {},
   "outputs": [
    {
     "data": {
      "text/html": [
       "<div>\n",
       "<style scoped>\n",
       "    .dataframe tbody tr th:only-of-type {\n",
       "        vertical-align: middle;\n",
       "    }\n",
       "\n",
       "    .dataframe tbody tr th {\n",
       "        vertical-align: top;\n",
       "    }\n",
       "\n",
       "    .dataframe thead th {\n",
       "        text-align: right;\n",
       "    }\n",
       "</style>\n",
       "<table border=\"1\" class=\"dataframe\">\n",
       "  <thead>\n",
       "    <tr style=\"text-align: right;\">\n",
       "      <th></th>\n",
       "      <th>Año</th>\n",
       "      <th>Trimestre</th>\n",
       "      <th>Accesos por cada 100 hogares</th>\n",
       "      <th>Accesos por cada 100 hab</th>\n",
       "      <th>Periodo</th>\n",
       "    </tr>\n",
       "  </thead>\n",
       "  <tbody>\n",
       "    <tr>\n",
       "      <th>0</th>\n",
       "      <td>2022</td>\n",
       "      <td>1</td>\n",
       "      <td>73,88</td>\n",
       "      <td>23,05</td>\n",
       "      <td>Ene-Mar 2022</td>\n",
       "    </tr>\n",
       "    <tr>\n",
       "      <th>1</th>\n",
       "      <td>2021</td>\n",
       "      <td>4</td>\n",
       "      <td>73,18</td>\n",
       "      <td>22,81</td>\n",
       "      <td>Oct-Dic 2021</td>\n",
       "    </tr>\n",
       "    <tr>\n",
       "      <th>2</th>\n",
       "      <td>2021</td>\n",
       "      <td>3</td>\n",
       "      <td>70,58</td>\n",
       "      <td>21,98</td>\n",
       "      <td>Jul-Sept 2021</td>\n",
       "    </tr>\n",
       "    <tr>\n",
       "      <th>3</th>\n",
       "      <td>2021</td>\n",
       "      <td>2</td>\n",
       "      <td>69,24</td>\n",
       "      <td>21,55</td>\n",
       "      <td>Abr-Jun 2021</td>\n",
       "    </tr>\n",
       "    <tr>\n",
       "      <th>4</th>\n",
       "      <td>2021</td>\n",
       "      <td>1</td>\n",
       "      <td>67,95</td>\n",
       "      <td>21,13</td>\n",
       "      <td>Ene-Mar 2021</td>\n",
       "    </tr>\n",
       "    <tr>\n",
       "      <th>5</th>\n",
       "      <td>2020</td>\n",
       "      <td>4</td>\n",
       "      <td>67,62</td>\n",
       "      <td>21,01</td>\n",
       "      <td>Oct-Dic 2020</td>\n",
       "    </tr>\n",
       "    <tr>\n",
       "      <th>6</th>\n",
       "      <td>2020</td>\n",
       "      <td>3</td>\n",
       "      <td>66,31</td>\n",
       "      <td>20,59</td>\n",
       "      <td>Jul-Sept 2020</td>\n",
       "    </tr>\n",
       "    <tr>\n",
       "      <th>7</th>\n",
       "      <td>2020</td>\n",
       "      <td>2</td>\n",
       "      <td>64,21</td>\n",
       "      <td>19,92</td>\n",
       "      <td>Abr-Jun 2020</td>\n",
       "    </tr>\n",
       "    <tr>\n",
       "      <th>8</th>\n",
       "      <td>2020</td>\n",
       "      <td>1</td>\n",
       "      <td>62,86</td>\n",
       "      <td>19,48</td>\n",
       "      <td>Ene-Mar 2020</td>\n",
       "    </tr>\n",
       "    <tr>\n",
       "      <th>9</th>\n",
       "      <td>2019</td>\n",
       "      <td>4</td>\n",
       "      <td>62,92</td>\n",
       "      <td>19,49</td>\n",
       "      <td>Oct-Dic 2019</td>\n",
       "    </tr>\n",
       "    <tr>\n",
       "      <th>10</th>\n",
       "      <td>2019</td>\n",
       "      <td>3</td>\n",
       "      <td>65,79</td>\n",
       "      <td>20,36</td>\n",
       "      <td>Jul-Sept 2019</td>\n",
       "    </tr>\n",
       "    <tr>\n",
       "      <th>11</th>\n",
       "      <td>2019</td>\n",
       "      <td>2</td>\n",
       "      <td>64,53</td>\n",
       "      <td>19,96</td>\n",
       "      <td>Abr-Jun 2019</td>\n",
       "    </tr>\n",
       "    <tr>\n",
       "      <th>12</th>\n",
       "      <td>2019</td>\n",
       "      <td>1</td>\n",
       "      <td>62,48</td>\n",
       "      <td>19,31</td>\n",
       "      <td>Ene-Mar 2019</td>\n",
       "    </tr>\n",
       "    <tr>\n",
       "      <th>13</th>\n",
       "      <td>2018</td>\n",
       "      <td>4</td>\n",
       "      <td>61,42</td>\n",
       "      <td>18,97</td>\n",
       "      <td>Oct-Dic 2018</td>\n",
       "    </tr>\n",
       "    <tr>\n",
       "      <th>14</th>\n",
       "      <td>2018</td>\n",
       "      <td>3</td>\n",
       "      <td>60,69</td>\n",
       "      <td>18,73</td>\n",
       "      <td>Jul-Sept 2018</td>\n",
       "    </tr>\n",
       "  </tbody>\n",
       "</table>\n",
       "</div>"
      ],
      "text/plain": [
       "     Año  Trimestre Accesos por cada 100 hogares Accesos por cada 100 hab  \\\n",
       "0   2022          1                        73,88                    23,05   \n",
       "1   2021          4                        73,18                    22,81   \n",
       "2   2021          3                        70,58                    21,98   \n",
       "3   2021          2                        69,24                    21,55   \n",
       "4   2021          1                        67,95                    21,13   \n",
       "5   2020          4                        67,62                    21,01   \n",
       "6   2020          3                        66,31                    20,59   \n",
       "7   2020          2                        64,21                    19,92   \n",
       "8   2020          1                        62,86                    19,48   \n",
       "9   2019          4                        62,92                    19,49   \n",
       "10  2019          3                        65,79                    20,36   \n",
       "11  2019          2                        64,53                    19,96   \n",
       "12  2019          1                        62,48                    19,31   \n",
       "13  2018          4                        61,42                    18,97   \n",
       "14  2018          3                        60,69                    18,73   \n",
       "\n",
       "          Periodo  \n",
       "0    Ene-Mar 2022  \n",
       "1    Oct-Dic 2021  \n",
       "2   Jul-Sept 2021  \n",
       "3    Abr-Jun 2021  \n",
       "4    Ene-Mar 2021  \n",
       "5    Oct-Dic 2020  \n",
       "6   Jul-Sept 2020  \n",
       "7    Abr-Jun 2020  \n",
       "8    Ene-Mar 2020  \n",
       "9    Oct-Dic 2019  \n",
       "10  Jul-Sept 2019  \n",
       "11   Abr-Jun 2019  \n",
       "12   Ene-Mar 2019  \n",
       "13   Oct-Dic 2018  \n",
       "14  Jul-Sept 2018  "
      ]
     },
     "execution_count": 45,
     "metadata": {},
     "output_type": "execute_result"
    }
   ],
   "source": [
    "hogares_nac.head(15)\n",
    "# puedo dropear 'Periodo' q no me aporta nueva info. "
   ]
  },
  {
   "cell_type": "markdown",
   "metadata": {},
   "source": [
    "Me aporta poca info. Basicamente , los accesos por hogares y poblacion, vienen en un aumento sostenido cuasi lineal, con una baja a finales de 2019. Razon para esta baja? es Pre pandemia, por lo que deberia haber otra razon.  No usare este DF ya que SI voy a usar el siguiente, el cual tiene info muy simiilar. "
   ]
  },
  {
   "cell_type": "code",
   "execution_count": 46,
   "metadata": {},
   "outputs": [],
   "source": [
    "# Dataset numero 8: C\n",
    "# DE ESTE SALE EL KPI REQUERIDO POR CONSIGNA. \n",
    "\n",
    "fijo_c_100hogares=pd.read_csv('int_fijo_100hogares.csv') \n"
   ]
  },
  {
   "cell_type": "code",
   "execution_count": 47,
   "metadata": {},
   "outputs": [
    {
     "data": {
      "text/plain": [
       "(792, 4)"
      ]
     },
     "execution_count": 47,
     "metadata": {},
     "output_type": "execute_result"
    }
   ],
   "source": [
    "fijo_c_100hogares.shape"
   ]
  },
  {
   "cell_type": "code",
   "execution_count": 48,
   "metadata": {},
   "outputs": [
    {
     "data": {
      "text/html": [
       "<div>\n",
       "<style scoped>\n",
       "    .dataframe tbody tr th:only-of-type {\n",
       "        vertical-align: middle;\n",
       "    }\n",
       "\n",
       "    .dataframe tbody tr th {\n",
       "        vertical-align: top;\n",
       "    }\n",
       "\n",
       "    .dataframe thead th {\n",
       "        text-align: right;\n",
       "    }\n",
       "</style>\n",
       "<table border=\"1\" class=\"dataframe\">\n",
       "  <thead>\n",
       "    <tr style=\"text-align: right;\">\n",
       "      <th></th>\n",
       "      <th>Año</th>\n",
       "      <th>Trimestre</th>\n",
       "    </tr>\n",
       "  </thead>\n",
       "  <tbody>\n",
       "    <tr>\n",
       "      <th>count</th>\n",
       "      <td>792.000000</td>\n",
       "      <td>792.000000</td>\n",
       "    </tr>\n",
       "    <tr>\n",
       "      <th>mean</th>\n",
       "      <td>2017.636364</td>\n",
       "      <td>2.454545</td>\n",
       "    </tr>\n",
       "    <tr>\n",
       "      <th>std</th>\n",
       "      <td>2.386030</td>\n",
       "      <td>1.131306</td>\n",
       "    </tr>\n",
       "    <tr>\n",
       "      <th>min</th>\n",
       "      <td>2014.000000</td>\n",
       "      <td>1.000000</td>\n",
       "    </tr>\n",
       "    <tr>\n",
       "      <th>25%</th>\n",
       "      <td>2016.000000</td>\n",
       "      <td>1.000000</td>\n",
       "    </tr>\n",
       "    <tr>\n",
       "      <th>50%</th>\n",
       "      <td>2018.000000</td>\n",
       "      <td>2.000000</td>\n",
       "    </tr>\n",
       "    <tr>\n",
       "      <th>75%</th>\n",
       "      <td>2020.000000</td>\n",
       "      <td>3.000000</td>\n",
       "    </tr>\n",
       "    <tr>\n",
       "      <th>max</th>\n",
       "      <td>2022.000000</td>\n",
       "      <td>4.000000</td>\n",
       "    </tr>\n",
       "  </tbody>\n",
       "</table>\n",
       "</div>"
      ],
      "text/plain": [
       "               Año   Trimestre\n",
       "count   792.000000  792.000000\n",
       "mean   2017.636364    2.454545\n",
       "std       2.386030    1.131306\n",
       "min    2014.000000    1.000000\n",
       "25%    2016.000000    1.000000\n",
       "50%    2018.000000    2.000000\n",
       "75%    2020.000000    3.000000\n",
       "max    2022.000000    4.000000"
      ]
     },
     "execution_count": 48,
     "metadata": {},
     "output_type": "execute_result"
    }
   ],
   "source": [
    "fijo_c_100hogares.describe() #me esta tomando los decimales horribles. \n",
    "# le cambio el format desde el csv a ver como me lo toma. queda igual..."
   ]
  },
  {
   "cell_type": "code",
   "execution_count": 49,
   "metadata": {},
   "outputs": [
    {
     "name": "stdout",
     "output_type": "stream",
     "text": [
      "<class 'pandas.core.frame.DataFrame'>\n",
      "RangeIndex: 792 entries, 0 to 791\n",
      "Data columns (total 4 columns):\n",
      " #   Column                        Non-Null Count  Dtype \n",
      "---  ------                        --------------  ----- \n",
      " 0   Año                           792 non-null    int64 \n",
      " 1   Trimestre                     792 non-null    int64 \n",
      " 2   Provincia                     792 non-null    object\n",
      " 3   Accesos por cada 100 hogares  792 non-null    object\n",
      "dtypes: int64(2), object(2)\n",
      "memory usage: 24.9+ KB\n"
     ]
    }
   ],
   "source": [
    "fijo_c_100hogares.info()\n",
    "#para poder usar este, debo convertir a numericas todas las variables? \n",
    "#fechas entre 2014 y 2022"
   ]
  },
  {
   "cell_type": "code",
   "execution_count": 162,
   "metadata": {},
   "outputs": [
    {
     "data": {
      "text/html": [
       "<div>\n",
       "<style scoped>\n",
       "    .dataframe tbody tr th:only-of-type {\n",
       "        vertical-align: middle;\n",
       "    }\n",
       "\n",
       "    .dataframe tbody tr th {\n",
       "        vertical-align: top;\n",
       "    }\n",
       "\n",
       "    .dataframe thead th {\n",
       "        text-align: right;\n",
       "    }\n",
       "</style>\n",
       "<table border=\"1\" class=\"dataframe\">\n",
       "  <thead>\n",
       "    <tr style=\"text-align: right;\">\n",
       "      <th></th>\n",
       "      <th>Año</th>\n",
       "      <th>Trimestre</th>\n",
       "      <th>Provincia</th>\n",
       "      <th>Accesos por cada 100 hogares</th>\n",
       "    </tr>\n",
       "  </thead>\n",
       "  <tbody>\n",
       "    <tr>\n",
       "      <th>0</th>\n",
       "      <td>2022</td>\n",
       "      <td>1</td>\n",
       "      <td>Buenos Aires</td>\n",
       "      <td>76.08</td>\n",
       "    </tr>\n",
       "    <tr>\n",
       "      <th>1</th>\n",
       "      <td>2022</td>\n",
       "      <td>1</td>\n",
       "      <td>Capital Federal</td>\n",
       "      <td>111.80</td>\n",
       "    </tr>\n",
       "    <tr>\n",
       "      <th>2</th>\n",
       "      <td>2022</td>\n",
       "      <td>1</td>\n",
       "      <td>Catamarca</td>\n",
       "      <td>58.21</td>\n",
       "    </tr>\n",
       "    <tr>\n",
       "      <th>3</th>\n",
       "      <td>2022</td>\n",
       "      <td>1</td>\n",
       "      <td>Chaco</td>\n",
       "      <td>44.06</td>\n",
       "    </tr>\n",
       "    <tr>\n",
       "      <th>4</th>\n",
       "      <td>2022</td>\n",
       "      <td>1</td>\n",
       "      <td>Chubut</td>\n",
       "      <td>88.05</td>\n",
       "    </tr>\n",
       "    <tr>\n",
       "      <th>5</th>\n",
       "      <td>2022</td>\n",
       "      <td>1</td>\n",
       "      <td>Córdoba</td>\n",
       "      <td>85.76</td>\n",
       "    </tr>\n",
       "    <tr>\n",
       "      <th>6</th>\n",
       "      <td>2022</td>\n",
       "      <td>1</td>\n",
       "      <td>Corrientes</td>\n",
       "      <td>47.64</td>\n",
       "    </tr>\n",
       "    <tr>\n",
       "      <th>7</th>\n",
       "      <td>2022</td>\n",
       "      <td>1</td>\n",
       "      <td>Entre Ríos</td>\n",
       "      <td>63.70</td>\n",
       "    </tr>\n",
       "    <tr>\n",
       "      <th>8</th>\n",
       "      <td>2022</td>\n",
       "      <td>1</td>\n",
       "      <td>Formosa</td>\n",
       "      <td>34.96</td>\n",
       "    </tr>\n",
       "    <tr>\n",
       "      <th>9</th>\n",
       "      <td>2022</td>\n",
       "      <td>1</td>\n",
       "      <td>Jujuy</td>\n",
       "      <td>58.06</td>\n",
       "    </tr>\n",
       "  </tbody>\n",
       "</table>\n",
       "</div>"
      ],
      "text/plain": [
       "    Año  Trimestre        Provincia  Accesos por cada 100 hogares\n",
       "0  2022          1     Buenos Aires                         76.08\n",
       "1  2022          1  Capital Federal                        111.80\n",
       "2  2022          1        Catamarca                         58.21\n",
       "3  2022          1            Chaco                         44.06\n",
       "4  2022          1           Chubut                         88.05\n",
       "5  2022          1          Córdoba                         85.76\n",
       "6  2022          1       Corrientes                         47.64\n",
       "7  2022          1       Entre Ríos                         63.70\n",
       "8  2022          1          Formosa                         34.96\n",
       "9  2022          1            Jujuy                         58.06"
      ]
     },
     "execution_count": 162,
     "metadata": {},
     "output_type": "execute_result"
    }
   ],
   "source": [
    "fijo_c_100hogares.head(10)\n",
    "#que significa 'accesos'? son las conecciones activas? que haya filas con >100 implica tienen mas de una por \n",
    "# hogar?\n",
    "\n"
   ]
  },
  {
   "cell_type": "code",
   "execution_count": 51,
   "metadata": {},
   "outputs": [],
   "source": [
    "# convierto la variable 'Accesos...' a numerico:\n",
    "#primero cambio la coma por punto:\n",
    "fijo_c_100hogares['Accesos por cada 100 hogares'] = fijo_c_100hogares['Accesos por cada 100 hogares'].replace(',','.',regex=True)\n",
    "\n",
    "#ahora le cambio el tipo:\n",
    "fijo_c_100hogares = fijo_c_100hogares.astype({'Accesos por cada 100 hogares': float})\n",
    "\n",
    "#plottear aca o directamente en el dashboard??"
   ]
  },
  {
   "cell_type": "code",
   "execution_count": 163,
   "metadata": {},
   "outputs": [],
   "source": [
    "#agrego la columna fecha:\n",
    "#primero los paso a str: VER EN CADA CASO, SI YA VIENEN COMO str? igual a lo sumo no hace nada! \n",
    "fijo_c_100hogares=fijo_c_100hogares.astype({'Año':str,'Trimestre':str})\n",
    "#ahora los concateno, para q queden en formato tipo '2018-Q1':\n",
    "fijo_c_100hogares['fecha']=fijo_c_100hogares['Año']+'-Q'+fijo_c_100hogares['Trimestre']\n",
    "#ahora:\n",
    "fijo_c_100hogares['fecha'] = pd.to_datetime(fijo_c_100hogares['fecha'])+ pd.offsets.QuarterEnd(0)\n",
    "# el offsets.... es para q lo ponga en el FINAL del Trimestre. "
   ]
  },
  {
   "cell_type": "code",
   "execution_count": 164,
   "metadata": {},
   "outputs": [
    {
     "data": {
      "text/html": [
       "<div>\n",
       "<style scoped>\n",
       "    .dataframe tbody tr th:only-of-type {\n",
       "        vertical-align: middle;\n",
       "    }\n",
       "\n",
       "    .dataframe tbody tr th {\n",
       "        vertical-align: top;\n",
       "    }\n",
       "\n",
       "    .dataframe thead th {\n",
       "        text-align: right;\n",
       "    }\n",
       "</style>\n",
       "<table border=\"1\" class=\"dataframe\">\n",
       "  <thead>\n",
       "    <tr style=\"text-align: right;\">\n",
       "      <th></th>\n",
       "      <th>Año</th>\n",
       "      <th>Trimestre</th>\n",
       "      <th>Provincia</th>\n",
       "      <th>Accesos por cada 100 hogares</th>\n",
       "      <th>fecha</th>\n",
       "    </tr>\n",
       "  </thead>\n",
       "  <tbody>\n",
       "    <tr>\n",
       "      <th>0</th>\n",
       "      <td>2022</td>\n",
       "      <td>1</td>\n",
       "      <td>Buenos Aires</td>\n",
       "      <td>76.08</td>\n",
       "      <td>2022-03-31</td>\n",
       "    </tr>\n",
       "    <tr>\n",
       "      <th>1</th>\n",
       "      <td>2022</td>\n",
       "      <td>1</td>\n",
       "      <td>Capital Federal</td>\n",
       "      <td>111.80</td>\n",
       "      <td>2022-03-31</td>\n",
       "    </tr>\n",
       "  </tbody>\n",
       "</table>\n",
       "</div>"
      ],
      "text/plain": [
       "    Año Trimestre        Provincia  Accesos por cada 100 hogares      fecha\n",
       "0  2022         1     Buenos Aires                         76.08 2022-03-31\n",
       "1  2022         1  Capital Federal                        111.80 2022-03-31"
      ]
     },
     "execution_count": 164,
     "metadata": {},
     "output_type": "execute_result"
    }
   ],
   "source": [
    "fijo_c_100hogares.head(2)"
   ]
  },
  {
   "cell_type": "markdown",
   "metadata": {},
   "source": [
    "Este si me proporciona la info necesaria para el KPI requerido!.  "
   ]
  },
  {
   "cell_type": "code",
   "execution_count": 219,
   "metadata": {},
   "outputs": [],
   "source": [
    "# lo exporto para usar en Tableau:\n",
    "fijo_c_100hogares.to_csv(r'para_Tableau/fijo_c_100hogares8.csv', index=False)"
   ]
  },
  {
   "cell_type": "code",
   "execution_count": 133,
   "metadata": {},
   "outputs": [],
   "source": [
    "# Dataset numero 9: A  .acceso a internet por provincia y tipo de tecnologia:\n",
    "acc_por_tecn_prov=pd.read_csv('Internet_accesos_tecn_prov.csv') "
   ]
  },
  {
   "cell_type": "code",
   "execution_count": 134,
   "metadata": {},
   "outputs": [
    {
     "data": {
      "text/plain": [
       "(793, 9)"
      ]
     },
     "execution_count": 134,
     "metadata": {},
     "output_type": "execute_result"
    }
   ],
   "source": [
    "acc_por_tecn_prov.shape"
   ]
  },
  {
   "cell_type": "code",
   "execution_count": 140,
   "metadata": {},
   "outputs": [
    {
     "name": "stdout",
     "output_type": "stream",
     "text": [
      "<class 'pandas.core.frame.DataFrame'>\n",
      "RangeIndex: 793 entries, 0 to 792\n",
      "Data columns (total 9 columns):\n",
      " #   Column        Non-Null Count  Dtype \n",
      "---  ------        --------------  ----- \n",
      " 0   Año           793 non-null    object\n",
      " 1   Trimestre     793 non-null    object\n",
      " 2   Provincia     792 non-null    object\n",
      " 3   ADSL          792 non-null    object\n",
      " 4   Cablemodem    792 non-null    object\n",
      " 5   Fibra óptica  792 non-null    object\n",
      " 6   Wireless      792 non-null    object\n",
      " 7   Otros         792 non-null    object\n",
      " 8   Total         792 non-null    object\n",
      "dtypes: object(9)\n",
      "memory usage: 55.9+ KB\n"
     ]
    }
   ],
   "source": [
    "acc_por_tecn_prov.info()"
   ]
  },
  {
   "cell_type": "code",
   "execution_count": 148,
   "metadata": {},
   "outputs": [
    {
     "data": {
      "text/html": [
       "<div>\n",
       "<style scoped>\n",
       "    .dataframe tbody tr th:only-of-type {\n",
       "        vertical-align: middle;\n",
       "    }\n",
       "\n",
       "    .dataframe tbody tr th {\n",
       "        vertical-align: top;\n",
       "    }\n",
       "\n",
       "    .dataframe thead th {\n",
       "        text-align: right;\n",
       "    }\n",
       "</style>\n",
       "<table border=\"1\" class=\"dataframe\">\n",
       "  <thead>\n",
       "    <tr style=\"text-align: right;\">\n",
       "      <th></th>\n",
       "      <th>Año</th>\n",
       "      <th>Trimestre</th>\n",
       "      <th>Provincia</th>\n",
       "      <th>ADSL</th>\n",
       "      <th>Cablemodem</th>\n",
       "      <th>Fibra óptica</th>\n",
       "      <th>Wireless</th>\n",
       "      <th>Otros</th>\n",
       "      <th>Total</th>\n",
       "    </tr>\n",
       "  </thead>\n",
       "  <tbody>\n",
       "    <tr>\n",
       "      <th>0</th>\n",
       "      <td>2022</td>\n",
       "      <td>1</td>\n",
       "      <td>Buenos Aires</td>\n",
       "      <td>392045</td>\n",
       "      <td>2728865</td>\n",
       "      <td>1242121</td>\n",
       "      <td>125521</td>\n",
       "      <td>66872</td>\n",
       "      <td>4555424</td>\n",
       "    </tr>\n",
       "    <tr>\n",
       "      <th>1</th>\n",
       "      <td>2022</td>\n",
       "      <td>1</td>\n",
       "      <td>Capital Federal</td>\n",
       "      <td>102290</td>\n",
       "      <td>1217225</td>\n",
       "      <td>62308</td>\n",
       "      <td>5784</td>\n",
       "      <td>29934</td>\n",
       "      <td>1417541</td>\n",
       "    </tr>\n",
       "    <tr>\n",
       "      <th>2</th>\n",
       "      <td>2022</td>\n",
       "      <td>1</td>\n",
       "      <td>Catamarca</td>\n",
       "      <td>14181</td>\n",
       "      <td>15517</td>\n",
       "      <td>29118</td>\n",
       "      <td>1328</td>\n",
       "      <td>2234</td>\n",
       "      <td>62378</td>\n",
       "    </tr>\n",
       "    <tr>\n",
       "      <th>3</th>\n",
       "      <td>2022</td>\n",
       "      <td>1</td>\n",
       "      <td>Chaco</td>\n",
       "      <td>32391</td>\n",
       "      <td>64546</td>\n",
       "      <td>36662</td>\n",
       "      <td>8164</td>\n",
       "      <td>2356</td>\n",
       "      <td>144119</td>\n",
       "    </tr>\n",
       "    <tr>\n",
       "      <th>4</th>\n",
       "      <td>2022</td>\n",
       "      <td>1</td>\n",
       "      <td>Chubut</td>\n",
       "      <td>44133</td>\n",
       "      <td>66667</td>\n",
       "      <td>9184</td>\n",
       "      <td>30592</td>\n",
       "      <td>21052</td>\n",
       "      <td>171628</td>\n",
       "    </tr>\n",
       "  </tbody>\n",
       "</table>\n",
       "</div>"
      ],
      "text/plain": [
       "    Año Trimestre        Provincia    ADSL Cablemodem Fibra óptica Wireless  \\\n",
       "0  2022         1     Buenos Aires  392045    2728865      1242121   125521   \n",
       "1  2022         1  Capital Federal  102290    1217225        62308     5784   \n",
       "2  2022         1        Catamarca   14181      15517        29118     1328   \n",
       "3  2022         1            Chaco   32391      64546        36662     8164   \n",
       "4  2022         1           Chubut   44133      66667         9184    30592   \n",
       "\n",
       "   Otros    Total  \n",
       "0  66872  4555424  \n",
       "1  29934  1417541  \n",
       "2   2234    62378  \n",
       "3   2356   144119  \n",
       "4  21052   171628  "
      ]
     },
     "execution_count": 148,
     "metadata": {},
     "output_type": "execute_result"
    }
   ],
   "source": [
    "acc_por_tecn_prov.head()"
   ]
  },
  {
   "cell_type": "code",
   "execution_count": 138,
   "metadata": {},
   "outputs": [
    {
     "name": "stderr",
     "output_type": "stream",
     "text": [
      "/var/folders/tf/dsk90f9d14gcg40_frclnb7r0000gn/T/ipykernel_88986/314979371.py:2: FutureWarning: The default value of regex will change from True to False in a future version. In addition, single character regular expressions will *not* be treated as literal strings when regex=True.\n",
      "  acc_por_tecn_prov['ADSL']=acc_por_tecn_prov['ADSL'].str.replace('.','')\n"
     ]
    }
   ],
   "source": [
    "# reemplazo '.' por '' en la primera a ver si funciona: \n",
    "acc_por_tecn_prov['ADSL']=acc_por_tecn_prov['ADSL'].str.replace('.','')"
   ]
  },
  {
   "cell_type": "code",
   "execution_count": 143,
   "metadata": {},
   "outputs": [
    {
     "name": "stderr",
     "output_type": "stream",
     "text": [
      "/var/folders/tf/dsk90f9d14gcg40_frclnb7r0000gn/T/ipykernel_88986/2929700835.py:3: FutureWarning: The default value of regex will change from True to False in a future version. In addition, single character regular expressions will *not* be treated as literal strings when regex=True.\n",
      "  acc_por_tecn_prov['Cablemodem']=acc_por_tecn_prov['Cablemodem'].str.replace('.','')\n",
      "/var/folders/tf/dsk90f9d14gcg40_frclnb7r0000gn/T/ipykernel_88986/2929700835.py:4: FutureWarning: The default value of regex will change from True to False in a future version. In addition, single character regular expressions will *not* be treated as literal strings when regex=True.\n",
      "  acc_por_tecn_prov['Fibra óptica']=acc_por_tecn_prov['Fibra óptica'].str.replace('.','')\n",
      "/var/folders/tf/dsk90f9d14gcg40_frclnb7r0000gn/T/ipykernel_88986/2929700835.py:5: FutureWarning: The default value of regex will change from True to False in a future version. In addition, single character regular expressions will *not* be treated as literal strings when regex=True.\n",
      "  acc_por_tecn_prov['Wireless']=acc_por_tecn_prov['Wireless'].str.replace('.','')\n",
      "/var/folders/tf/dsk90f9d14gcg40_frclnb7r0000gn/T/ipykernel_88986/2929700835.py:7: FutureWarning: The default value of regex will change from True to False in a future version. In addition, single character regular expressions will *not* be treated as literal strings when regex=True.\n",
      "  acc_por_tecn_prov['Total']=acc_por_tecn_prov['Total'].str.replace('.','')\n"
     ]
    }
   ],
   "source": [
    "# Lo hago para el resto y convierto a float: (no logre hacerlo para todas al mismo tiempo)\n",
    "#['ADSL','Cablemodem','Fibra óptica','Wireless','Otros','Total'] \n",
    "acc_por_tecn_prov['Cablemodem']=acc_por_tecn_prov['Cablemodem'].str.replace('.','')\n",
    "acc_por_tecn_prov['Fibra óptica']=acc_por_tecn_prov['Fibra óptica'].str.replace('.','')\n",
    "acc_por_tecn_prov['Wireless']=acc_por_tecn_prov['Wireless'].str.replace('.','')\n",
    "#acc_por_tecn_prov['Otros']=acc_por_tecn_prov['Otros'].str.replace('.','')\n",
    "acc_por_tecn_prov['Total']=acc_por_tecn_prov['Total'].str.replace('.','')\n"
   ]
  },
  {
   "cell_type": "code",
   "execution_count": 147,
   "metadata": {},
   "outputs": [
    {
     "name": "stderr",
     "output_type": "stream",
     "text": [
      "/var/folders/tf/dsk90f9d14gcg40_frclnb7r0000gn/T/ipykernel_88986/3686399667.py:2: FutureWarning: The default value of regex will change from True to False in a future version. In addition, single character regular expressions will *not* be treated as literal strings when regex=True.\n",
      "  acc_por_tecn_prov['Otros']=acc_por_tecn_prov['Otros'].str.replace('.','')\n"
     ]
    }
   ],
   "source": [
    "#convierto este 1ro a str porque chillaba:\n",
    "acc_por_tecn_prov['Otros']=acc_por_tecn_prov['Otros'].astype(str)\n",
    "acc_por_tecn_prov['Otros']=acc_por_tecn_prov['Otros'].str.replace('.','')\n"
   ]
  },
  {
   "cell_type": "code",
   "execution_count": 150,
   "metadata": {},
   "outputs": [],
   "source": [
    "#saco los '-' porq chilla el siguiente, como no tiene sentido valores negativos, no hay problema. \n",
    "acc_por_tecn_prov=acc_por_tecn_prov.replace('-','', regex=True)"
   ]
  },
  {
   "cell_type": "code",
   "execution_count": 151,
   "metadata": {},
   "outputs": [],
   "source": [
    "#ahora le cambio el tipo:\n",
    "acc_por_tecn_prov = acc_por_tecn_prov.astype({'ADSL':float,'Cablemodem':float,'Fibra óptica':float,'Wireless':float,'Otros':float,'Total': float})"
   ]
  },
  {
   "cell_type": "code",
   "execution_count": 157,
   "metadata": {},
   "outputs": [],
   "source": [
    "#acc_por_tecn_prov=acc_por_tecn_prov.replace('*','', regex=True)"
   ]
  },
  {
   "cell_type": "code",
   "execution_count": 170,
   "metadata": {},
   "outputs": [
    {
     "data": {
      "text/plain": [
       "\"acc_por_tecn_prov=acc_por_tecn_prov.astype({'Año':int,'Trimestre':int})\\n\\nacc_por_tecn_prov['fecha'] = pd.to_datetime(acc_por_tecn_prov['Año'],acc_por_tecn_prov['Trimestre']*3 + 1,-1)\""
      ]
     },
     "execution_count": 170,
     "metadata": {},
     "output_type": "execute_result"
    }
   ],
   "source": [
    "#tampoco funciona: otra manera para pasar a date...desisto por ahora.\n",
    "'''acc_por_tecn_prov=acc_por_tecn_prov.astype({'Año':int,'Trimestre':int})\n",
    "\n",
    "acc_por_tecn_prov['fecha'] = pd.to_datetime(acc_por_tecn_prov['Año'],acc_por_tecn_prov['Trimestre']*3 + 1,-1)'''"
   ]
  },
  {
   "cell_type": "code",
   "execution_count": 224,
   "metadata": {},
   "outputs": [
    {
     "data": {
      "text/plain": [
       "\"acc_por_tecn_prov=acc_por_tecn_prov.astype({'Año':str,'Trimestre':str})\\n# le saco todos los caracteres no numericos:\\nacc_por_tecn_prov['Año']=acc_por_tecn_prov['Año'].str.replace(r'\\\\D', '')\\nacc_por_tecn_prov['Trimestre']=acc_por_tecn_prov['Trimestre'].str.replace(r'\\\\D', '')\\n#le saco mas cosas;\\n#acc_por_tecn_prov['Año']=acc_por_tecn_prov['Año'].str.replace('%', '')\\n#acc_por_tecn_prov['Trimestre']=acc_por_tecn_prov['Trimestre'].str.replace('%', '')\\n# ahora si los concateno para formar la col 'fecha':\\nacc_por_tecn_prov['fecha']=acc_por_tecn_prov['Año']+'-Q'+acc_por_tecn_prov['Trimestre']\\n#   PORQUE ACA NO FUNCIONA??? tengo algun character molestando '%?'\\nacc_por_tecn_prov['fecha'] = pd.to_datetime(acc_por_tecn_prov['fecha'])+ pd.offsets.QuarterEnd(0)\""
      ]
     },
     "execution_count": 224,
     "metadata": {},
     "output_type": "execute_result"
    }
   ],
   "source": [
    "# agrego columna fecha:\n",
    "'''acc_por_tecn_prov=acc_por_tecn_prov.astype({'Año':str,'Trimestre':str})\n",
    "# le saco todos los caracteres no numericos:\n",
    "acc_por_tecn_prov['Año']=acc_por_tecn_prov['Año'].str.replace(r'\\D', '')\n",
    "acc_por_tecn_prov['Trimestre']=acc_por_tecn_prov['Trimestre'].str.replace(r'\\D', '')\n",
    "#le saco mas cosas;\n",
    "#acc_por_tecn_prov['Año']=acc_por_tecn_prov['Año'].str.replace('%', '')\n",
    "#acc_por_tecn_prov['Trimestre']=acc_por_tecn_prov['Trimestre'].str.replace('%', '')\n",
    "# ahora si los concateno para formar la col 'fecha':\n",
    "acc_por_tecn_prov['fecha']=acc_por_tecn_prov['Año']+'-Q'+acc_por_tecn_prov['Trimestre']\n",
    "#   PORQUE ACA NO FUNCIONA??? tengo algun character molestando '%?'\n",
    "acc_por_tecn_prov['fecha'] = pd.to_datetime(acc_por_tecn_prov['fecha'])+ pd.offsets.QuarterEnd(0)'''"
   ]
  },
  {
   "cell_type": "markdown",
   "metadata": {},
   "source": [
    "OBS: no llego a TRANSFORMARLA! DEMASIADO SUCIA. VER ultima instancia si la puedo incorporar!\n",
    "\n",
    "Me permite visualizar como estan distribuidos los tipos de conecciones por provincia, muy relevante para el analisis a nivel nacional, permite enfocar en desarrollar cada caso en particular. \n"
   ]
  },
  {
   "cell_type": "code",
   "execution_count": 220,
   "metadata": {},
   "outputs": [],
   "source": [
    "# lo exporto para usar en Tableau:\n",
    "acc_por_tecn_prov.to_csv(r'para_Tableau/acc_por_tecn_prov9.csv', index=False)"
   ]
  },
  {
   "cell_type": "code",
   "execution_count": 56,
   "metadata": {},
   "outputs": [],
   "source": [
    "# Dataset nunmero 10: A .accesos a internet por tencologia nacional.\n",
    "\n",
    "acc_por_tecn_nac=pd.read_csv('Internet_accesos_tecnologia.csv') \n"
   ]
  },
  {
   "cell_type": "code",
   "execution_count": 57,
   "metadata": {},
   "outputs": [
    {
     "data": {
      "text/plain": [
       "(33, 9)"
      ]
     },
     "execution_count": 57,
     "metadata": {},
     "output_type": "execute_result"
    }
   ],
   "source": [
    "acc_por_tecn_nac.shape"
   ]
  },
  {
   "cell_type": "code",
   "execution_count": 58,
   "metadata": {},
   "outputs": [
    {
     "name": "stdout",
     "output_type": "stream",
     "text": [
      "<class 'pandas.core.frame.DataFrame'>\n",
      "RangeIndex: 33 entries, 0 to 32\n",
      "Data columns (total 9 columns):\n",
      " #   Column        Non-Null Count  Dtype  \n",
      "---  ------        --------------  -----  \n",
      " 0   Año           33 non-null     int64  \n",
      " 1   Trimestre     33 non-null     int64  \n",
      " 2   ADSL          33 non-null     object \n",
      " 3   Cablemodem    33 non-null     object \n",
      " 4   Fibra óptica  33 non-null     object \n",
      " 5   Wireless      33 non-null     float64\n",
      " 6   Otros         33 non-null     float64\n",
      " 7   Total         33 non-null     object \n",
      " 8   Periodo       33 non-null     object \n",
      "dtypes: float64(2), int64(2), object(5)\n",
      "memory usage: 2.4+ KB\n"
     ]
    }
   ],
   "source": [
    "acc_por_tecn_nac.info()"
   ]
  },
  {
   "cell_type": "code",
   "execution_count": 59,
   "metadata": {},
   "outputs": [
    {
     "data": {
      "text/html": [
       "<div>\n",
       "<style scoped>\n",
       "    .dataframe tbody tr th:only-of-type {\n",
       "        vertical-align: middle;\n",
       "    }\n",
       "\n",
       "    .dataframe tbody tr th {\n",
       "        vertical-align: top;\n",
       "    }\n",
       "\n",
       "    .dataframe thead th {\n",
       "        text-align: right;\n",
       "    }\n",
       "</style>\n",
       "<table border=\"1\" class=\"dataframe\">\n",
       "  <thead>\n",
       "    <tr style=\"text-align: right;\">\n",
       "      <th></th>\n",
       "      <th>Año</th>\n",
       "      <th>Trimestre</th>\n",
       "      <th>Wireless</th>\n",
       "      <th>Otros</th>\n",
       "    </tr>\n",
       "  </thead>\n",
       "  <tbody>\n",
       "    <tr>\n",
       "      <th>count</th>\n",
       "      <td>33.000000</td>\n",
       "      <td>33.000000</td>\n",
       "      <td>33.000000</td>\n",
       "      <td>33.000000</td>\n",
       "    </tr>\n",
       "    <tr>\n",
       "      <th>mean</th>\n",
       "      <td>2017.636364</td>\n",
       "      <td>2.454545</td>\n",
       "      <td>229.589333</td>\n",
       "      <td>142.219667</td>\n",
       "    </tr>\n",
       "    <tr>\n",
       "      <th>std</th>\n",
       "      <td>2.421495</td>\n",
       "      <td>1.148121</td>\n",
       "      <td>161.229149</td>\n",
       "      <td>85.696782</td>\n",
       "    </tr>\n",
       "    <tr>\n",
       "      <th>min</th>\n",
       "      <td>2014.000000</td>\n",
       "      <td>1.000000</td>\n",
       "      <td>70.749000</td>\n",
       "      <td>54.300000</td>\n",
       "    </tr>\n",
       "    <tr>\n",
       "      <th>25%</th>\n",
       "      <td>2016.000000</td>\n",
       "      <td>1.000000</td>\n",
       "      <td>85.096000</td>\n",
       "      <td>59.482000</td>\n",
       "    </tr>\n",
       "    <tr>\n",
       "      <th>50%</th>\n",
       "      <td>2018.000000</td>\n",
       "      <td>2.000000</td>\n",
       "      <td>165.300000</td>\n",
       "      <td>98.870000</td>\n",
       "    </tr>\n",
       "    <tr>\n",
       "      <th>75%</th>\n",
       "      <td>2020.000000</td>\n",
       "      <td>3.000000</td>\n",
       "      <td>352.333000</td>\n",
       "      <td>248.821000</td>\n",
       "    </tr>\n",
       "    <tr>\n",
       "      <th>max</th>\n",
       "      <td>2022.000000</td>\n",
       "      <td>4.000000</td>\n",
       "      <td>545.814000</td>\n",
       "      <td>265.328000</td>\n",
       "    </tr>\n",
       "  </tbody>\n",
       "</table>\n",
       "</div>"
      ],
      "text/plain": [
       "               Año  Trimestre    Wireless       Otros\n",
       "count    33.000000  33.000000   33.000000   33.000000\n",
       "mean   2017.636364   2.454545  229.589333  142.219667\n",
       "std       2.421495   1.148121  161.229149   85.696782\n",
       "min    2014.000000   1.000000   70.749000   54.300000\n",
       "25%    2016.000000   1.000000   85.096000   59.482000\n",
       "50%    2018.000000   2.000000  165.300000   98.870000\n",
       "75%    2020.000000   3.000000  352.333000  248.821000\n",
       "max    2022.000000   4.000000  545.814000  265.328000"
      ]
     },
     "execution_count": 59,
     "metadata": {},
     "output_type": "execute_result"
    }
   ],
   "source": [
    "acc_por_tecn_nac.describe()"
   ]
  },
  {
   "cell_type": "code",
   "execution_count": 60,
   "metadata": {},
   "outputs": [
    {
     "data": {
      "text/html": [
       "<div>\n",
       "<style scoped>\n",
       "    .dataframe tbody tr th:only-of-type {\n",
       "        vertical-align: middle;\n",
       "    }\n",
       "\n",
       "    .dataframe tbody tr th {\n",
       "        vertical-align: top;\n",
       "    }\n",
       "\n",
       "    .dataframe thead th {\n",
       "        text-align: right;\n",
       "    }\n",
       "</style>\n",
       "<table border=\"1\" class=\"dataframe\">\n",
       "  <thead>\n",
       "    <tr style=\"text-align: right;\">\n",
       "      <th></th>\n",
       "      <th>Año</th>\n",
       "      <th>Trimestre</th>\n",
       "      <th>ADSL</th>\n",
       "      <th>Cablemodem</th>\n",
       "      <th>Fibra óptica</th>\n",
       "      <th>Wireless</th>\n",
       "      <th>Otros</th>\n",
       "      <th>Total</th>\n",
       "      <th>Periodo</th>\n",
       "    </tr>\n",
       "  </thead>\n",
       "  <tbody>\n",
       "    <tr>\n",
       "      <th>0</th>\n",
       "      <td>2022</td>\n",
       "      <td>1</td>\n",
       "      <td>1.533.240</td>\n",
       "      <td>6.073.426</td>\n",
       "      <td>2.219.533</td>\n",
       "      <td>545.814</td>\n",
       "      <td>251.996</td>\n",
       "      <td>10.624.009</td>\n",
       "      <td>Ene-Mar 2022</td>\n",
       "    </tr>\n",
       "    <tr>\n",
       "      <th>1</th>\n",
       "      <td>2021</td>\n",
       "      <td>4</td>\n",
       "      <td>1.657.615</td>\n",
       "      <td>5.984.240</td>\n",
       "      <td>2.072.236</td>\n",
       "      <td>523.107</td>\n",
       "      <td>252.596</td>\n",
       "      <td>10.489.794</td>\n",
       "      <td>Oct-Dic 2021</td>\n",
       "    </tr>\n",
       "    <tr>\n",
       "      <th>2</th>\n",
       "      <td>2021</td>\n",
       "      <td>3</td>\n",
       "      <td>1.950.631</td>\n",
       "      <td>5.826.257</td>\n",
       "      <td>1.566.048</td>\n",
       "      <td>492.415</td>\n",
       "      <td>250.190</td>\n",
       "      <td>10.085.541</td>\n",
       "      <td>Jul-Sept 2021</td>\n",
       "    </tr>\n",
       "    <tr>\n",
       "      <th>3</th>\n",
       "      <td>2021</td>\n",
       "      <td>2</td>\n",
       "      <td>2.018.587</td>\n",
       "      <td>5.641.731</td>\n",
       "      <td>1.472.246</td>\n",
       "      <td>476.968</td>\n",
       "      <td>253.552</td>\n",
       "      <td>9.863.084</td>\n",
       "      <td>Abr-Jun 2021</td>\n",
       "    </tr>\n",
       "    <tr>\n",
       "      <th>4</th>\n",
       "      <td>2021</td>\n",
       "      <td>1</td>\n",
       "      <td>2.175.211</td>\n",
       "      <td>5.424.782</td>\n",
       "      <td>1.362.976</td>\n",
       "      <td>434.548</td>\n",
       "      <td>250.455</td>\n",
       "      <td>9.647.972</td>\n",
       "      <td>Ene-Mar 2021</td>\n",
       "    </tr>\n",
       "  </tbody>\n",
       "</table>\n",
       "</div>"
      ],
      "text/plain": [
       "    Año  Trimestre       ADSL Cablemodem Fibra óptica  Wireless    Otros  \\\n",
       "0  2022          1  1.533.240  6.073.426    2.219.533   545.814  251.996   \n",
       "1  2021          4  1.657.615  5.984.240    2.072.236   523.107  252.596   \n",
       "2  2021          3  1.950.631  5.826.257    1.566.048   492.415  250.190   \n",
       "3  2021          2  2.018.587  5.641.731    1.472.246   476.968  253.552   \n",
       "4  2021          1  2.175.211  5.424.782    1.362.976   434.548  250.455   \n",
       "\n",
       "        Total        Periodo  \n",
       "0  10.624.009   Ene-Mar 2022  \n",
       "1  10.489.794   Oct-Dic 2021  \n",
       "2  10.085.541  Jul-Sept 2021  \n",
       "3   9.863.084   Abr-Jun 2021  \n",
       "4   9.647.972   Ene-Mar 2021  "
      ]
     },
     "execution_count": 60,
     "metadata": {},
     "output_type": "execute_result"
    }
   ],
   "source": [
    "acc_por_tecn_nac.head()\n",
    "# es a nivel nacinal, Trimestral, solo entre 2014-2022. Observo tiene casi los mismas columnas que el anterior. "
   ]
  },
  {
   "cell_type": "markdown",
   "metadata": {},
   "source": [
    "No voy a utilizar este DF ya que tengo la info mas detallada en el DF 9. "
   ]
  },
  {
   "cell_type": "code",
   "execution_count": 61,
   "metadata": {},
   "outputs": [],
   "source": [
    "# Dataset nunmero 11: B   .accessos RANGOS vel bajada por provincia:\n",
    "\n",
    "acc_vel_bajada_prov=pd.read_csv('Internet_accesos_vel_bajada_prov.csv')\n"
   ]
  },
  {
   "cell_type": "code",
   "execution_count": 62,
   "metadata": {},
   "outputs": [
    {
     "data": {
      "text/plain": [
       "(792, 12)"
      ]
     },
     "execution_count": 62,
     "metadata": {},
     "output_type": "execute_result"
    }
   ],
   "source": [
    "acc_vel_bajada_prov.shape"
   ]
  },
  {
   "cell_type": "code",
   "execution_count": 63,
   "metadata": {},
   "outputs": [
    {
     "name": "stdout",
     "output_type": "stream",
     "text": [
      "<class 'pandas.core.frame.DataFrame'>\n",
      "RangeIndex: 792 entries, 0 to 791\n",
      "Data columns (total 12 columns):\n",
      " #   Column               Non-Null Count  Dtype  \n",
      "---  ------               --------------  -----  \n",
      " 0   Año                  792 non-null    int64  \n",
      " 1   Trimestre            792 non-null    int64  \n",
      " 2   Provincia            792 non-null    object \n",
      " 3   HASTA 512 kbps       792 non-null    float64\n",
      " 4   + 512 Kbps - 1 Mbps  792 non-null    float64\n",
      " 5   + 1 Mbps - 6 Mbps    792 non-null    object \n",
      " 6   + 6 Mbps - 10 Mbps   792 non-null    float64\n",
      " 7   + 10 Mbps - 20 Mbps  792 non-null    float64\n",
      " 8   + 20 Mbps - 30 Mbps  792 non-null    float64\n",
      " 9   + 30 Mbps            792 non-null    object \n",
      " 10  OTROS                786 non-null    float64\n",
      " 11  Total                792 non-null    object \n",
      "dtypes: float64(6), int64(2), object(4)\n",
      "memory usage: 74.4+ KB\n"
     ]
    }
   ],
   "source": [
    "acc_vel_bajada_prov.info()"
   ]
  },
  {
   "cell_type": "code",
   "execution_count": 64,
   "metadata": {},
   "outputs": [
    {
     "data": {
      "text/html": [
       "<div>\n",
       "<style scoped>\n",
       "    .dataframe tbody tr th:only-of-type {\n",
       "        vertical-align: middle;\n",
       "    }\n",
       "\n",
       "    .dataframe tbody tr th {\n",
       "        vertical-align: top;\n",
       "    }\n",
       "\n",
       "    .dataframe thead th {\n",
       "        text-align: right;\n",
       "    }\n",
       "</style>\n",
       "<table border=\"1\" class=\"dataframe\">\n",
       "  <thead>\n",
       "    <tr style=\"text-align: right;\">\n",
       "      <th></th>\n",
       "      <th>Año</th>\n",
       "      <th>Trimestre</th>\n",
       "      <th>HASTA 512 kbps</th>\n",
       "      <th>+ 512 Kbps - 1 Mbps</th>\n",
       "      <th>+ 6 Mbps - 10 Mbps</th>\n",
       "      <th>+ 10 Mbps - 20 Mbps</th>\n",
       "      <th>+ 20 Mbps - 30 Mbps</th>\n",
       "      <th>OTROS</th>\n",
       "    </tr>\n",
       "  </thead>\n",
       "  <tbody>\n",
       "    <tr>\n",
       "      <th>count</th>\n",
       "      <td>792.000000</td>\n",
       "      <td>792.000000</td>\n",
       "      <td>792.000000</td>\n",
       "      <td>792.000000</td>\n",
       "      <td>792.000000</td>\n",
       "      <td>792.000000</td>\n",
       "      <td>792.000000</td>\n",
       "      <td>786.000000</td>\n",
       "    </tr>\n",
       "    <tr>\n",
       "      <th>mean</th>\n",
       "      <td>2017.636364</td>\n",
       "      <td>2.454545</td>\n",
       "      <td>125.923957</td>\n",
       "      <td>97.393794</td>\n",
       "      <td>72.779756</td>\n",
       "      <td>82.715126</td>\n",
       "      <td>100.582816</td>\n",
       "      <td>26.008611</td>\n",
       "    </tr>\n",
       "    <tr>\n",
       "      <th>std</th>\n",
       "      <td>2.386030</td>\n",
       "      <td>1.131306</td>\n",
       "      <td>190.102087</td>\n",
       "      <td>198.510950</td>\n",
       "      <td>143.431382</td>\n",
       "      <td>174.830175</td>\n",
       "      <td>207.784231</td>\n",
       "      <td>113.774689</td>\n",
       "    </tr>\n",
       "    <tr>\n",
       "      <th>min</th>\n",
       "      <td>2014.000000</td>\n",
       "      <td>1.000000</td>\n",
       "      <td>1.007000</td>\n",
       "      <td>0.000000</td>\n",
       "      <td>0.000000</td>\n",
       "      <td>0.000000</td>\n",
       "      <td>0.000000</td>\n",
       "      <td>-1.945000</td>\n",
       "    </tr>\n",
       "    <tr>\n",
       "      <th>25%</th>\n",
       "      <td>2016.000000</td>\n",
       "      <td>1.000000</td>\n",
       "      <td>9.364500</td>\n",
       "      <td>3.491500</td>\n",
       "      <td>5.186750</td>\n",
       "      <td>4.582250</td>\n",
       "      <td>2.000000</td>\n",
       "      <td>0.000000</td>\n",
       "    </tr>\n",
       "    <tr>\n",
       "      <th>50%</th>\n",
       "      <td>2018.000000</td>\n",
       "      <td>2.000000</td>\n",
       "      <td>48.000000</td>\n",
       "      <td>8.894500</td>\n",
       "      <td>19.966000</td>\n",
       "      <td>14.852000</td>\n",
       "      <td>10.402000</td>\n",
       "      <td>0.000000</td>\n",
       "    </tr>\n",
       "    <tr>\n",
       "      <th>75%</th>\n",
       "      <td>2020.000000</td>\n",
       "      <td>3.000000</td>\n",
       "      <td>135.500000</td>\n",
       "      <td>84.000000</td>\n",
       "      <td>63.170250</td>\n",
       "      <td>56.480000</td>\n",
       "      <td>65.540250</td>\n",
       "      <td>6.433000</td>\n",
       "    </tr>\n",
       "    <tr>\n",
       "      <th>max</th>\n",
       "      <td>2022.000000</td>\n",
       "      <td>4.000000</td>\n",
       "      <td>998.000000</td>\n",
       "      <td>995.000000</td>\n",
       "      <td>917.000000</td>\n",
       "      <td>978.000000</td>\n",
       "      <td>997.000000</td>\n",
       "      <td>898.000000</td>\n",
       "    </tr>\n",
       "  </tbody>\n",
       "</table>\n",
       "</div>"
      ],
      "text/plain": [
       "               Año   Trimestre  HASTA 512 kbps  + 512 Kbps - 1 Mbps  \\\n",
       "count   792.000000  792.000000      792.000000           792.000000   \n",
       "mean   2017.636364    2.454545      125.923957            97.393794   \n",
       "std       2.386030    1.131306      190.102087           198.510950   \n",
       "min    2014.000000    1.000000        1.007000             0.000000   \n",
       "25%    2016.000000    1.000000        9.364500             3.491500   \n",
       "50%    2018.000000    2.000000       48.000000             8.894500   \n",
       "75%    2020.000000    3.000000      135.500000            84.000000   \n",
       "max    2022.000000    4.000000      998.000000           995.000000   \n",
       "\n",
       "       + 6 Mbps - 10 Mbps  + 10 Mbps - 20 Mbps  + 20 Mbps - 30 Mbps  \\\n",
       "count          792.000000           792.000000           792.000000   \n",
       "mean            72.779756            82.715126           100.582816   \n",
       "std            143.431382           174.830175           207.784231   \n",
       "min              0.000000             0.000000             0.000000   \n",
       "25%              5.186750             4.582250             2.000000   \n",
       "50%             19.966000            14.852000            10.402000   \n",
       "75%             63.170250            56.480000            65.540250   \n",
       "max            917.000000           978.000000           997.000000   \n",
       "\n",
       "            OTROS  \n",
       "count  786.000000  \n",
       "mean    26.008611  \n",
       "std    113.774689  \n",
       "min     -1.945000  \n",
       "25%      0.000000  \n",
       "50%      0.000000  \n",
       "75%      6.433000  \n",
       "max    898.000000  "
      ]
     },
     "execution_count": 64,
     "metadata": {},
     "output_type": "execute_result"
    }
   ],
   "source": [
    "acc_vel_bajada_prov.describe()\n"
   ]
  },
  {
   "cell_type": "code",
   "execution_count": 65,
   "metadata": {},
   "outputs": [
    {
     "data": {
      "text/html": [
       "<div>\n",
       "<style scoped>\n",
       "    .dataframe tbody tr th:only-of-type {\n",
       "        vertical-align: middle;\n",
       "    }\n",
       "\n",
       "    .dataframe tbody tr th {\n",
       "        vertical-align: top;\n",
       "    }\n",
       "\n",
       "    .dataframe thead th {\n",
       "        text-align: right;\n",
       "    }\n",
       "</style>\n",
       "<table border=\"1\" class=\"dataframe\">\n",
       "  <thead>\n",
       "    <tr style=\"text-align: right;\">\n",
       "      <th></th>\n",
       "      <th>Año</th>\n",
       "      <th>Trimestre</th>\n",
       "      <th>Provincia</th>\n",
       "      <th>HASTA 512 kbps</th>\n",
       "      <th>+ 512 Kbps - 1 Mbps</th>\n",
       "      <th>+ 1 Mbps - 6 Mbps</th>\n",
       "      <th>+ 6 Mbps - 10 Mbps</th>\n",
       "      <th>+ 10 Mbps - 20 Mbps</th>\n",
       "      <th>+ 20 Mbps - 30 Mbps</th>\n",
       "      <th>+ 30 Mbps</th>\n",
       "      <th>OTROS</th>\n",
       "      <th>Total</th>\n",
       "    </tr>\n",
       "  </thead>\n",
       "  <tbody>\n",
       "    <tr>\n",
       "      <th>0</th>\n",
       "      <td>2022</td>\n",
       "      <td>1</td>\n",
       "      <td>Buenos Aires</td>\n",
       "      <td>31.591</td>\n",
       "      <td>30.056</td>\n",
       "      <td>313.382</td>\n",
       "      <td>321.756</td>\n",
       "      <td>290.127</td>\n",
       "      <td>161.183</td>\n",
       "      <td>3.381.049</td>\n",
       "      <td>26.280</td>\n",
       "      <td>4.555.424</td>\n",
       "    </tr>\n",
       "    <tr>\n",
       "      <th>1</th>\n",
       "      <td>2022</td>\n",
       "      <td>1</td>\n",
       "      <td>Capital Federal</td>\n",
       "      <td>527.000</td>\n",
       "      <td>5.575</td>\n",
       "      <td>39.918</td>\n",
       "      <td>77.390</td>\n",
       "      <td>61.053</td>\n",
       "      <td>43.289</td>\n",
       "      <td>1.188.072</td>\n",
       "      <td>1.717</td>\n",
       "      <td>1.417.541</td>\n",
       "    </tr>\n",
       "    <tr>\n",
       "      <th>2</th>\n",
       "      <td>2022</td>\n",
       "      <td>1</td>\n",
       "      <td>Catamarca</td>\n",
       "      <td>71.000</td>\n",
       "      <td>456.000</td>\n",
       "      <td>4.386</td>\n",
       "      <td>7.009</td>\n",
       "      <td>8.773</td>\n",
       "      <td>3.761</td>\n",
       "      <td>35.715</td>\n",
       "      <td>2.207</td>\n",
       "      <td>62.378</td>\n",
       "    </tr>\n",
       "    <tr>\n",
       "      <th>3</th>\n",
       "      <td>2022</td>\n",
       "      <td>1</td>\n",
       "      <td>Chaco</td>\n",
       "      <td>461.000</td>\n",
       "      <td>1.099</td>\n",
       "      <td>16.888</td>\n",
       "      <td>21.235</td>\n",
       "      <td>20.898</td>\n",
       "      <td>13.012</td>\n",
       "      <td>62.946</td>\n",
       "      <td>7.580</td>\n",
       "      <td>144.119</td>\n",
       "    </tr>\n",
       "    <tr>\n",
       "      <th>4</th>\n",
       "      <td>2022</td>\n",
       "      <td>1</td>\n",
       "      <td>Chubut</td>\n",
       "      <td>113.000</td>\n",
       "      <td>1.677</td>\n",
       "      <td>61.369</td>\n",
       "      <td>31.856</td>\n",
       "      <td>33.080</td>\n",
       "      <td>13.871</td>\n",
       "      <td>14.055</td>\n",
       "      <td>15.607</td>\n",
       "      <td>171.628</td>\n",
       "    </tr>\n",
       "    <tr>\n",
       "      <th>5</th>\n",
       "      <td>2022</td>\n",
       "      <td>1</td>\n",
       "      <td>Córdoba</td>\n",
       "      <td>100.000</td>\n",
       "      <td>12.782</td>\n",
       "      <td>165.922</td>\n",
       "      <td>126.009</td>\n",
       "      <td>73.967</td>\n",
       "      <td>34.892</td>\n",
       "      <td>577.027</td>\n",
       "      <td>13.104</td>\n",
       "      <td>1.003.803</td>\n",
       "    </tr>\n",
       "    <tr>\n",
       "      <th>6</th>\n",
       "      <td>2022</td>\n",
       "      <td>1</td>\n",
       "      <td>Corrientes</td>\n",
       "      <td>67.000</td>\n",
       "      <td>4.029</td>\n",
       "      <td>24.563</td>\n",
       "      <td>25.665</td>\n",
       "      <td>27.077</td>\n",
       "      <td>10.452</td>\n",
       "      <td>43.631</td>\n",
       "      <td>7.094</td>\n",
       "      <td>142.578</td>\n",
       "    </tr>\n",
       "    <tr>\n",
       "      <th>7</th>\n",
       "      <td>2022</td>\n",
       "      <td>1</td>\n",
       "      <td>Entre Ríos</td>\n",
       "      <td>107.000</td>\n",
       "      <td>5.745</td>\n",
       "      <td>50.075</td>\n",
       "      <td>49.620</td>\n",
       "      <td>42.294</td>\n",
       "      <td>21.578</td>\n",
       "      <td>81.757</td>\n",
       "      <td>16.750</td>\n",
       "      <td>267.926</td>\n",
       "    </tr>\n",
       "    <tr>\n",
       "      <th>8</th>\n",
       "      <td>2022</td>\n",
       "      <td>1</td>\n",
       "      <td>Formosa</td>\n",
       "      <td>97.000</td>\n",
       "      <td>448.000</td>\n",
       "      <td>24.113</td>\n",
       "      <td>6.945</td>\n",
       "      <td>6.613</td>\n",
       "      <td>716.000</td>\n",
       "      <td>15.028</td>\n",
       "      <td>588.000</td>\n",
       "      <td>54.548</td>\n",
       "    </tr>\n",
       "    <tr>\n",
       "      <th>9</th>\n",
       "      <td>2022</td>\n",
       "      <td>1</td>\n",
       "      <td>Jujuy</td>\n",
       "      <td>58.000</td>\n",
       "      <td>1.761</td>\n",
       "      <td>22.141</td>\n",
       "      <td>16.321</td>\n",
       "      <td>37.923</td>\n",
       "      <td>576.000</td>\n",
       "      <td>35.287</td>\n",
       "      <td>2.442</td>\n",
       "      <td>116.509</td>\n",
       "    </tr>\n",
       "  </tbody>\n",
       "</table>\n",
       "</div>"
      ],
      "text/plain": [
       "    Año  Trimestre        Provincia  HASTA 512 kbps  + 512 Kbps - 1 Mbps  \\\n",
       "0  2022          1     Buenos Aires          31.591               30.056   \n",
       "1  2022          1  Capital Federal         527.000                5.575   \n",
       "2  2022          1        Catamarca          71.000              456.000   \n",
       "3  2022          1            Chaco         461.000                1.099   \n",
       "4  2022          1           Chubut         113.000                1.677   \n",
       "5  2022          1          Córdoba         100.000               12.782   \n",
       "6  2022          1       Corrientes          67.000                4.029   \n",
       "7  2022          1       Entre Ríos         107.000                5.745   \n",
       "8  2022          1          Formosa          97.000              448.000   \n",
       "9  2022          1            Jujuy          58.000                1.761   \n",
       "\n",
       "  + 1 Mbps - 6 Mbps  + 6 Mbps - 10 Mbps  + 10 Mbps - 20 Mbps  \\\n",
       "0           313.382             321.756              290.127   \n",
       "1            39.918              77.390               61.053   \n",
       "2             4.386               7.009                8.773   \n",
       "3            16.888              21.235               20.898   \n",
       "4            61.369              31.856               33.080   \n",
       "5           165.922             126.009               73.967   \n",
       "6            24.563              25.665               27.077   \n",
       "7            50.075              49.620               42.294   \n",
       "8            24.113               6.945                6.613   \n",
       "9            22.141              16.321               37.923   \n",
       "\n",
       "   + 20 Mbps - 30 Mbps  + 30 Mbps    OTROS      Total  \n",
       "0              161.183  3.381.049   26.280  4.555.424  \n",
       "1               43.289  1.188.072    1.717  1.417.541  \n",
       "2                3.761     35.715    2.207     62.378  \n",
       "3               13.012     62.946    7.580    144.119  \n",
       "4               13.871     14.055   15.607    171.628  \n",
       "5               34.892    577.027   13.104  1.003.803  \n",
       "6               10.452     43.631    7.094    142.578  \n",
       "7               21.578     81.757   16.750    267.926  \n",
       "8              716.000     15.028  588.000     54.548  \n",
       "9              576.000     35.287    2.442    116.509  "
      ]
     },
     "execution_count": 65,
     "metadata": {},
     "output_type": "execute_result"
    }
   ],
   "source": [
    "acc_vel_bajada_prov.head(10)"
   ]
  },
  {
   "cell_type": "markdown",
   "metadata": {},
   "source": [
    "No voy a utilizar este DF, en cambio, usare el numero 5, que me proporciona la info con la velocidad MEDIA, la cual es mucho mas facil comprender y me aporta info relevante. Luego si se quiere analizar alguna provincia en particular, se puede acceder a esta info mas detallada. "
   ]
  },
  {
   "cell_type": "code",
   "execution_count": 66,
   "metadata": {},
   "outputs": [],
   "source": [
    "# Dataset numero 12: B  .Accessos por RANGOS vel bajada ,NACIONAL. \n",
    "acc_vel=pd.read_csv('Internet_accesos_vel.csv')"
   ]
  },
  {
   "cell_type": "code",
   "execution_count": 67,
   "metadata": {},
   "outputs": [
    {
     "data": {
      "text/plain": [
       "(33, 12)"
      ]
     },
     "execution_count": 67,
     "metadata": {},
     "output_type": "execute_result"
    }
   ],
   "source": [
    "acc_vel.shape"
   ]
  },
  {
   "cell_type": "code",
   "execution_count": 68,
   "metadata": {},
   "outputs": [
    {
     "name": "stdout",
     "output_type": "stream",
     "text": [
      "<class 'pandas.core.frame.DataFrame'>\n",
      "RangeIndex: 33 entries, 0 to 32\n",
      "Data columns (total 12 columns):\n",
      " #   Column                   Non-Null Count  Dtype  \n",
      "---  ------                   --------------  -----  \n",
      " 0   Año                      33 non-null     int64  \n",
      " 1   Trimestre                33 non-null     int64  \n",
      " 2   Hasta 512 kbps           33 non-null     float64\n",
      " 3   Entre 512 Kbps y 1 Mbps  33 non-null     float64\n",
      " 4   Entre 1 Mbps y 6 Mbps    33 non-null     object \n",
      " 5   Entre 6 Mbps y 10 Mbps   33 non-null     object \n",
      " 6   Entre 10 Mbps y 20 Mbps  33 non-null     object \n",
      " 7   Entre 20 Mbps y 30 Mbps  33 non-null     object \n",
      " 8   Más de 30 Mbps           33 non-null     object \n",
      " 9   OTROS                    33 non-null     float64\n",
      " 10  Total                    33 non-null     object \n",
      " 11  Unnamed: 11              0 non-null      float64\n",
      "dtypes: float64(4), int64(2), object(6)\n",
      "memory usage: 3.2+ KB\n"
     ]
    }
   ],
   "source": [
    "acc_vel.info()"
   ]
  },
  {
   "cell_type": "code",
   "execution_count": 69,
   "metadata": {},
   "outputs": [
    {
     "data": {
      "text/html": [
       "<div>\n",
       "<style scoped>\n",
       "    .dataframe tbody tr th:only-of-type {\n",
       "        vertical-align: middle;\n",
       "    }\n",
       "\n",
       "    .dataframe tbody tr th {\n",
       "        vertical-align: top;\n",
       "    }\n",
       "\n",
       "    .dataframe thead th {\n",
       "        text-align: right;\n",
       "    }\n",
       "</style>\n",
       "<table border=\"1\" class=\"dataframe\">\n",
       "  <thead>\n",
       "    <tr style=\"text-align: right;\">\n",
       "      <th></th>\n",
       "      <th>Año</th>\n",
       "      <th>Trimestre</th>\n",
       "      <th>Hasta 512 kbps</th>\n",
       "      <th>Entre 512 Kbps y 1 Mbps</th>\n",
       "      <th>OTROS</th>\n",
       "      <th>Unnamed: 11</th>\n",
       "    </tr>\n",
       "  </thead>\n",
       "  <tbody>\n",
       "    <tr>\n",
       "      <th>count</th>\n",
       "      <td>33.000000</td>\n",
       "      <td>33.000000</td>\n",
       "      <td>33.000000</td>\n",
       "      <td>33.000000</td>\n",
       "      <td>33.000000</td>\n",
       "      <td>0.0</td>\n",
       "    </tr>\n",
       "    <tr>\n",
       "      <th>mean</th>\n",
       "      <td>2017.636364</td>\n",
       "      <td>2.454545</td>\n",
       "      <td>51.088424</td>\n",
       "      <td>252.235333</td>\n",
       "      <td>103.903000</td>\n",
       "      <td>NaN</td>\n",
       "    </tr>\n",
       "    <tr>\n",
       "      <th>std</th>\n",
       "      <td>2.421495</td>\n",
       "      <td>1.148121</td>\n",
       "      <td>54.547751</td>\n",
       "      <td>202.020771</td>\n",
       "      <td>99.722046</td>\n",
       "      <td>NaN</td>\n",
       "    </tr>\n",
       "    <tr>\n",
       "      <th>min</th>\n",
       "      <td>2014.000000</td>\n",
       "      <td>1.000000</td>\n",
       "      <td>5.675000</td>\n",
       "      <td>28.521000</td>\n",
       "      <td>0.000000</td>\n",
       "      <td>NaN</td>\n",
       "    </tr>\n",
       "    <tr>\n",
       "      <th>25%</th>\n",
       "      <td>2016.000000</td>\n",
       "      <td>1.000000</td>\n",
       "      <td>22.366000</td>\n",
       "      <td>56.170000</td>\n",
       "      <td>0.000000</td>\n",
       "      <td>NaN</td>\n",
       "    </tr>\n",
       "    <tr>\n",
       "      <th>50%</th>\n",
       "      <td>2018.000000</td>\n",
       "      <td>2.000000</td>\n",
       "      <td>39.510000</td>\n",
       "      <td>219.467000</td>\n",
       "      <td>138.840000</td>\n",
       "      <td>NaN</td>\n",
       "    </tr>\n",
       "    <tr>\n",
       "      <th>75%</th>\n",
       "      <td>2020.000000</td>\n",
       "      <td>3.000000</td>\n",
       "      <td>41.262000</td>\n",
       "      <td>404.810000</td>\n",
       "      <td>194.212000</td>\n",
       "      <td>NaN</td>\n",
       "    </tr>\n",
       "    <tr>\n",
       "      <th>max</th>\n",
       "      <td>2022.000000</td>\n",
       "      <td>4.000000</td>\n",
       "      <td>241.713000</td>\n",
       "      <td>687.619000</td>\n",
       "      <td>247.983000</td>\n",
       "      <td>NaN</td>\n",
       "    </tr>\n",
       "  </tbody>\n",
       "</table>\n",
       "</div>"
      ],
      "text/plain": [
       "               Año  Trimestre  Hasta 512 kbps  Entre 512 Kbps y 1 Mbps  \\\n",
       "count    33.000000  33.000000       33.000000                33.000000   \n",
       "mean   2017.636364   2.454545       51.088424               252.235333   \n",
       "std       2.421495   1.148121       54.547751               202.020771   \n",
       "min    2014.000000   1.000000        5.675000                28.521000   \n",
       "25%    2016.000000   1.000000       22.366000                56.170000   \n",
       "50%    2018.000000   2.000000       39.510000               219.467000   \n",
       "75%    2020.000000   3.000000       41.262000               404.810000   \n",
       "max    2022.000000   4.000000      241.713000               687.619000   \n",
       "\n",
       "            OTROS  Unnamed: 11  \n",
       "count   33.000000          0.0  \n",
       "mean   103.903000          NaN  \n",
       "std     99.722046          NaN  \n",
       "min      0.000000          NaN  \n",
       "25%      0.000000          NaN  \n",
       "50%    138.840000          NaN  \n",
       "75%    194.212000          NaN  \n",
       "max    247.983000          NaN  "
      ]
     },
     "execution_count": 69,
     "metadata": {},
     "output_type": "execute_result"
    }
   ],
   "source": [
    "acc_vel.describe()"
   ]
  },
  {
   "cell_type": "code",
   "execution_count": 70,
   "metadata": {},
   "outputs": [
    {
     "data": {
      "text/html": [
       "<div>\n",
       "<style scoped>\n",
       "    .dataframe tbody tr th:only-of-type {\n",
       "        vertical-align: middle;\n",
       "    }\n",
       "\n",
       "    .dataframe tbody tr th {\n",
       "        vertical-align: top;\n",
       "    }\n",
       "\n",
       "    .dataframe thead th {\n",
       "        text-align: right;\n",
       "    }\n",
       "</style>\n",
       "<table border=\"1\" class=\"dataframe\">\n",
       "  <thead>\n",
       "    <tr style=\"text-align: right;\">\n",
       "      <th></th>\n",
       "      <th>Año</th>\n",
       "      <th>Trimestre</th>\n",
       "      <th>Hasta 512 kbps</th>\n",
       "      <th>Entre 512 Kbps y 1 Mbps</th>\n",
       "      <th>Entre 1 Mbps y 6 Mbps</th>\n",
       "      <th>Entre 6 Mbps y 10 Mbps</th>\n",
       "      <th>Entre 10 Mbps y 20 Mbps</th>\n",
       "      <th>Entre 20 Mbps y 30 Mbps</th>\n",
       "      <th>Más de 30 Mbps</th>\n",
       "      <th>OTROS</th>\n",
       "      <th>Total</th>\n",
       "      <th>Unnamed: 11</th>\n",
       "    </tr>\n",
       "  </thead>\n",
       "  <tbody>\n",
       "    <tr>\n",
       "      <th>0</th>\n",
       "      <td>2022</td>\n",
       "      <td>1</td>\n",
       "      <td>34.890</td>\n",
       "      <td>104.840</td>\n",
       "      <td>1.263.273</td>\n",
       "      <td>1.209.148</td>\n",
       "      <td>967.508</td>\n",
       "      <td>509.830</td>\n",
       "      <td>6.336.187</td>\n",
       "      <td>198.333</td>\n",
       "      <td>10.624.009</td>\n",
       "      <td>NaN</td>\n",
       "    </tr>\n",
       "    <tr>\n",
       "      <th>1</th>\n",
       "      <td>2021</td>\n",
       "      <td>4</td>\n",
       "      <td>41.262</td>\n",
       "      <td>28.521</td>\n",
       "      <td>1.413.208</td>\n",
       "      <td>1.245.333</td>\n",
       "      <td>976.539</td>\n",
       "      <td>558.358</td>\n",
       "      <td>6.032.322</td>\n",
       "      <td>194.251</td>\n",
       "      <td>10.489.794</td>\n",
       "      <td>NaN</td>\n",
       "    </tr>\n",
       "    <tr>\n",
       "      <th>2</th>\n",
       "      <td>2021</td>\n",
       "      <td>3</td>\n",
       "      <td>40.174</td>\n",
       "      <td>41.437</td>\n",
       "      <td>2.550.229</td>\n",
       "      <td>1.095.772</td>\n",
       "      <td>710.122</td>\n",
       "      <td>536.364</td>\n",
       "      <td>4.948.174</td>\n",
       "      <td>163.269</td>\n",
       "      <td>10.085.541</td>\n",
       "      <td>NaN</td>\n",
       "    </tr>\n",
       "    <tr>\n",
       "      <th>3</th>\n",
       "      <td>2021</td>\n",
       "      <td>2</td>\n",
       "      <td>40.172</td>\n",
       "      <td>42.024</td>\n",
       "      <td>2.531.271</td>\n",
       "      <td>1.080.279</td>\n",
       "      <td>693.277</td>\n",
       "      <td>647.401</td>\n",
       "      <td>4.661.291</td>\n",
       "      <td>167.369</td>\n",
       "      <td>9.863.084</td>\n",
       "      <td>NaN</td>\n",
       "    </tr>\n",
       "    <tr>\n",
       "      <th>4</th>\n",
       "      <td>2021</td>\n",
       "      <td>1</td>\n",
       "      <td>39.487</td>\n",
       "      <td>41.674</td>\n",
       "      <td>2.593.477</td>\n",
       "      <td>1.072.722</td>\n",
       "      <td>737.930</td>\n",
       "      <td>595.920</td>\n",
       "      <td>4.379.965</td>\n",
       "      <td>186.797</td>\n",
       "      <td>9.647.972</td>\n",
       "      <td>NaN</td>\n",
       "    </tr>\n",
       "  </tbody>\n",
       "</table>\n",
       "</div>"
      ],
      "text/plain": [
       "    Año  Trimestre  Hasta 512 kbps  Entre 512 Kbps y 1 Mbps  \\\n",
       "0  2022          1          34.890                  104.840   \n",
       "1  2021          4          41.262                   28.521   \n",
       "2  2021          3          40.174                   41.437   \n",
       "3  2021          2          40.172                   42.024   \n",
       "4  2021          1          39.487                   41.674   \n",
       "\n",
       "  Entre 1 Mbps y 6 Mbps Entre 6 Mbps y 10 Mbps Entre 10 Mbps y 20 Mbps  \\\n",
       "0             1.263.273              1.209.148                 967.508   \n",
       "1             1.413.208              1.245.333                 976.539   \n",
       "2             2.550.229              1.095.772                 710.122   \n",
       "3             2.531.271              1.080.279                 693.277   \n",
       "4             2.593.477              1.072.722                 737.930   \n",
       "\n",
       "  Entre 20 Mbps y 30 Mbps Más de 30 Mbps    OTROS       Total  Unnamed: 11  \n",
       "0                 509.830      6.336.187  198.333  10.624.009          NaN  \n",
       "1                 558.358      6.032.322  194.251  10.489.794          NaN  \n",
       "2                 536.364      4.948.174  163.269  10.085.541          NaN  \n",
       "3                 647.401      4.661.291  167.369   9.863.084          NaN  \n",
       "4                 595.920      4.379.965  186.797   9.647.972          NaN  "
      ]
     },
     "execution_count": 70,
     "metadata": {},
     "output_type": "execute_result"
    }
   ],
   "source": [
    "acc_vel.head()"
   ]
  },
  {
   "cell_type": "markdown",
   "metadata": {},
   "source": [
    "Al igual que el anterior, no utilizare esta, me concentro en la MEDIA por provincia. "
   ]
  },
  {
   "cell_type": "code",
   "execution_count": 71,
   "metadata": {},
   "outputs": [],
   "source": [
    "# Dataset numero 13: D   . INGRESOS POR INTERNET (total por todos los operadores):\n",
    "int_ingresos=pd.read_csv('Internet_Ingresos.csv')"
   ]
  },
  {
   "cell_type": "code",
   "execution_count": 72,
   "metadata": {},
   "outputs": [
    {
     "data": {
      "text/plain": [
       "(33, 4)"
      ]
     },
     "execution_count": 72,
     "metadata": {},
     "output_type": "execute_result"
    }
   ],
   "source": [
    "int_ingresos.shape"
   ]
  },
  {
   "cell_type": "code",
   "execution_count": 73,
   "metadata": {},
   "outputs": [
    {
     "name": "stdout",
     "output_type": "stream",
     "text": [
      "<class 'pandas.core.frame.DataFrame'>\n",
      "RangeIndex: 33 entries, 0 to 32\n",
      "Data columns (total 4 columns):\n",
      " #   Column                     Non-Null Count  Dtype \n",
      "---  ------                     --------------  ----- \n",
      " 0   Año                        33 non-null     int64 \n",
      " 1   Trimestre                  33 non-null     int64 \n",
      " 2   Ingresos (miles de pesos)  33 non-null     object\n",
      " 3   Periodo                    33 non-null     object\n",
      "dtypes: int64(2), object(2)\n",
      "memory usage: 1.2+ KB\n"
     ]
    }
   ],
   "source": [
    "int_ingresos.info()"
   ]
  },
  {
   "cell_type": "code",
   "execution_count": 74,
   "metadata": {},
   "outputs": [
    {
     "data": {
      "text/html": [
       "<div>\n",
       "<style scoped>\n",
       "    .dataframe tbody tr th:only-of-type {\n",
       "        vertical-align: middle;\n",
       "    }\n",
       "\n",
       "    .dataframe tbody tr th {\n",
       "        vertical-align: top;\n",
       "    }\n",
       "\n",
       "    .dataframe thead th {\n",
       "        text-align: right;\n",
       "    }\n",
       "</style>\n",
       "<table border=\"1\" class=\"dataframe\">\n",
       "  <thead>\n",
       "    <tr style=\"text-align: right;\">\n",
       "      <th></th>\n",
       "      <th>Año</th>\n",
       "      <th>Trimestre</th>\n",
       "    </tr>\n",
       "  </thead>\n",
       "  <tbody>\n",
       "    <tr>\n",
       "      <th>count</th>\n",
       "      <td>33.000000</td>\n",
       "      <td>33.000000</td>\n",
       "    </tr>\n",
       "    <tr>\n",
       "      <th>mean</th>\n",
       "      <td>2017.636364</td>\n",
       "      <td>2.454545</td>\n",
       "    </tr>\n",
       "    <tr>\n",
       "      <th>std</th>\n",
       "      <td>2.421495</td>\n",
       "      <td>1.148121</td>\n",
       "    </tr>\n",
       "    <tr>\n",
       "      <th>min</th>\n",
       "      <td>2014.000000</td>\n",
       "      <td>1.000000</td>\n",
       "    </tr>\n",
       "    <tr>\n",
       "      <th>25%</th>\n",
       "      <td>2016.000000</td>\n",
       "      <td>1.000000</td>\n",
       "    </tr>\n",
       "    <tr>\n",
       "      <th>50%</th>\n",
       "      <td>2018.000000</td>\n",
       "      <td>2.000000</td>\n",
       "    </tr>\n",
       "    <tr>\n",
       "      <th>75%</th>\n",
       "      <td>2020.000000</td>\n",
       "      <td>3.000000</td>\n",
       "    </tr>\n",
       "    <tr>\n",
       "      <th>max</th>\n",
       "      <td>2022.000000</td>\n",
       "      <td>4.000000</td>\n",
       "    </tr>\n",
       "  </tbody>\n",
       "</table>\n",
       "</div>"
      ],
      "text/plain": [
       "               Año  Trimestre\n",
       "count    33.000000  33.000000\n",
       "mean   2017.636364   2.454545\n",
       "std       2.421495   1.148121\n",
       "min    2014.000000   1.000000\n",
       "25%    2016.000000   1.000000\n",
       "50%    2018.000000   2.000000\n",
       "75%    2020.000000   3.000000\n",
       "max    2022.000000   4.000000"
      ]
     },
     "execution_count": 74,
     "metadata": {},
     "output_type": "execute_result"
    }
   ],
   "source": [
    "int_ingresos.describe() #pasar a numerico!"
   ]
  },
  {
   "cell_type": "code",
   "execution_count": 213,
   "metadata": {},
   "outputs": [
    {
     "data": {
      "text/html": [
       "<div>\n",
       "<style scoped>\n",
       "    .dataframe tbody tr th:only-of-type {\n",
       "        vertical-align: middle;\n",
       "    }\n",
       "\n",
       "    .dataframe tbody tr th {\n",
       "        vertical-align: top;\n",
       "    }\n",
       "\n",
       "    .dataframe thead th {\n",
       "        text-align: right;\n",
       "    }\n",
       "</style>\n",
       "<table border=\"1\" class=\"dataframe\">\n",
       "  <thead>\n",
       "    <tr style=\"text-align: right;\">\n",
       "      <th></th>\n",
       "      <th>Año</th>\n",
       "      <th>Trimestre</th>\n",
       "      <th>Ingresos (miles de pesos)</th>\n",
       "      <th>Periodo</th>\n",
       "      <th>fecha</th>\n",
       "    </tr>\n",
       "  </thead>\n",
       "  <tbody>\n",
       "    <tr>\n",
       "      <th>0</th>\n",
       "      <td>2022</td>\n",
       "      <td>1</td>\n",
       "      <td>51432896.0</td>\n",
       "      <td>Ene-Mar 2022</td>\n",
       "      <td>2022-03-31</td>\n",
       "    </tr>\n",
       "    <tr>\n",
       "      <th>1</th>\n",
       "      <td>2021</td>\n",
       "      <td>4</td>\n",
       "      <td>45467887.0</td>\n",
       "      <td>Oct-Dic 2021</td>\n",
       "      <td>2021-12-31</td>\n",
       "    </tr>\n",
       "    <tr>\n",
       "      <th>2</th>\n",
       "      <td>2021</td>\n",
       "      <td>3</td>\n",
       "      <td>42999944.0</td>\n",
       "      <td>Jul-Sept 2021</td>\n",
       "      <td>2021-09-30</td>\n",
       "    </tr>\n",
       "    <tr>\n",
       "      <th>3</th>\n",
       "      <td>2021</td>\n",
       "      <td>2</td>\n",
       "      <td>38239667.0</td>\n",
       "      <td>Abr-Jun 2021</td>\n",
       "      <td>2021-06-30</td>\n",
       "    </tr>\n",
       "    <tr>\n",
       "      <th>4</th>\n",
       "      <td>2021</td>\n",
       "      <td>1</td>\n",
       "      <td>36676371.0</td>\n",
       "      <td>Ene-Mar 2021</td>\n",
       "      <td>2021-03-31</td>\n",
       "    </tr>\n",
       "  </tbody>\n",
       "</table>\n",
       "</div>"
      ],
      "text/plain": [
       "    Año Trimestre  Ingresos (miles de pesos)        Periodo      fecha\n",
       "0  2022         1                 51432896.0   Ene-Mar 2022 2022-03-31\n",
       "1  2021         4                 45467887.0   Oct-Dic 2021 2021-12-31\n",
       "2  2021         3                 42999944.0  Jul-Sept 2021 2021-09-30\n",
       "3  2021         2                 38239667.0   Abr-Jun 2021 2021-06-30\n",
       "4  2021         1                 36676371.0   Ene-Mar 2021 2021-03-31"
      ]
     },
     "execution_count": 213,
     "metadata": {},
     "output_type": "execute_result"
    }
   ],
   "source": [
    "int_ingresos.head()"
   ]
  },
  {
   "cell_type": "code",
   "execution_count": 210,
   "metadata": {},
   "outputs": [],
   "source": [
    "#le agrego la col fecha, de la misma manera que a las anteriores:\n",
    "int_ingresos=int_ingresos.astype({'Año':str,'Trimestre':str})\n",
    "int_ingresos['fecha']=int_ingresos['Año']+'-Q'+int_ingresos['Trimestre']\n",
    "int_ingresos['fecha'] = pd.to_datetime(int_ingresos['fecha'])+ pd.offsets.QuarterEnd(0)"
   ]
  },
  {
   "cell_type": "code",
   "execution_count": 212,
   "metadata": {},
   "outputs": [
    {
     "name": "stderr",
     "output_type": "stream",
     "text": [
      "/var/folders/tf/dsk90f9d14gcg40_frclnb7r0000gn/T/ipykernel_88986/4235863038.py:2: FutureWarning: The default value of regex will change from True to False in a future version. In addition, single character regular expressions will *not* be treated as literal strings when regex=True.\n",
      "  int_ingresos['Ingresos (miles de pesos)']=int_ingresos['Ingresos (miles de pesos)'].str.replace('.','')\n"
     ]
    }
   ],
   "source": [
    "# paso a numerica col ingresos:\n",
    "int_ingresos['Ingresos (miles de pesos)']=int_ingresos['Ingresos (miles de pesos)'].str.replace('.','')\n",
    "\n",
    "int_ingresos=int_ingresos.astype({'Ingresos (miles de pesos)':float})\n"
   ]
  },
  {
   "cell_type": "code",
   "execution_count": 214,
   "metadata": {},
   "outputs": [
    {
     "data": {
      "text/plain": [
       "<AxesSubplot: xlabel='fecha'>"
      ]
     },
     "execution_count": 214,
     "metadata": {},
     "output_type": "execute_result"
    },
    {
     "data": {
      "image/png": "[encoded data removed]",
      "text/plain": [
       "<Figure size 640x480 with 1 Axes>"
      ]
     },
     "metadata": {},
     "output_type": "display_data"
    }
   ],
   "source": [
    "int_ingresos.plot(kind='bar', x='fecha', y='Ingresos (miles de pesos)', alpha=0.9)\n"
   ]
  },
  {
   "cell_type": "markdown",
   "metadata": {},
   "source": [
    "Se observa un crecimiento de tipo exponencial. (superando el demografico).\n",
    "Esta considerado el factor INFLACION?? "
   ]
  },
  {
   "cell_type": "code",
   "execution_count": 221,
   "metadata": {},
   "outputs": [],
   "source": [
    "# lo exporto para usar en Tableau:\n",
    "int_ingresos.to_csv(r'para_Tableau/int_ingresos13.csv', index=False)"
   ]
  },
  {
   "cell_type": "code",
   "execution_count": 76,
   "metadata": {},
   "outputs": [],
   "source": [
    "# Dataset numero 14: E .accesos a internet fijo POR TECNOLOGIA y LOCALIDAD:\n",
    "local_coninternet=pd.read_csv('Listado_loca_coninternet.csv')"
   ]
  },
  {
   "cell_type": "code",
   "execution_count": 77,
   "metadata": {},
   "outputs": [
    {
     "data": {
      "text/plain": [
       "(4312, 12)"
      ]
     },
     "execution_count": 77,
     "metadata": {},
     "output_type": "execute_result"
    }
   ],
   "source": [
    "local_coninternet.shape"
   ]
  },
  {
   "cell_type": "code",
   "execution_count": 78,
   "metadata": {},
   "outputs": [
    {
     "name": "stdout",
     "output_type": "stream",
     "text": [
      "<class 'pandas.core.frame.DataFrame'>\n",
      "RangeIndex: 4312 entries, 0 to 4311\n",
      "Data columns (total 12 columns):\n",
      " #   Column         Non-Null Count  Dtype \n",
      "---  ------         --------------  ----- \n",
      " 0   Provincia      4312 non-null   object\n",
      " 1   Partido        4312 non-null   object\n",
      " 2   Localidad      4312 non-null   object\n",
      " 3   ADSL           4312 non-null   object\n",
      " 4   CABLEMODEM     4312 non-null   object\n",
      " 5   DIALUP         4312 non-null   object\n",
      " 6   FIBRAOPTICA    4312 non-null   object\n",
      " 7   4G             4312 non-null   object\n",
      " 8   3G             4312 non-null   object\n",
      " 9   TELEFONIAFIJA  4312 non-null   object\n",
      " 10  WIRELESS       4312 non-null   object\n",
      " 11  SATELITAL      4312 non-null   object\n",
      "dtypes: object(12)\n",
      "memory usage: 404.4+ KB\n"
     ]
    }
   ],
   "source": [
    "local_coninternet.info()"
   ]
  },
  {
   "cell_type": "code",
   "execution_count": 79,
   "metadata": {},
   "outputs": [
    {
     "data": {
      "text/html": [
       "<div>\n",
       "<style scoped>\n",
       "    .dataframe tbody tr th:only-of-type {\n",
       "        vertical-align: middle;\n",
       "    }\n",
       "\n",
       "    .dataframe tbody tr th {\n",
       "        vertical-align: top;\n",
       "    }\n",
       "\n",
       "    .dataframe thead th {\n",
       "        text-align: right;\n",
       "    }\n",
       "</style>\n",
       "<table border=\"1\" class=\"dataframe\">\n",
       "  <thead>\n",
       "    <tr style=\"text-align: right;\">\n",
       "      <th></th>\n",
       "      <th>Provincia</th>\n",
       "      <th>Partido</th>\n",
       "      <th>Localidad</th>\n",
       "      <th>ADSL</th>\n",
       "      <th>CABLEMODEM</th>\n",
       "      <th>DIALUP</th>\n",
       "      <th>FIBRAOPTICA</th>\n",
       "      <th>4G</th>\n",
       "      <th>3G</th>\n",
       "      <th>TELEFONIAFIJA</th>\n",
       "      <th>WIRELESS</th>\n",
       "      <th>SATELITAL</th>\n",
       "    </tr>\n",
       "  </thead>\n",
       "  <tbody>\n",
       "    <tr>\n",
       "      <th>0</th>\n",
       "      <td>BUENOS AIRES</td>\n",
       "      <td>25 de Mayo</td>\n",
       "      <td>25 de Mayo</td>\n",
       "      <td>SI</td>\n",
       "      <td>SI</td>\n",
       "      <td>--</td>\n",
       "      <td>SI</td>\n",
       "      <td>SI</td>\n",
       "      <td>SI</td>\n",
       "      <td>SI</td>\n",
       "      <td>SI</td>\n",
       "      <td>SI</td>\n",
       "    </tr>\n",
       "    <tr>\n",
       "      <th>1</th>\n",
       "      <td>BUENOS AIRES</td>\n",
       "      <td>25 de Mayo</td>\n",
       "      <td>Agustín Mosconi</td>\n",
       "      <td>--</td>\n",
       "      <td>--</td>\n",
       "      <td>--</td>\n",
       "      <td>--</td>\n",
       "      <td>--</td>\n",
       "      <td>--</td>\n",
       "      <td>SI</td>\n",
       "      <td>--</td>\n",
       "      <td>--</td>\n",
       "    </tr>\n",
       "    <tr>\n",
       "      <th>2</th>\n",
       "      <td>BUENOS AIRES</td>\n",
       "      <td>25 de Mayo</td>\n",
       "      <td>Del Valle</td>\n",
       "      <td>SI</td>\n",
       "      <td>--</td>\n",
       "      <td>--</td>\n",
       "      <td>--</td>\n",
       "      <td>SI</td>\n",
       "      <td>SI</td>\n",
       "      <td>--</td>\n",
       "      <td>--</td>\n",
       "      <td>SI</td>\n",
       "    </tr>\n",
       "    <tr>\n",
       "      <th>3</th>\n",
       "      <td>BUENOS AIRES</td>\n",
       "      <td>25 de Mayo</td>\n",
       "      <td>Ernestina</td>\n",
       "      <td>SI</td>\n",
       "      <td>--</td>\n",
       "      <td>--</td>\n",
       "      <td>--</td>\n",
       "      <td>--</td>\n",
       "      <td>--</td>\n",
       "      <td>--</td>\n",
       "      <td>--</td>\n",
       "      <td>--</td>\n",
       "    </tr>\n",
       "    <tr>\n",
       "      <th>4</th>\n",
       "      <td>BUENOS AIRES</td>\n",
       "      <td>25 de Mayo</td>\n",
       "      <td>Gobernador Ugarte</td>\n",
       "      <td>--</td>\n",
       "      <td>--</td>\n",
       "      <td>--</td>\n",
       "      <td>--</td>\n",
       "      <td>--</td>\n",
       "      <td>--</td>\n",
       "      <td>--</td>\n",
       "      <td>SI</td>\n",
       "      <td>--</td>\n",
       "    </tr>\n",
       "  </tbody>\n",
       "</table>\n",
       "</div>"
      ],
      "text/plain": [
       "      Provincia     Partido          Localidad ADSL CABLEMODEM DIALUP  \\\n",
       "0  BUENOS AIRES  25 de Mayo         25 de Mayo   SI         SI     --   \n",
       "1  BUENOS AIRES  25 de Mayo    Agustín Mosconi   --         --     --   \n",
       "2  BUENOS AIRES  25 de Mayo          Del Valle   SI         --     --   \n",
       "3  BUENOS AIRES  25 de Mayo          Ernestina   SI         --     --   \n",
       "4  BUENOS AIRES  25 de Mayo  Gobernador Ugarte   --         --     --   \n",
       "\n",
       "  FIBRAOPTICA  4G  3G TELEFONIAFIJA WIRELESS SATELITAL  \n",
       "0          SI  SI  SI            SI       SI        SI  \n",
       "1          --  --  --            SI       --        --  \n",
       "2          --  SI  SI            --       --        SI  \n",
       "3          --  --  --            --       --        --  \n",
       "4          --  --  --            --       SI        --  "
      ]
     },
     "execution_count": 79,
     "metadata": {},
     "output_type": "execute_result"
    }
   ],
   "source": [
    "local_coninternet.head()"
   ]
  },
  {
   "cell_type": "markdown",
   "metadata": {},
   "source": [
    "No voy utilizar este, en cambio, de requerirlo usare el siguiente (numero 15), que tiene esta info PERO ademas, Latitud y Longitud, lo que me permite visualizaciones del tipo Map, muy convenientes para comprender las diferentes distribuciones. "
   ]
  },
  {
   "cell_type": "code",
   "execution_count": 80,
   "metadata": {},
   "outputs": [],
   "source": [
    "# Dataset numero 15: tipo de coneccion por localidad:\n",
    "tipo_conecc_loc=pd.read_csv('tipo_conecc_internet_loc.csv')"
   ]
  },
  {
   "cell_type": "code",
   "execution_count": 81,
   "metadata": {},
   "outputs": [
    {
     "data": {
      "text/plain": [
       "(4312, 16)"
      ]
     },
     "execution_count": 81,
     "metadata": {},
     "output_type": "execute_result"
    }
   ],
   "source": [
    "tipo_conecc_loc.shape"
   ]
  },
  {
   "cell_type": "code",
   "execution_count": 82,
   "metadata": {},
   "outputs": [
    {
     "name": "stdout",
     "output_type": "stream",
     "text": [
      "<class 'pandas.core.frame.DataFrame'>\n",
      "RangeIndex: 4312 entries, 0 to 4311\n",
      "Data columns (total 16 columns):\n",
      " #   Column         Non-Null Count  Dtype  \n",
      "---  ------         --------------  -----  \n",
      " 0   Provincia      4312 non-null   object \n",
      " 1   Partido        4312 non-null   object \n",
      " 2   Localidad      4312 non-null   object \n",
      " 3   Poblacion      4312 non-null   int64  \n",
      " 4   ADSL           4312 non-null   object \n",
      " 5   CABLEMODEM     4312 non-null   object \n",
      " 6   DIALUP         4312 non-null   object \n",
      " 7   FIBRAOPTICA    4312 non-null   object \n",
      " 8   SATELITAL      4312 non-null   object \n",
      " 9   WIRELESS       4312 non-null   object \n",
      " 10  TELEFONIAFIJA  4312 non-null   object \n",
      " 11  3G             4312 non-null   object \n",
      " 12  4G             4312 non-null   object \n",
      " 13  link           3836 non-null   float64\n",
      " 14  Latitud        4312 non-null   float64\n",
      " 15  Longitud       4312 non-null   float64\n",
      "dtypes: float64(3), int64(1), object(12)\n",
      "memory usage: 539.1+ KB\n"
     ]
    }
   ],
   "source": [
    "tipo_conecc_loc.info() #osea es el mismo q el 14 pero con Lat,Long y POBLACION! y 'link'(identificador)"
   ]
  },
  {
   "cell_type": "code",
   "execution_count": 83,
   "metadata": {},
   "outputs": [
    {
     "data": {
      "text/html": [
       "<div>\n",
       "<style scoped>\n",
       "    .dataframe tbody tr th:only-of-type {\n",
       "        vertical-align: middle;\n",
       "    }\n",
       "\n",
       "    .dataframe tbody tr th {\n",
       "        vertical-align: top;\n",
       "    }\n",
       "\n",
       "    .dataframe thead th {\n",
       "        text-align: right;\n",
       "    }\n",
       "</style>\n",
       "<table border=\"1\" class=\"dataframe\">\n",
       "  <thead>\n",
       "    <tr style=\"text-align: right;\">\n",
       "      <th></th>\n",
       "      <th>Provincia</th>\n",
       "      <th>Partido</th>\n",
       "      <th>Localidad</th>\n",
       "      <th>Poblacion</th>\n",
       "      <th>ADSL</th>\n",
       "      <th>CABLEMODEM</th>\n",
       "      <th>DIALUP</th>\n",
       "      <th>FIBRAOPTICA</th>\n",
       "      <th>SATELITAL</th>\n",
       "      <th>WIRELESS</th>\n",
       "      <th>TELEFONIAFIJA</th>\n",
       "      <th>3G</th>\n",
       "      <th>4G</th>\n",
       "      <th>link</th>\n",
       "      <th>Latitud</th>\n",
       "      <th>Longitud</th>\n",
       "    </tr>\n",
       "  </thead>\n",
       "  <tbody>\n",
       "    <tr>\n",
       "      <th>0</th>\n",
       "      <td>BUENOS AIRES</td>\n",
       "      <td>25 de Mayo</td>\n",
       "      <td>25 de Mayo</td>\n",
       "      <td>23408</td>\n",
       "      <td>SI</td>\n",
       "      <td>SI</td>\n",
       "      <td>--</td>\n",
       "      <td>SI</td>\n",
       "      <td>SI</td>\n",
       "      <td>SI</td>\n",
       "      <td>SI</td>\n",
       "      <td>SI</td>\n",
       "      <td>SI</td>\n",
       "      <td>6854100.0</td>\n",
       "      <td>-35.433939</td>\n",
       "      <td>-60.173121</td>\n",
       "    </tr>\n",
       "    <tr>\n",
       "      <th>1</th>\n",
       "      <td>BUENOS AIRES</td>\n",
       "      <td>25 de Mayo</td>\n",
       "      <td>Agustín Mosconi</td>\n",
       "      <td>280</td>\n",
       "      <td>--</td>\n",
       "      <td>--</td>\n",
       "      <td>--</td>\n",
       "      <td>--</td>\n",
       "      <td>--</td>\n",
       "      <td>--</td>\n",
       "      <td>SI</td>\n",
       "      <td>--</td>\n",
       "      <td>--</td>\n",
       "      <td>6854010.0</td>\n",
       "      <td>-35.739217</td>\n",
       "      <td>-60.559063</td>\n",
       "    </tr>\n",
       "    <tr>\n",
       "      <th>2</th>\n",
       "      <td>BUENOS AIRES</td>\n",
       "      <td>25 de Mayo</td>\n",
       "      <td>Del Valle</td>\n",
       "      <td>899</td>\n",
       "      <td>SI</td>\n",
       "      <td>--</td>\n",
       "      <td>--</td>\n",
       "      <td>--</td>\n",
       "      <td>SI</td>\n",
       "      <td>--</td>\n",
       "      <td>--</td>\n",
       "      <td>SI</td>\n",
       "      <td>SI</td>\n",
       "      <td>6854020.0</td>\n",
       "      <td>-35.897345</td>\n",
       "      <td>-60.731609</td>\n",
       "    </tr>\n",
       "    <tr>\n",
       "      <th>3</th>\n",
       "      <td>BUENOS AIRES</td>\n",
       "      <td>25 de Mayo</td>\n",
       "      <td>Ernestina</td>\n",
       "      <td>145</td>\n",
       "      <td>SI</td>\n",
       "      <td>--</td>\n",
       "      <td>--</td>\n",
       "      <td>--</td>\n",
       "      <td>--</td>\n",
       "      <td>--</td>\n",
       "      <td>--</td>\n",
       "      <td>--</td>\n",
       "      <td>--</td>\n",
       "      <td>6854030.0</td>\n",
       "      <td>-35.270234</td>\n",
       "      <td>-59.557503</td>\n",
       "    </tr>\n",
       "    <tr>\n",
       "      <th>4</th>\n",
       "      <td>BUENOS AIRES</td>\n",
       "      <td>25 de Mayo</td>\n",
       "      <td>Gobernador Ugarte</td>\n",
       "      <td>547</td>\n",
       "      <td>--</td>\n",
       "      <td>--</td>\n",
       "      <td>--</td>\n",
       "      <td>--</td>\n",
       "      <td>--</td>\n",
       "      <td>SI</td>\n",
       "      <td>--</td>\n",
       "      <td>--</td>\n",
       "      <td>--</td>\n",
       "      <td>6854040.0</td>\n",
       "      <td>-35.164397</td>\n",
       "      <td>-60.081358</td>\n",
       "    </tr>\n",
       "    <tr>\n",
       "      <th>5</th>\n",
       "      <td>BUENOS AIRES</td>\n",
       "      <td>25 de Mayo</td>\n",
       "      <td>Lucas Monteverde</td>\n",
       "      <td>63</td>\n",
       "      <td>--</td>\n",
       "      <td>--</td>\n",
       "      <td>--</td>\n",
       "      <td>--</td>\n",
       "      <td>--</td>\n",
       "      <td>SI</td>\n",
       "      <td>--</td>\n",
       "      <td>--</td>\n",
       "      <td>--</td>\n",
       "      <td>6854050.0</td>\n",
       "      <td>-35.483827</td>\n",
       "      <td>-59.988065</td>\n",
       "    </tr>\n",
       "    <tr>\n",
       "      <th>6</th>\n",
       "      <td>BUENOS AIRES</td>\n",
       "      <td>25 de Mayo</td>\n",
       "      <td>Norberto de la Riestra</td>\n",
       "      <td>4524</td>\n",
       "      <td>--</td>\n",
       "      <td>SI</td>\n",
       "      <td>--</td>\n",
       "      <td>--</td>\n",
       "      <td>--</td>\n",
       "      <td>SI</td>\n",
       "      <td>SI</td>\n",
       "      <td>SI</td>\n",
       "      <td>SI</td>\n",
       "      <td>6854060.0</td>\n",
       "      <td>-35.272779</td>\n",
       "      <td>-59.771933</td>\n",
       "    </tr>\n",
       "    <tr>\n",
       "      <th>7</th>\n",
       "      <td>BUENOS AIRES</td>\n",
       "      <td>25 de Mayo</td>\n",
       "      <td>Pedernales</td>\n",
       "      <td>1432</td>\n",
       "      <td>SI</td>\n",
       "      <td>--</td>\n",
       "      <td>--</td>\n",
       "      <td>--</td>\n",
       "      <td>--</td>\n",
       "      <td>--</td>\n",
       "      <td>--</td>\n",
       "      <td>--</td>\n",
       "      <td>SI</td>\n",
       "      <td>6854070.0</td>\n",
       "      <td>-35.266609</td>\n",
       "      <td>-59.630657</td>\n",
       "    </tr>\n",
       "    <tr>\n",
       "      <th>8</th>\n",
       "      <td>BUENOS AIRES</td>\n",
       "      <td>25 de Mayo</td>\n",
       "      <td>San Enrique</td>\n",
       "      <td>279</td>\n",
       "      <td>--</td>\n",
       "      <td>--</td>\n",
       "      <td>--</td>\n",
       "      <td>--</td>\n",
       "      <td>--</td>\n",
       "      <td>--</td>\n",
       "      <td>SI</td>\n",
       "      <td>--</td>\n",
       "      <td>--</td>\n",
       "      <td>6854080.0</td>\n",
       "      <td>-35.778503</td>\n",
       "      <td>-60.354645</td>\n",
       "    </tr>\n",
       "    <tr>\n",
       "      <th>9</th>\n",
       "      <td>BUENOS AIRES</td>\n",
       "      <td>25 de Mayo</td>\n",
       "      <td>Valdés</td>\n",
       "      <td>579</td>\n",
       "      <td>--</td>\n",
       "      <td>--</td>\n",
       "      <td>--</td>\n",
       "      <td>--</td>\n",
       "      <td>--</td>\n",
       "      <td>--</td>\n",
       "      <td>SI</td>\n",
       "      <td>--</td>\n",
       "      <td>SI</td>\n",
       "      <td>6854090.0</td>\n",
       "      <td>-35.648813</td>\n",
       "      <td>-60.467259</td>\n",
       "    </tr>\n",
       "  </tbody>\n",
       "</table>\n",
       "</div>"
      ],
      "text/plain": [
       "      Provincia     Partido               Localidad  Poblacion ADSL  \\\n",
       "0  BUENOS AIRES  25 de Mayo              25 de Mayo      23408   SI   \n",
       "1  BUENOS AIRES  25 de Mayo         Agustín Mosconi        280   --   \n",
       "2  BUENOS AIRES  25 de Mayo               Del Valle        899   SI   \n",
       "3  BUENOS AIRES  25 de Mayo               Ernestina        145   SI   \n",
       "4  BUENOS AIRES  25 de Mayo       Gobernador Ugarte        547   --   \n",
       "5  BUENOS AIRES  25 de Mayo        Lucas Monteverde         63   --   \n",
       "6  BUENOS AIRES  25 de Mayo  Norberto de la Riestra       4524   --   \n",
       "7  BUENOS AIRES  25 de Mayo              Pedernales       1432   SI   \n",
       "8  BUENOS AIRES  25 de Mayo             San Enrique        279   --   \n",
       "9  BUENOS AIRES  25 de Mayo                  Valdés        579   --   \n",
       "\n",
       "  CABLEMODEM DIALUP FIBRAOPTICA SATELITAL WIRELESS TELEFONIAFIJA  3G  4G  \\\n",
       "0         SI     --          SI        SI       SI            SI  SI  SI   \n",
       "1         --     --          --        --       --            SI  --  --   \n",
       "2         --     --          --        SI       --            --  SI  SI   \n",
       "3         --     --          --        --       --            --  --  --   \n",
       "4         --     --          --        --       SI            --  --  --   \n",
       "5         --     --          --        --       SI            --  --  --   \n",
       "6         SI     --          --        --       SI            SI  SI  SI   \n",
       "7         --     --          --        --       --            --  --  SI   \n",
       "8         --     --          --        --       --            SI  --  --   \n",
       "9         --     --          --        --       --            SI  --  SI   \n",
       "\n",
       "        link    Latitud   Longitud  \n",
       "0  6854100.0 -35.433939 -60.173121  \n",
       "1  6854010.0 -35.739217 -60.559063  \n",
       "2  6854020.0 -35.897345 -60.731609  \n",
       "3  6854030.0 -35.270234 -59.557503  \n",
       "4  6854040.0 -35.164397 -60.081358  \n",
       "5  6854050.0 -35.483827 -59.988065  \n",
       "6  6854060.0 -35.272779 -59.771933  \n",
       "7  6854070.0 -35.266609 -59.630657  \n",
       "8  6854080.0 -35.778503 -60.354645  \n",
       "9  6854090.0 -35.648813 -60.467259  "
      ]
     },
     "execution_count": 83,
     "metadata": {},
     "output_type": "execute_result"
    }
   ],
   "source": [
    "tipo_conecc_loc.head(10)"
   ]
  },
  {
   "cell_type": "markdown",
   "metadata": {},
   "source": [
    "VER: uso este o el nro 9, que tiene esta info pero solo por Provincia, pero con el nro de conecctiones para cada tipo!. Parece mas coherente para un heatmap o similar. Mejor el 9, ya que en este los '--' se pueden interpretar como info no disponible, no necesariamente como un 'NO'? \n",
    "\n"
   ]
  },
  {
   "cell_type": "code",
   "execution_count": 222,
   "metadata": {},
   "outputs": [],
   "source": [
    "# lo exporto para usar en Tableau:\n",
    "tipo_conecc_loc.to_csv(r'para_Tableau/tipo_conecc_loc15.csv', index=False)"
   ]
  },
  {
   "cell_type": "code",
   "execution_count": 84,
   "metadata": {},
   "outputs": [],
   "source": [
    "# Dataset numero 16: H  .total numero CONECCIONES por trimestre, ancha y agosta, NACIONAL:\n",
    "tot_trim_anchayangosta=pd.read_csv('tot_trim_anchayangosta.csv')"
   ]
  },
  {
   "cell_type": "code",
   "execution_count": 85,
   "metadata": {},
   "outputs": [
    {
     "data": {
      "text/plain": [
       "(33, 6)"
      ]
     },
     "execution_count": 85,
     "metadata": {},
     "output_type": "execute_result"
    }
   ],
   "source": [
    "tot_trim_anchayangosta.shape"
   ]
  },
  {
   "cell_type": "code",
   "execution_count": 110,
   "metadata": {},
   "outputs": [
    {
     "name": "stdout",
     "output_type": "stream",
     "text": [
      "<class 'pandas.core.frame.DataFrame'>\n",
      "RangeIndex: 33 entries, 0 to 32\n",
      "Data columns (total 7 columns):\n",
      " #   Column            Non-Null Count  Dtype         \n",
      "---  ------            --------------  -----         \n",
      " 0   Año               33 non-null     object        \n",
      " 1   Trimestre         33 non-null     object        \n",
      " 2   Banda ancha fija  33 non-null     object        \n",
      " 3   Dial up           33 non-null     float64       \n",
      " 4   Total             33 non-null     object        \n",
      " 5   Periodo           33 non-null     object        \n",
      " 6   fecha             33 non-null     datetime64[ns]\n",
      "dtypes: datetime64[ns](1), float64(1), object(5)\n",
      "memory usage: 1.9+ KB\n"
     ]
    }
   ],
   "source": [
    "tot_trim_anchayangosta.info()"
   ]
  },
  {
   "cell_type": "code",
   "execution_count": 87,
   "metadata": {},
   "outputs": [
    {
     "data": {
      "text/html": [
       "<div>\n",
       "<style scoped>\n",
       "    .dataframe tbody tr th:only-of-type {\n",
       "        vertical-align: middle;\n",
       "    }\n",
       "\n",
       "    .dataframe tbody tr th {\n",
       "        vertical-align: top;\n",
       "    }\n",
       "\n",
       "    .dataframe thead th {\n",
       "        text-align: right;\n",
       "    }\n",
       "</style>\n",
       "<table border=\"1\" class=\"dataframe\">\n",
       "  <thead>\n",
       "    <tr style=\"text-align: right;\">\n",
       "      <th></th>\n",
       "      <th>Año</th>\n",
       "      <th>Trimestre</th>\n",
       "      <th>Dial up</th>\n",
       "    </tr>\n",
       "  </thead>\n",
       "  <tbody>\n",
       "    <tr>\n",
       "      <th>count</th>\n",
       "      <td>33.000000</td>\n",
       "      <td>33.000000</td>\n",
       "      <td>33.000000</td>\n",
       "    </tr>\n",
       "    <tr>\n",
       "      <th>mean</th>\n",
       "      <td>2017.636364</td>\n",
       "      <td>2.454545</td>\n",
       "      <td>24.046818</td>\n",
       "    </tr>\n",
       "    <tr>\n",
       "      <th>std</th>\n",
       "      <td>2.421495</td>\n",
       "      <td>1.148121</td>\n",
       "      <td>10.008585</td>\n",
       "    </tr>\n",
       "    <tr>\n",
       "      <th>min</th>\n",
       "      <td>2014.000000</td>\n",
       "      <td>1.000000</td>\n",
       "      <td>9.991000</td>\n",
       "    </tr>\n",
       "    <tr>\n",
       "      <th>25%</th>\n",
       "      <td>2016.000000</td>\n",
       "      <td>1.000000</td>\n",
       "      <td>12.619000</td>\n",
       "    </tr>\n",
       "    <tr>\n",
       "      <th>50%</th>\n",
       "      <td>2018.000000</td>\n",
       "      <td>2.000000</td>\n",
       "      <td>27.072000</td>\n",
       "    </tr>\n",
       "    <tr>\n",
       "      <th>75%</th>\n",
       "      <td>2020.000000</td>\n",
       "      <td>3.000000</td>\n",
       "      <td>32.542000</td>\n",
       "    </tr>\n",
       "    <tr>\n",
       "      <th>max</th>\n",
       "      <td>2022.000000</td>\n",
       "      <td>4.000000</td>\n",
       "      <td>39.324000</td>\n",
       "    </tr>\n",
       "  </tbody>\n",
       "</table>\n",
       "</div>"
      ],
      "text/plain": [
       "               Año  Trimestre    Dial up\n",
       "count    33.000000  33.000000  33.000000\n",
       "mean   2017.636364   2.454545  24.046818\n",
       "std       2.421495   1.148121  10.008585\n",
       "min    2014.000000   1.000000   9.991000\n",
       "25%    2016.000000   1.000000  12.619000\n",
       "50%    2018.000000   2.000000  27.072000\n",
       "75%    2020.000000   3.000000  32.542000\n",
       "max    2022.000000   4.000000  39.324000"
      ]
     },
     "execution_count": 87,
     "metadata": {},
     "output_type": "execute_result"
    }
   ],
   "source": [
    "tot_trim_anchayangosta.describe() #falta convertir!"
   ]
  },
  {
   "cell_type": "code",
   "execution_count": 109,
   "metadata": {},
   "outputs": [
    {
     "data": {
      "text/html": [
       "<div>\n",
       "<style scoped>\n",
       "    .dataframe tbody tr th:only-of-type {\n",
       "        vertical-align: middle;\n",
       "    }\n",
       "\n",
       "    .dataframe tbody tr th {\n",
       "        vertical-align: top;\n",
       "    }\n",
       "\n",
       "    .dataframe thead th {\n",
       "        text-align: right;\n",
       "    }\n",
       "</style>\n",
       "<table border=\"1\" class=\"dataframe\">\n",
       "  <thead>\n",
       "    <tr style=\"text-align: right;\">\n",
       "      <th></th>\n",
       "      <th>Año</th>\n",
       "      <th>Trimestre</th>\n",
       "      <th>Banda ancha fija</th>\n",
       "      <th>Dial up</th>\n",
       "      <th>Total</th>\n",
       "      <th>Periodo</th>\n",
       "      <th>fecha</th>\n",
       "    </tr>\n",
       "  </thead>\n",
       "  <tbody>\n",
       "    <tr>\n",
       "      <th>0</th>\n",
       "      <td>2022</td>\n",
       "      <td>1</td>\n",
       "      <td>10.611.390</td>\n",
       "      <td>12.619</td>\n",
       "      <td>10.624.009</td>\n",
       "      <td>Ene-Mar 2022</td>\n",
       "      <td>2022-03-31</td>\n",
       "    </tr>\n",
       "    <tr>\n",
       "      <th>1</th>\n",
       "      <td>2021</td>\n",
       "      <td>4</td>\n",
       "      <td>10.476.933</td>\n",
       "      <td>12.861</td>\n",
       "      <td>10.489.794</td>\n",
       "      <td>Oct-Dic 2021</td>\n",
       "      <td>2021-12-31</td>\n",
       "    </tr>\n",
       "    <tr>\n",
       "      <th>2</th>\n",
       "      <td>2021</td>\n",
       "      <td>3</td>\n",
       "      <td>10.075.184</td>\n",
       "      <td>10.357</td>\n",
       "      <td>10.085.541</td>\n",
       "      <td>Jul-Sept 2021</td>\n",
       "      <td>2021-09-30</td>\n",
       "    </tr>\n",
       "    <tr>\n",
       "      <th>3</th>\n",
       "      <td>2021</td>\n",
       "      <td>2</td>\n",
       "      <td>9.852.702</td>\n",
       "      <td>10.382</td>\n",
       "      <td>9.863.084</td>\n",
       "      <td>Abr-Jun 2021</td>\n",
       "      <td>2021-06-30</td>\n",
       "    </tr>\n",
       "    <tr>\n",
       "      <th>4</th>\n",
       "      <td>2021</td>\n",
       "      <td>1</td>\n",
       "      <td>9.637.956</td>\n",
       "      <td>10.016</td>\n",
       "      <td>9.647.972</td>\n",
       "      <td>Ene-Mar 2021</td>\n",
       "      <td>2021-03-31</td>\n",
       "    </tr>\n",
       "  </tbody>\n",
       "</table>\n",
       "</div>"
      ],
      "text/plain": [
       "    Año Trimestre Banda ancha fija  Dial up       Total        Periodo  \\\n",
       "0  2022         1       10.611.390   12.619  10.624.009   Ene-Mar 2022   \n",
       "1  2021         4       10.476.933   12.861  10.489.794   Oct-Dic 2021   \n",
       "2  2021         3       10.075.184   10.357  10.085.541  Jul-Sept 2021   \n",
       "3  2021         2        9.852.702   10.382   9.863.084   Abr-Jun 2021   \n",
       "4  2021         1        9.637.956   10.016   9.647.972   Ene-Mar 2021   \n",
       "\n",
       "       fecha  \n",
       "0 2022-03-31  \n",
       "1 2021-12-31  \n",
       "2 2021-09-30  \n",
       "3 2021-06-30  \n",
       "4 2021-03-31  "
      ]
     },
     "execution_count": 109,
     "metadata": {},
     "output_type": "execute_result"
    }
   ],
   "source": [
    "tot_trim_anchayangosta.head()"
   ]
  },
  {
   "cell_type": "code",
   "execution_count": 101,
   "metadata": {},
   "outputs": [],
   "source": [
    "#FUNCION PARA PASAR A FECHA LAS COLUMNAS Anio + Trimestre:\n",
    "#primero los paso a str: VER EN CADA CASO, SI YA VIENEN COMO str? igual a lo sumo no hace nada! \n",
    "tot_trim_anchayangosta=tot_trim_anchayangosta.astype({'Año':str,'Trimestre':str})\n",
    "#ahora los concateno, para q queden en formato tipo '2018-Q1':\n",
    "tot_trim_anchayangosta['fecha']=tot_trim_anchayangosta['Año']+'-Q'+tot_trim_anchayangosta['Trimestre']\n",
    "#ahora:\n",
    "tot_trim_anchayangosta['fecha'] = pd.to_datetime(tot_trim_anchayangosta['fecha'])+ pd.offsets.QuarterEnd(0)\n",
    "# el offsets.... es para q lo ponga en el FINAL del Trimestre. "
   ]
  },
  {
   "cell_type": "code",
   "execution_count": 223,
   "metadata": {},
   "outputs": [],
   "source": [
    "# lo exporto para usar en Tableau:\n",
    "tot_trim_anchayangosta.to_csv(r'para_Tableau/tot_trim_anchayangosta16.csv', index=False)"
   ]
  },
  {
   "cell_type": "markdown",
   "metadata": {},
   "source": [
    "Eel numero 4 me proporciona esta info, por provincia. \n",
    "PERO puedo utilizarla para el KPI a nivel nacional..."
   ]
  },
  {
   "cell_type": "markdown",
   "metadata": {},
   "source": [
    "Por falta de tiempo, directamente paso a la creacion del Dashboard, siendo mas rapida la visualizacion de los datos alli. Por cuestiones de OS, utilizo Tableau."
   ]
  },
  {
   "cell_type": "markdown",
   "metadata": {},
   "source": [
    "\n",
    "ELECCION DE KPI'S: \n",
    "\n",
    "REQUERIDO:  aumento o disminución de la variación porcentual trimestral del servicio de internet, cada 100 hogares por provincia.\n",
    "\n",
    "Eleccion de 3 KPI adicionales:   (Rdo: KPI=Key Performance Indicator) \n",
    "\n",
    "- VARIACION PORCENTUAL (trimestral) de la VELOCIDAD MEDIA DE BAJADA, a nivel nacional, sirve para saber rapidamente si el servicio de una empresa (su vel de bajada) esta por encima o por debajo del promedio a nivel pais. El objetivo seria que siempre crezca, idealmente superando la media.\n",
    "\n",
    "- VARIACION PORCENTUAL (trimestral) del ingreso total por servicios de internet fijo, a nivel nacional. Nuevamente, muy util como parametro de comparacion, comparado al propio de cada empresa. \n",
    "\n",
    "- RATIO FIBRA OPTICA / TOTAL CONECCIONES, filtrado por provincia. Utilizo este ya que observo gran potencial en este tipo de coneccion, que observa un alto crecimiento en la mayoria de las provincias en los anios mas recientes. \n"
   ]
  },
  {
   "cell_type": "markdown",
   "metadata": {},
   "source": [
    "Ya teniendo el Dashboard realizado, paso al REPORTE, en el archivo REPORTE.md de esta carpeta."
   ]
  }
 ],
 "metadata": {
  "kernelspec": {
   "display_name": "Python 3.9.6 64-bit",
   "language": "python",
   "name": "python3"
  },
  "language_info": {
   "codemirror_mode": {
    "name": "ipython",
    "version": 3
   },
   "file_extension": ".py",
   "mimetype": "text/x-python",
   "name": "python",
   "nbconvert_exporter": "python",
   "pygments_lexer": "ipython3",
   "version": "3.9.6"
  },
  "orig_nbformat": 4,
  "vscode": {
   "interpreter": {
    "hash": "31f2aee4e71d21fbe5cf8b01ff0e069b9275f58929596ceb00d14d90e3e16cd6"
   }
  }
 },
 "nbformat": 4,
 "nbformat_minor": 2
}
